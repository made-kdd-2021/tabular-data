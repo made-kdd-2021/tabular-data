{
 "cells": [
  {
   "cell_type": "markdown",
   "id": "optimum-gamma",
   "metadata": {},
   "source": [
    "## Курсовой проект по курсу \"Интерпретируемый ИИ и майнинг данных\"\n",
    "### Часть 1: Работа с табличными данными\n",
    "### Этап 2: Preprocessing"
   ]
  },
  {
   "cell_type": "markdown",
   "id": "prescribed-confusion",
   "metadata": {},
   "source": [
    "## Шаг 1: Подготовка инструментов"
   ]
  },
  {
   "cell_type": "markdown",
   "id": "endless-webcam",
   "metadata": {},
   "source": [
    "### 1.1 Необходимые модули"
   ]
  },
  {
   "cell_type": "code",
   "execution_count": 1,
   "id": "sophisticated-jacket",
   "metadata": {},
   "outputs": [],
   "source": [
    "import numpy as np\n",
    "import pandas as pd\n",
    "\n",
    "from sklearn.pipeline import Pipeline\n",
    "from sklearn.preprocessing import MinMaxScaler, OneHotEncoder\n",
    "from sklearn.compose import ColumnTransformer\n",
    "from sklearn.base import BaseEstimator, TransformerMixin\n",
    "import dill\n",
    "\n",
    "import warnings\n",
    "warnings.filterwarnings('ignore')"
   ]
  },
  {
   "cell_type": "code",
   "execution_count": 2,
   "id": "subjective-title",
   "metadata": {},
   "outputs": [],
   "source": [
    "class ColumnSelector(BaseEstimator, TransformerMixin):\n",
    "    \"\"\"\n",
    "    Transformer to select all columns from the data frame to perform additional transformations on\n",
    "    \"\"\"\n",
    "    def __init__(self, key=None):\n",
    "        self.key = key\n",
    "\n",
    "    def fit(self, X, y=None):\n",
    "        return self\n",
    "\n",
    "    def transform(self, X):\n",
    "        return X"
   ]
  },
  {
   "cell_type": "markdown",
   "id": "opponent-diploma",
   "metadata": {},
   "source": [
    "### 1.2 Загрузка данных"
   ]
  },
  {
   "cell_type": "code",
   "execution_count": 3,
   "id": "precise-crawford",
   "metadata": {},
   "outputs": [],
   "source": [
    "FULL_DATA_PATH = 'data/X_full.csv'"
   ]
  },
  {
   "cell_type": "code",
   "execution_count": 4,
   "id": "infinite-moldova",
   "metadata": {},
   "outputs": [
    {
     "data": {
      "text/plain": [
       "(917, 11)"
      ]
     },
     "metadata": {},
     "output_type": "display_data"
    }
   ],
   "source": [
    "df_base = pd.read_csv(FULL_DATA_PATH)\n",
    "df = df_base.copy()\n",
    "display(df.shape)"
   ]
  },
  {
   "cell_type": "markdown",
   "id": "discrete-collaboration",
   "metadata": {},
   "source": [
    "## Шаг 2: Подготовка пайплайнов"
   ]
  },
  {
   "cell_type": "markdown",
   "id": "complicated-estate",
   "metadata": {},
   "source": [
    "### 2.1 С обработкой категориальных признаков"
   ]
  },
  {
   "cell_type": "code",
   "execution_count": 5,
   "id": "polyphonic-burns",
   "metadata": {},
   "outputs": [
    {
     "data": {
      "text/plain": [
       "array(['Sex_F', 'Sex_M', 'ChestPainType_ASY', 'ChestPainType_ATA',\n",
       "       'ChestPainType_NAP', 'ChestPainType_TA', 'RestingECG_LVH',\n",
       "       'RestingECG_Normal', 'RestingECG_ST', 'ExerciseAngina_N',\n",
       "       'ExerciseAngina_Y', 'ST_Slope_Down', 'ST_Slope_Flat',\n",
       "       'ST_Slope_Up'], dtype=object)"
      ]
     },
     "execution_count": 5,
     "metadata": {},
     "output_type": "execute_result"
    }
   ],
   "source": [
    "num_features = df.select_dtypes(include=[np.number]).columns.to_list()\n",
    "num_transformer = Pipeline(steps=[\n",
    "    ('minmax', MinMaxScaler())])\n",
    "\n",
    "cat_features = df.select_dtypes(include=[np.object]).columns.to_list()\n",
    "cat_transformer = Pipeline(steps=[\n",
    "    ('ohe', OneHotEncoder(handle_unknown='ignore'))])\n",
    "\n",
    "preprocessor = ColumnTransformer(\n",
    "    transformers=[\n",
    "        ('num', num_transformer, num_features),\n",
    "        ('cat', cat_transformer, cat_features)])\n",
    "\n",
    "preprocessing = Pipeline(steps=[('preprocessor', preprocessor)])\n",
    "preprocessing.fit(df)\n",
    "\n",
    "preprocessing.named_steps['preprocessor'].transformers_[1][1].named_steps['ohe'].get_feature_names(cat_features)"
   ]
  },
  {
   "cell_type": "markdown",
   "id": "protecting-guest",
   "metadata": {},
   "source": [
    "### 2.2 Без обработки категориальных признаков"
   ]
  },
  {
   "cell_type": "code",
   "execution_count": 6,
   "id": "indian-mustang",
   "metadata": {},
   "outputs": [
    {
     "data": {
      "text/plain": [
       "['Sex', 'ChestPainType', 'RestingECG', 'ExerciseAngina', 'ST_Slope']"
      ]
     },
     "execution_count": 6,
     "metadata": {},
     "output_type": "execute_result"
    }
   ],
   "source": [
    "num_features = df.select_dtypes(include=[np.number]).columns.to_list()\n",
    "num_transformer = Pipeline(steps=[\n",
    "    ('minmax', MinMaxScaler())])\n",
    "\n",
    "cat_features = df.select_dtypes(include=[np.object]).columns.to_list()\n",
    "cat_transformer = Pipeline(steps=[\n",
    "    ('select', ColumnSelector())])\n",
    "\n",
    "preprocessor_without_cat = ColumnTransformer(\n",
    "    transformers=[\n",
    "        ('num', num_transformer, num_features),\n",
    "        ('cat', cat_transformer, cat_features)])\n",
    "\n",
    "preprocessing_without_cat = Pipeline(steps=[('preprocessor', preprocessor_without_cat)])\n",
    "preprocessing_without_cat.fit(df)\n",
    "\n",
    "cat_features"
   ]
  },
  {
   "cell_type": "markdown",
   "id": "accurate-arrow",
   "metadata": {},
   "source": [
    "### 2.3 Сохраним полученные пайплайны"
   ]
  },
  {
   "cell_type": "code",
   "execution_count": 7,
   "id": "aware-bacteria",
   "metadata": {},
   "outputs": [],
   "source": [
    "with open('prep_with_cat.dill', 'wb') as f1:\n",
    "    dill.dump(preprocessing, f1)"
   ]
  },
  {
   "cell_type": "code",
   "execution_count": 8,
   "id": "curious-plaza",
   "metadata": {},
   "outputs": [],
   "source": [
    "with open('prep_without_cat.dill', 'wb') as f2:\n",
    "    dill.dump(preprocessing_without_cat, f2)"
   ]
  }
 ],
 "metadata": {
  "kernelspec": {
   "display_name": "Python 3",
   "language": "python",
   "name": "python3"
  },
  "language_info": {
   "codemirror_mode": {
    "name": "ipython",
    "version": 3
   },
   "file_extension": ".py",
   "mimetype": "text/x-python",
   "name": "python",
   "nbconvert_exporter": "python",
   "pygments_lexer": "ipython3",
   "version": "3.7.8"
  }
 },
 "nbformat": 4,
 "nbformat_minor": 5
}
