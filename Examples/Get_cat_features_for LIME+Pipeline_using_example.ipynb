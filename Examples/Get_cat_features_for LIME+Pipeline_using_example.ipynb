{
 "cells": [
  {
   "cell_type": "markdown",
   "id": "familiar-drawing",
   "metadata": {},
   "source": [
    "### EXAMPLES\n",
    "### Категориальные признаки для LIME\n",
    "Понадобится для пункта 4 первой части проекта.\n",
    "### Пример использования пайплайна препроцессинга при обучении модели\n",
    "Понадобится для пункта 2 первой части проекта."
   ]
  },
  {
   "cell_type": "markdown",
   "id": "coastal-bristol",
   "metadata": {},
   "source": [
    "### Необходимые модули"
   ]
  },
  {
   "cell_type": "code",
   "execution_count": 1,
   "id": "lucky-contract",
   "metadata": {},
   "outputs": [],
   "source": [
    "import numpy as np\n",
    "import pandas as pd\n",
    "import dill\n",
    "from sklearn.linear_model import LogisticRegression\n",
    "from sklearn.pipeline import Pipeline\n",
    "from sklearn.metrics import roc_auc_score, f1_score\n",
    "\n",
    "import warnings\n",
    "warnings.filterwarnings('ignore')"
   ]
  },
  {
   "cell_type": "markdown",
   "id": "artistic-graph",
   "metadata": {},
   "source": [
    "### Загрузка пайплайнов препроцессинга"
   ]
  },
  {
   "cell_type": "code",
   "execution_count": 2,
   "id": "refined-parcel",
   "metadata": {},
   "outputs": [],
   "source": [
    "with open('../prep_with_cat.dill', 'rb') as prep_cat_pipeline:\n",
    "    prep_cat = dill.load(prep_cat_pipeline)"
   ]
  },
  {
   "cell_type": "code",
   "execution_count": 3,
   "id": "liquid-munich",
   "metadata": {},
   "outputs": [],
   "source": [
    "with open('../prep_without_cat.dill', 'rb') as prep_without_cat_pipeline:\n",
    "    prep_without_cat = dill.load(prep_without_cat_pipeline)"
   ]
  },
  {
   "cell_type": "markdown",
   "id": "objective-twins",
   "metadata": {},
   "source": [
    "### Загрузка данных"
   ]
  },
  {
   "cell_type": "code",
   "execution_count": 4,
   "id": "saving-optics",
   "metadata": {},
   "outputs": [],
   "source": [
    "TRAIN_DATA_PATH = '../data/X_train.csv'\n",
    "TRAIN_TARGET_PATH = '../data/y_train.csv'\n",
    "\n",
    "TEST_DATA_PATH = '../data/X_test.csv'\n",
    "TEST_TARGET_PATH = '../data/y_test.csv'"
   ]
  },
  {
   "cell_type": "code",
   "execution_count": 5,
   "id": "geographic-arrest",
   "metadata": {},
   "outputs": [
    {
     "data": {
      "text/plain": [
       "(641, 11)"
      ]
     },
     "metadata": {},
     "output_type": "display_data"
    },
    {
     "data": {
      "text/plain": [
       "(641, 1)"
      ]
     },
     "metadata": {},
     "output_type": "display_data"
    }
   ],
   "source": [
    "train_base = pd.read_csv(TRAIN_DATA_PATH)\n",
    "train = train_base.copy()\n",
    "train_target_base = pd.read_csv(TRAIN_TARGET_PATH)\n",
    "train_target = train_target_base.copy()\n",
    "display(train.shape, train_target.shape)"
   ]
  },
  {
   "cell_type": "code",
   "execution_count": 6,
   "id": "focused-irish",
   "metadata": {},
   "outputs": [
    {
     "data": {
      "text/plain": [
       "(276, 11)"
      ]
     },
     "metadata": {},
     "output_type": "display_data"
    },
    {
     "data": {
      "text/plain": [
       "(276, 1)"
      ]
     },
     "metadata": {},
     "output_type": "display_data"
    }
   ],
   "source": [
    "test_base = pd.read_csv(TEST_DATA_PATH)\n",
    "test = test_base.copy()\n",
    "test_target_base = pd.read_csv(TEST_TARGET_PATH)\n",
    "test_target = test_target_base.copy()\n",
    "display(test.shape, test_target.shape)"
   ]
  },
  {
   "cell_type": "markdown",
   "id": "drawn-auction",
   "metadata": {},
   "source": [
    "### Список категориальных признаков до кодирования - для LIME"
   ]
  },
  {
   "cell_type": "code",
   "execution_count": 7,
   "id": "synthetic-shareware",
   "metadata": {},
   "outputs": [
    {
     "data": {
      "text/html": [
       "<div>\n",
       "<style scoped>\n",
       "    .dataframe tbody tr th:only-of-type {\n",
       "        vertical-align: middle;\n",
       "    }\n",
       "\n",
       "    .dataframe tbody tr th {\n",
       "        vertical-align: top;\n",
       "    }\n",
       "\n",
       "    .dataframe thead th {\n",
       "        text-align: right;\n",
       "    }\n",
       "</style>\n",
       "<table border=\"1\" class=\"dataframe\">\n",
       "  <thead>\n",
       "    <tr style=\"text-align: right;\">\n",
       "      <th></th>\n",
       "      <th>Age</th>\n",
       "      <th>Sex</th>\n",
       "      <th>ChestPainType</th>\n",
       "      <th>RestingBP</th>\n",
       "      <th>Cholesterol</th>\n",
       "      <th>FastingBS</th>\n",
       "      <th>RestingECG</th>\n",
       "      <th>MaxHR</th>\n",
       "      <th>ExerciseAngina</th>\n",
       "      <th>Oldpeak</th>\n",
       "      <th>ST_Slope</th>\n",
       "    </tr>\n",
       "  </thead>\n",
       "  <tbody>\n",
       "    <tr>\n",
       "      <th>0</th>\n",
       "      <td>54</td>\n",
       "      <td>F</td>\n",
       "      <td>NAP</td>\n",
       "      <td>108</td>\n",
       "      <td>267</td>\n",
       "      <td>0</td>\n",
       "      <td>LVH</td>\n",
       "      <td>167</td>\n",
       "      <td>N</td>\n",
       "      <td>0.0</td>\n",
       "      <td>Up</td>\n",
       "    </tr>\n",
       "    <tr>\n",
       "      <th>1</th>\n",
       "      <td>55</td>\n",
       "      <td>M</td>\n",
       "      <td>ASY</td>\n",
       "      <td>120</td>\n",
       "      <td>226</td>\n",
       "      <td>0</td>\n",
       "      <td>LVH</td>\n",
       "      <td>127</td>\n",
       "      <td>Y</td>\n",
       "      <td>1.7</td>\n",
       "      <td>Down</td>\n",
       "    </tr>\n",
       "    <tr>\n",
       "      <th>2</th>\n",
       "      <td>62</td>\n",
       "      <td>F</td>\n",
       "      <td>ASY</td>\n",
       "      <td>160</td>\n",
       "      <td>164</td>\n",
       "      <td>0</td>\n",
       "      <td>LVH</td>\n",
       "      <td>145</td>\n",
       "      <td>N</td>\n",
       "      <td>6.2</td>\n",
       "      <td>Down</td>\n",
       "    </tr>\n",
       "  </tbody>\n",
       "</table>\n",
       "</div>"
      ],
      "text/plain": [
       "   Age Sex ChestPainType  RestingBP  Cholesterol  FastingBS RestingECG  MaxHR  \\\n",
       "0   54   F           NAP        108          267          0        LVH    167   \n",
       "1   55   M           ASY        120          226          0        LVH    127   \n",
       "2   62   F           ASY        160          164          0        LVH    145   \n",
       "\n",
       "  ExerciseAngina  Oldpeak ST_Slope  \n",
       "0              N      0.0       Up  \n",
       "1              Y      1.7     Down  \n",
       "2              N      6.2     Down  "
      ]
     },
     "execution_count": 7,
     "metadata": {},
     "output_type": "execute_result"
    }
   ],
   "source": [
    "train.head(3)"
   ]
  },
  {
   "cell_type": "code",
   "execution_count": 8,
   "id": "derived-giant",
   "metadata": {},
   "outputs": [
    {
     "name": "stdout",
     "output_type": "stream",
     "text": [
      "['Sex', 'ChestPainType', 'RestingECG', 'ExerciseAngina', 'ST_Slope']\n",
      "[1, 2, 6, 8, 10]\n"
     ]
    }
   ],
   "source": [
    "cat_features = train.select_dtypes(include=[object]).columns.to_list()\n",
    "cat_features_indices = [1, 2, 6, 8, 10]\n",
    "print(cat_features)\n",
    "print(cat_features_indices)"
   ]
  },
  {
   "cell_type": "markdown",
   "id": "psychological-seeker",
   "metadata": {},
   "source": [
    "### Список категориальных признаков после кодирования"
   ]
  },
  {
   "cell_type": "code",
   "execution_count": 9,
   "id": "reasonable-clinton",
   "metadata": {},
   "outputs": [
    {
     "name": "stdout",
     "output_type": "stream",
     "text": [
      "['Sex_F' 'Sex_M' 'ChestPainType_ASY' 'ChestPainType_ATA'\n",
      " 'ChestPainType_NAP' 'ChestPainType_TA' 'RestingECG_LVH'\n",
      " 'RestingECG_Normal' 'RestingECG_ST' 'ExerciseAngina_N' 'ExerciseAngina_Y'\n",
      " 'ST_Slope_Down' 'ST_Slope_Flat' 'ST_Slope_Up']\n",
      "[6, 7, 8, 9, 10, 11, 12, 13, 14, 15, 16, 17, 18, 19]\n"
     ]
    }
   ],
   "source": [
    "ohe_cat_features = prep_cat.named_steps['preprocessor'].transformers_[1][1].named_steps['ohe'].get_feature_names(cat_features)\n",
    "ohe_cat_features_indices = [6, 7, 8, 9, 10, 11, 12, 13, 14, 15, 16, 17, 18, 19]\n",
    "print(ohe_cat_features)\n",
    "print(ohe_cat_features_indices)"
   ]
  },
  {
   "cell_type": "markdown",
   "id": "gentle-exhibit",
   "metadata": {},
   "source": [
    "### Модель для примера LogisticRegression"
   ]
  },
  {
   "cell_type": "code",
   "execution_count": 10,
   "id": "separate-ordinance",
   "metadata": {},
   "outputs": [
    {
     "data": {
      "text/plain": [
       "Pipeline(steps=[('preprocessing',\n",
       "                 Pipeline(steps=[('preprocessor',\n",
       "                                  ColumnTransformer(transformers=[('num',\n",
       "                                                                   Pipeline(steps=[('minmax',\n",
       "                                                                                    MinMaxScaler())]),\n",
       "                                                                   ['Age',\n",
       "                                                                    'RestingBP',\n",
       "                                                                    'Cholesterol',\n",
       "                                                                    'FastingBS',\n",
       "                                                                    'MaxHR',\n",
       "                                                                    'Oldpeak']),\n",
       "                                                                  ('cat',\n",
       "                                                                   Pipeline(steps=[('ohe',\n",
       "                                                                                    OneHotEncoder(handle_unknown='ignore'))]),\n",
       "                                                                   ['Sex',\n",
       "                                                                    'ChestPainType',\n",
       "                                                                    'RestingECG',\n",
       "                                                                    'ExerciseAngina',\n",
       "                                                                    'ST_Slope'])]))])),\n",
       "                ('classifier', LogisticRegression(random_state=0))])"
      ]
     },
     "execution_count": 10,
     "metadata": {},
     "output_type": "execute_result"
    }
   ],
   "source": [
    "classifier = Pipeline([\n",
    "    ('preprocessing', prep_cat),\n",
    "    ('classifier', LogisticRegression(random_state = 0)),\n",
    "])\n",
    "\n",
    "classifier.fit(train, train_target)"
   ]
  },
  {
   "cell_type": "code",
   "execution_count": 11,
   "id": "threatened-dairy",
   "metadata": {},
   "outputs": [],
   "source": [
    "y_pred_proba = classifier.predict_proba(test)\n",
    "y_pred = classifier.predict(test)"
   ]
  },
  {
   "cell_type": "code",
   "execution_count": 12,
   "id": "royal-input",
   "metadata": {},
   "outputs": [
    {
     "name": "stdout",
     "output_type": "stream",
     "text": [
      "ROC_AUC: 0.9447367022689834\n",
      "F1 SCORE: 0.8686868686868686\n"
     ]
    }
   ],
   "source": [
    "print(f'ROC_AUC: {roc_auc_score(test_target, y_pred_proba.T[1])}')\n",
    "print(f'F1 SCORE: {f1_score(test_target, y_pred)}')"
   ]
  },
  {
   "cell_type": "markdown",
   "id": "actual-enlargement",
   "metadata": {},
   "source": [
    "### Сохранение обученной модели"
   ]
  },
  {
   "cell_type": "code",
   "execution_count": 13,
   "id": "polish-birmingham",
   "metadata": {},
   "outputs": [],
   "source": [
    "with open(\"example_model_LR_example.dill\", \"wb\") as f:\n",
    "    dill.dump(classifier, f)"
   ]
  }
 ],
 "metadata": {
  "kernelspec": {
   "display_name": "Python 3",
   "language": "python",
   "name": "python3"
  },
  "language_info": {
   "codemirror_mode": {
    "name": "ipython",
    "version": 3
   },
   "file_extension": ".py",
   "mimetype": "text/x-python",
   "name": "python",
   "nbconvert_exporter": "python",
   "pygments_lexer": "ipython3",
   "version": "3.7.8"
  }
 },
 "nbformat": 4,
 "nbformat_minor": 5
}
