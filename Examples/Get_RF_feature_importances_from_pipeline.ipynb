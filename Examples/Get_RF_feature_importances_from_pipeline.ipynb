{
 "cells": [
  {
   "cell_type": "markdown",
   "id": "worth-agenda",
   "metadata": {},
   "source": [
    "### Важность признаков, получаемая с помощью модели на основе ансамбля деревьев решений.\n",
    "Понадобится для пункта 3.1 первой части проекта."
   ]
  },
  {
   "cell_type": "markdown",
   "id": "killing-partner",
   "metadata": {},
   "source": [
    "### Необходимые модули"
   ]
  },
  {
   "cell_type": "code",
   "execution_count": 1,
   "id": "negative-matter",
   "metadata": {},
   "outputs": [],
   "source": [
    "import dill\n",
    "import numpy as np\n",
    "import pandas as pd\n",
    "import matplotlib.pyplot as plt\n",
    "import seaborn as sns\n",
    "\n",
    "\n",
    "import warnings\n",
    "warnings.filterwarnings('ignore')\n",
    "\n",
    "%matplotlib inline"
   ]
  },
  {
   "cell_type": "markdown",
   "id": "horizontal-partition",
   "metadata": {},
   "source": [
    "### Функция для визуализации важностей признаков"
   ]
  },
  {
   "cell_type": "code",
   "execution_count": 2,
   "id": "technical-action",
   "metadata": {},
   "outputs": [],
   "source": [
    "def show_feature_importances(feature_names, feature_importances, get_top=None):\n",
    "    feature_importances = pd.DataFrame({'feature': feature_names, 'importance': feature_importances})\n",
    "    feature_importances = feature_importances.sort_values('importance', ascending=False)\n",
    "       \n",
    "    plt.figure(figsize = (20, len(feature_importances) * 0.355))\n",
    "    \n",
    "    sns.barplot(feature_importances['importance'], feature_importances['feature'])\n",
    "    \n",
    "    plt.xlabel('Importance')\n",
    "    plt.title('Importance of features')\n",
    "    plt.show()\n",
    "    \n",
    "    if get_top is not None:\n",
    "        return feature_importances['feature'][:get_top].tolist()"
   ]
  },
  {
   "cell_type": "markdown",
   "id": "running-swiss",
   "metadata": {},
   "source": [
    "### Загрузка обученной модели RandomForestClassifier"
   ]
  },
  {
   "cell_type": "code",
   "execution_count": 3,
   "id": "aggressive-address",
   "metadata": {},
   "outputs": [],
   "source": [
    "with open('../models/model_RandomForestClassifier.dill', 'rb') as rf:\n",
    "    rf_model = dill.load(rf)"
   ]
  },
  {
   "cell_type": "markdown",
   "id": "disciplinary-nevada",
   "metadata": {},
   "source": [
    "Достаем из модели названия числовых признаков"
   ]
  },
  {
   "cell_type": "code",
   "execution_count": 4,
   "id": "corresponding-indian",
   "metadata": {},
   "outputs": [
    {
     "data": {
      "text/plain": [
       "['Age', 'RestingBP', 'Cholesterol', 'FastingBS', 'MaxHR', 'Oldpeak']"
      ]
     },
     "execution_count": 4,
     "metadata": {},
     "output_type": "execute_result"
    }
   ],
   "source": [
    "num_features = rf_model[0].named_steps['preprocessor'].transformers_[0][2]\n",
    "num_features"
   ]
  },
  {
   "cell_type": "markdown",
   "id": "known-project",
   "metadata": {},
   "source": [
    "Достаем из модели названия категориальных признаков"
   ]
  },
  {
   "cell_type": "code",
   "execution_count": 5,
   "id": "weird-interest",
   "metadata": {},
   "outputs": [
    {
     "data": {
      "text/plain": [
       "['Sex', 'ChestPainType', 'RestingECG', 'ExerciseAngina', 'ST_Slope']"
      ]
     },
     "execution_count": 5,
     "metadata": {},
     "output_type": "execute_result"
    }
   ],
   "source": [
    "cat_features = rf_model[0].named_steps['preprocessor'].transformers_[1][2]\n",
    "cat_features"
   ]
  },
  {
   "cell_type": "markdown",
   "id": "likely-combining",
   "metadata": {},
   "source": [
    "Категориальные признаки в пайплайне преобразуются с помощью OneHotEncoding.<br>\n",
    "Достаем названия преобразованных категориальных признаков"
   ]
  },
  {
   "cell_type": "code",
   "execution_count": 6,
   "id": "interim-factor",
   "metadata": {},
   "outputs": [
    {
     "data": {
      "text/plain": [
       "array(['Sex_F', 'Sex_M', 'ChestPainType_ASY', 'ChestPainType_ATA',\n",
       "       'ChestPainType_NAP', 'ChestPainType_TA', 'RestingECG_LVH',\n",
       "       'RestingECG_Normal', 'RestingECG_ST', 'ExerciseAngina_N',\n",
       "       'ExerciseAngina_Y', 'ST_Slope_Down', 'ST_Slope_Flat',\n",
       "       'ST_Slope_Up'], dtype=object)"
      ]
     },
     "execution_count": 6,
     "metadata": {},
     "output_type": "execute_result"
    }
   ],
   "source": [
    "cat_features_ohe = rf_model[0].named_steps['preprocessor'].transformers_[1][1].named_steps['ohe'].get_feature_names(cat_features)\n",
    "cat_features_ohe"
   ]
  },
  {
   "cell_type": "markdown",
   "id": "toxic-charleston",
   "metadata": {},
   "source": [
    "Объединяем названия признаков в один список. В нашем пайплайне сначала преобразовываются числовые признаки, затем категориальные. И в преобразованном датасете признаки будут в том же порядке: сначала числовые, затем категориальные."
   ]
  },
  {
   "cell_type": "code",
   "execution_count": 7,
   "id": "isolated-lover",
   "metadata": {},
   "outputs": [
    {
     "name": "stdout",
     "output_type": "stream",
     "text": [
      "20:['Age', 'RestingBP', 'Cholesterol', 'FastingBS', 'MaxHR', 'Oldpeak', 'Sex_F', 'Sex_M', 'ChestPainType_ASY', 'ChestPainType_ATA', 'ChestPainType_NAP', 'ChestPainType_TA', 'RestingECG_LVH', 'RestingECG_Normal', 'RestingECG_ST', 'ExerciseAngina_N', 'ExerciseAngina_Y', 'ST_Slope_Down', 'ST_Slope_Flat', 'ST_Slope_Up']\n"
     ]
    }
   ],
   "source": [
    "features_names = num_features + list(cat_features_ohe)\n",
    "print(f'{len(features_names)}:{features_names}')"
   ]
  },
  {
   "cell_type": "markdown",
   "id": "selective-principal",
   "metadata": {},
   "source": [
    "Изобразим важности признаков на графике"
   ]
  },
  {
   "cell_type": "code",
   "execution_count": 8,
   "id": "perfect-consortium",
   "metadata": {},
   "outputs": [
    {
     "data": {
      "image/png": "[encoded data removed]",
      "text/plain": [
       "<Figure size 1440x511.2 with 1 Axes>"
      ]
     },
     "metadata": {
      "needs_background": "light"
     },
     "output_type": "display_data"
    }
   ],
   "source": [
    "important_features_top = show_feature_importances(features_names,\n",
    "                                                  rf_model[1].feature_importances_, get_top=20)"
   ]
  },
  {
   "cell_type": "markdown",
   "id": "incident-large",
   "metadata": {},
   "source": [
    "И выведем их в отсортированном по важности порядке"
   ]
  },
  {
   "cell_type": "code",
   "execution_count": 9,
   "id": "naked-paper",
   "metadata": {},
   "outputs": [
    {
     "data": {
      "text/html": [
       "<div>\n",
       "<style scoped>\n",
       "    .dataframe tbody tr th:only-of-type {\n",
       "        vertical-align: middle;\n",
       "    }\n",
       "\n",
       "    .dataframe tbody tr th {\n",
       "        vertical-align: top;\n",
       "    }\n",
       "\n",
       "    .dataframe thead th {\n",
       "        text-align: right;\n",
       "    }\n",
       "</style>\n",
       "<table border=\"1\" class=\"dataframe\">\n",
       "  <thead>\n",
       "    <tr style=\"text-align: right;\">\n",
       "      <th></th>\n",
       "      <th>feature</th>\n",
       "      <th>importance</th>\n",
       "    </tr>\n",
       "  </thead>\n",
       "  <tbody>\n",
       "    <tr>\n",
       "      <th>8</th>\n",
       "      <td>ChestPainType_ASY</td>\n",
       "      <td>0.133717</td>\n",
       "    </tr>\n",
       "    <tr>\n",
       "      <th>18</th>\n",
       "      <td>ST_Slope_Flat</td>\n",
       "      <td>0.131842</td>\n",
       "    </tr>\n",
       "    <tr>\n",
       "      <th>19</th>\n",
       "      <td>ST_Slope_Up</td>\n",
       "      <td>0.116850</td>\n",
       "    </tr>\n",
       "    <tr>\n",
       "      <th>4</th>\n",
       "      <td>MaxHR</td>\n",
       "      <td>0.094642</td>\n",
       "    </tr>\n",
       "    <tr>\n",
       "      <th>5</th>\n",
       "      <td>Oldpeak</td>\n",
       "      <td>0.093689</td>\n",
       "    </tr>\n",
       "    <tr>\n",
       "      <th>0</th>\n",
       "      <td>Age</td>\n",
       "      <td>0.069535</td>\n",
       "    </tr>\n",
       "    <tr>\n",
       "      <th>2</th>\n",
       "      <td>Cholesterol</td>\n",
       "      <td>0.060810</td>\n",
       "    </tr>\n",
       "    <tr>\n",
       "      <th>1</th>\n",
       "      <td>RestingBP</td>\n",
       "      <td>0.056026</td>\n",
       "    </tr>\n",
       "    <tr>\n",
       "      <th>16</th>\n",
       "      <td>ExerciseAngina_Y</td>\n",
       "      <td>0.042212</td>\n",
       "    </tr>\n",
       "    <tr>\n",
       "      <th>15</th>\n",
       "      <td>ExerciseAngina_N</td>\n",
       "      <td>0.035229</td>\n",
       "    </tr>\n",
       "    <tr>\n",
       "      <th>7</th>\n",
       "      <td>Sex_M</td>\n",
       "      <td>0.030665</td>\n",
       "    </tr>\n",
       "    <tr>\n",
       "      <th>3</th>\n",
       "      <td>FastingBS</td>\n",
       "      <td>0.028174</td>\n",
       "    </tr>\n",
       "    <tr>\n",
       "      <th>6</th>\n",
       "      <td>Sex_F</td>\n",
       "      <td>0.023267</td>\n",
       "    </tr>\n",
       "    <tr>\n",
       "      <th>9</th>\n",
       "      <td>ChestPainType_ATA</td>\n",
       "      <td>0.022616</td>\n",
       "    </tr>\n",
       "    <tr>\n",
       "      <th>13</th>\n",
       "      <td>RestingECG_Normal</td>\n",
       "      <td>0.013863</td>\n",
       "    </tr>\n",
       "    <tr>\n",
       "      <th>10</th>\n",
       "      <td>ChestPainType_NAP</td>\n",
       "      <td>0.013359</td>\n",
       "    </tr>\n",
       "    <tr>\n",
       "      <th>12</th>\n",
       "      <td>RestingECG_LVH</td>\n",
       "      <td>0.013021</td>\n",
       "    </tr>\n",
       "    <tr>\n",
       "      <th>17</th>\n",
       "      <td>ST_Slope_Down</td>\n",
       "      <td>0.008552</td>\n",
       "    </tr>\n",
       "    <tr>\n",
       "      <th>14</th>\n",
       "      <td>RestingECG_ST</td>\n",
       "      <td>0.007232</td>\n",
       "    </tr>\n",
       "    <tr>\n",
       "      <th>11</th>\n",
       "      <td>ChestPainType_TA</td>\n",
       "      <td>0.004699</td>\n",
       "    </tr>\n",
       "  </tbody>\n",
       "</table>\n",
       "</div>"
      ],
      "text/plain": [
       "              feature  importance\n",
       "8   ChestPainType_ASY    0.133717\n",
       "18      ST_Slope_Flat    0.131842\n",
       "19        ST_Slope_Up    0.116850\n",
       "4               MaxHR    0.094642\n",
       "5             Oldpeak    0.093689\n",
       "0                 Age    0.069535\n",
       "2         Cholesterol    0.060810\n",
       "1           RestingBP    0.056026\n",
       "16   ExerciseAngina_Y    0.042212\n",
       "15   ExerciseAngina_N    0.035229\n",
       "7               Sex_M    0.030665\n",
       "3           FastingBS    0.028174\n",
       "6               Sex_F    0.023267\n",
       "9   ChestPainType_ATA    0.022616\n",
       "13  RestingECG_Normal    0.013863\n",
       "10  ChestPainType_NAP    0.013359\n",
       "12     RestingECG_LVH    0.013021\n",
       "17      ST_Slope_Down    0.008552\n",
       "14      RestingECG_ST    0.007232\n",
       "11   ChestPainType_TA    0.004699"
      ]
     },
     "execution_count": 9,
     "metadata": {},
     "output_type": "execute_result"
    }
   ],
   "source": [
    "feature_importances = pd.DataFrame(data={'feature': features_names, 'importance': rf_model[1].feature_importances_})\n",
    "feature_importances.sort_values(by=['importance'], ascending=False)"
   ]
  },
  {
   "cell_type": "code",
   "execution_count": null,
   "id": "iraqi-gateway",
   "metadata": {},
   "outputs": [],
   "source": []
  }
 ],
 "metadata": {
  "kernelspec": {
   "display_name": "Python 3",
   "language": "python",
   "name": "python3"
  },
  "language_info": {
   "codemirror_mode": {
    "name": "ipython",
    "version": 3
   },
   "file_extension": ".py",
   "mimetype": "text/x-python",
   "name": "python",
   "nbconvert_exporter": "python",
   "pygments_lexer": "ipython3",
   "version": "3.7.8"
  }
 },
 "nbformat": 4,
 "nbformat_minor": 5
}
