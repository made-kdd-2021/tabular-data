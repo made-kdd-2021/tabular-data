{
 "cells": [
  {
   "cell_type": "markdown",
   "metadata": {
    "id": "4gGHEBcm-Gbz"
   },
   "source": [
    "# **Этап 3.1: Построение моделей: Logistic Regression**"
   ]
  },
  {
   "cell_type": "markdown",
   "metadata": {
    "id": "w64cMKaG-jDQ"
   },
   "source": [
    "# **Шаг 1: Подготовка инструментов**"
   ]
  },
  {
   "cell_type": "markdown",
   "metadata": {
    "id": "lRMCFOJJ_AHN"
   },
   "source": [
    "**1.1 Необходимые модули и функции**"
   ]
  },
  {
   "cell_type": "code",
   "execution_count": 1,
   "metadata": {
    "id": "NMswGiq413NU"
   },
   "outputs": [],
   "source": [
    "import io\n",
    "from sklearn.pipeline import Pipeline\n",
    "import pandas as pd\n",
    "import dill\n",
    "import numpy as np\n",
    "import matplotlib.pyplot as plt\n",
    "from sklearn.linear_model import LogisticRegression\n",
    "from sklearn.metrics import roc_auc_score, f1_score\n",
    "from sklearn.metrics import classification_report, plot_confusion_matrix\n",
    "from sklearn.model_selection import cross_val_score, GridSearchCV, StratifiedKFold\n",
    "\n",
    "import warnings\n",
    "warnings.filterwarnings('ignore')\n",
    "\n",
    "%matplotlib inline"
   ]
  },
  {
   "cell_type": "code",
   "execution_count": 2,
   "metadata": {
    "id": "LjPe173a_Q5c"
   },
   "outputs": [],
   "source": [
    "def get_classification_report(y_train_true, y_train_pred, y_test_true, y_test_pred):\n",
    "    print('TRAIN\\n\\n' + classification_report(y_train_true, y_train_pred))\n",
    "    print('TEST\\n\\n' + classification_report(y_test_true, y_test_pred))"
   ]
  },
  {
   "cell_type": "markdown",
   "metadata": {
    "id": "uFQTGkczH-Ym"
   },
   "source": [
    "\n",
    "**1.2 Загрузка пайплайна препроцессинга**\n"
   ]
  },
  {
   "cell_type": "code",
   "execution_count": 3,
   "metadata": {
    "colab": {
     "base_uri": "https://localhost:8080/",
     "height": 234,
     "resources": {
      "http://localhost:8080/nbextensions/google.colab/files.js": {
       "data": "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",
       "headers": [
        [
         "content-type",
         "application/javascript"
        ]
       ],
       "ok": true,
       "status": 200,
       "status_text": "OK"
      }
     }
    },
    "id": "oAX-N660IEoS",
    "outputId": "059c5deb-cc72-485b-b734-eb403d916597"
   },
   "outputs": [],
   "source": [
    "with open('../EDA_and_Preprocessing/prep_with_cat.dill', 'rb') as prep_cat_pipeline:\n",
    "    prep_cat = dill.load(prep_cat_pipeline)"
   ]
  },
  {
   "cell_type": "markdown",
   "metadata": {
    "id": "gNaKSve5_igb"
   },
   "source": [
    "**1.3 Загрузка данных**"
   ]
  },
  {
   "cell_type": "code",
   "execution_count": 4,
   "metadata": {
    "colab": {
     "base_uri": "https://localhost:8080/",
     "height": 248,
     "resources": {
      "http://localhost:8080/nbextensions/google.colab/files.js": {
       "data": "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",
       "headers": [
        [
         "content-type",
         "application/javascript"
        ]
       ],
       "ok": true,
       "status": 200,
       "status_text": "OK"
      }
     }
    },
    "id": "x3DQqc347kzH",
    "outputId": "b31327c1-f325-4ea9-e324-3d1125b4d010"
   },
   "outputs": [],
   "source": [
    "TRAIN_DATA_PATH = '../data/X_train.csv'\n",
    "TRAIN_TARGET_PATH = '../data/y_train.csv'\n",
    "\n",
    "TEST_DATA_PATH = '../data/X_test.csv'\n",
    "TEST_TARGET_PATH = '../data/y_test.csv'"
   ]
  },
  {
   "cell_type": "code",
   "execution_count": 5,
   "metadata": {
    "colab": {
     "base_uri": "https://localhost:8080/",
     "height": 52
    },
    "id": "GAMqibwCDNPB",
    "outputId": "ded549ab-ec4d-48d9-dc92-0eb3fef3339c"
   },
   "outputs": [
    {
     "data": {
      "text/plain": [
       "(641, 11)"
      ]
     },
     "metadata": {},
     "output_type": "display_data"
    },
    {
     "data": {
      "text/plain": [
       "(641, 1)"
      ]
     },
     "metadata": {},
     "output_type": "display_data"
    }
   ],
   "source": [
    "train_base = pd.read_csv(TRAIN_DATA_PATH)\n",
    "train = train_base.copy()\n",
    "train_target_base = pd.read_csv(TRAIN_TARGET_PATH)\n",
    "train_target = train_target_base.copy()\n",
    "display(train.shape, train_target.shape)"
   ]
  },
  {
   "cell_type": "code",
   "execution_count": 6,
   "metadata": {
    "colab": {
     "base_uri": "https://localhost:8080/",
     "height": 52
    },
    "id": "nlBcKFHLFU_e",
    "outputId": "28aed68a-19f5-4346-af41-ed0188b591ff"
   },
   "outputs": [
    {
     "data": {
      "text/plain": [
       "(276, 11)"
      ]
     },
     "metadata": {},
     "output_type": "display_data"
    },
    {
     "data": {
      "text/plain": [
       "(276, 1)"
      ]
     },
     "metadata": {},
     "output_type": "display_data"
    }
   ],
   "source": [
    "test_base = pd.read_csv(TEST_DATA_PATH)\n",
    "test = test_base.copy()\n",
    "test_target_base = pd.read_csv(TEST_TARGET_PATH)\n",
    "test_target = test_target_base.copy()\n",
    "display(test.shape, test_target.shape)"
   ]
  },
  {
   "cell_type": "markdown",
   "metadata": {
    "id": "eP-hgVWVBTkI"
   },
   "source": [
    "# **Шаг 2: Построение модели**"
   ]
  },
  {
   "cell_type": "markdown",
   "metadata": {
    "id": "8EPwZ06UBe7F"
   },
   "source": [
    "**2.1 Baseline**"
   ]
  },
  {
   "cell_type": "markdown",
   "metadata": {
    "id": "5btCLvNjC61E"
   },
   "source": [
    "Обучим модель с параметрами по умолчанию на тренировочной выборке."
   ]
  },
  {
   "cell_type": "code",
   "execution_count": 7,
   "metadata": {
    "colab": {
     "base_uri": "https://localhost:8080/"
    },
    "id": "E2ggjLS3Bdf5",
    "outputId": "3488a41f-16f0-4bb7-ccae-b088926b541a"
   },
   "outputs": [
    {
     "data": {
      "text/plain": [
       "Pipeline(steps=[('preprocessing',\n",
       "                 Pipeline(steps=[('preprocessor',\n",
       "                                  ColumnTransformer(transformers=[('num',\n",
       "                                                                   Pipeline(steps=[('minmax',\n",
       "                                                                                    MinMaxScaler())]),\n",
       "                                                                   ['Age',\n",
       "                                                                    'RestingBP',\n",
       "                                                                    'Cholesterol',\n",
       "                                                                    'FastingBS',\n",
       "                                                                    'MaxHR',\n",
       "                                                                    'Oldpeak']),\n",
       "                                                                  ('cat',\n",
       "                                                                   Pipeline(steps=[('ohe',\n",
       "                                                                                    OneHotEncoder(handle_unknown='ignore'))]),\n",
       "                                                                   ['Sex',\n",
       "                                                                    'ChestPainType',\n",
       "                                                                    'RestingECG',\n",
       "                                                                    'ExerciseAngina',\n",
       "                                                                    'ST_Slope'])]))])),\n",
       "                ('classifier', LogisticRegression(random_state=0))])"
      ]
     },
     "execution_count": 7,
     "metadata": {},
     "output_type": "execute_result"
    }
   ],
   "source": [
    "classifier = Pipeline([\n",
    "    ('preprocessing', prep_cat),\n",
    "    ('classifier', LogisticRegression(random_state = 0)),\n",
    "])\n",
    "\n",
    "classifier.fit(train, train_target)"
   ]
  },
  {
   "cell_type": "code",
   "execution_count": 8,
   "metadata": {
    "colab": {
     "base_uri": "https://localhost:8080/"
    },
    "id": "HNy1TBR4GyAY",
    "outputId": "de2339ff-aa0d-471a-b960-e435aa1781b5"
   },
   "outputs": [
    {
     "name": "stdout",
     "output_type": "stream",
     "text": [
      "Train ROC_AUC: 0.9225870588003702\n",
      "Train F1 SCORE: 0.8694444444444445\n",
      "Test ROC_AUC: 0.9447367022689834\n",
      "Test F1 SCORE: 0.8686868686868686\n"
     ]
    }
   ],
   "source": [
    "train_pred_proba = classifier.predict_proba(train)\n",
    "train_pred = classifier.predict(train)\n",
    "test_pred_proba = classifier.predict_proba(test)\n",
    "test_pred = classifier.predict(test)\n",
    "print(f'Train ROC_AUC: {roc_auc_score(train_target, train_pred_proba.T[1])}')\n",
    "print(f'Train F1 SCORE: {f1_score(train_target, train_pred)}')\n",
    "print(f'Test ROC_AUC: {roc_auc_score(test_target, test_pred_proba.T[1])}')\n",
    "print(f'Test F1 SCORE: {f1_score(test_target, test_pred)}')"
   ]
  },
  {
   "cell_type": "code",
   "execution_count": 9,
   "metadata": {
    "colab": {
     "base_uri": "https://localhost:8080/"
    },
    "id": "5nnf8bs5UgOv",
    "outputId": "9350dfa0-bcfb-4312-dc71-85978bce08af"
   },
   "outputs": [
    {
     "name": "stdout",
     "output_type": "stream",
     "text": [
      "TRAIN\n",
      "\n",
      "              precision    recall  f1-score   support\n",
      "\n",
      "           0       0.85      0.82      0.83       287\n",
      "           1       0.86      0.88      0.87       354\n",
      "\n",
      "    accuracy                           0.85       641\n",
      "   macro avg       0.85      0.85      0.85       641\n",
      "weighted avg       0.85      0.85      0.85       641\n",
      "\n",
      "TEST\n",
      "\n",
      "              precision    recall  f1-score   support\n",
      "\n",
      "           0       0.82      0.88      0.85       123\n",
      "           1       0.90      0.84      0.87       153\n",
      "\n",
      "    accuracy                           0.86       276\n",
      "   macro avg       0.86      0.86      0.86       276\n",
      "weighted avg       0.86      0.86      0.86       276\n",
      "\n"
     ]
    }
   ],
   "source": [
    "get_classification_report(train_target['HeartDisease'], train_pred, test_target['HeartDisease'], test_pred)"
   ]
  },
  {
   "cell_type": "code",
   "execution_count": 10,
   "metadata": {
    "colab": {
     "base_uri": "https://localhost:8080/",
     "height": 279
    },
    "id": "sThBxqcHUk0H",
    "outputId": "1acbdf4c-4793-467c-e0dc-0bc6413cce7b"
   },
   "outputs": [
    {
     "data": {
      "image/png": "[encoded data removed]",
      "text/plain": [
       "<Figure size 432x288 with 2 Axes>"
      ]
     },
     "metadata": {
      "needs_background": "light"
     },
     "output_type": "display_data"
    }
   ],
   "source": [
    "plot_confusion_matrix(classifier, test, test_target['HeartDisease'], cmap=plt.cm.Blues);"
   ]
  },
  {
   "cell_type": "markdown",
   "metadata": {
    "id": "-E-mOQunU_LL"
   },
   "source": [
    "**2.2 Подбор гиперпараметров**"
   ]
  },
  {
   "cell_type": "markdown",
   "metadata": {
    "id": "_0gbnuJrVDD0"
   },
   "source": [
    "Гиперпараметры подбираем с помощью GridSearchCV с кроссвалидацией на 5 фолдов."
   ]
  },
  {
   "cell_type": "code",
   "execution_count": 11,
   "metadata": {
    "colab": {
     "base_uri": "https://localhost:8080/"
    },
    "id": "WxlR5_BNVHNV",
    "outputId": "a2db1bca-36d3-4f28-bc21-91db01df252c"
   },
   "outputs": [
    {
     "name": "stdout",
     "output_type": "stream",
     "text": [
      "Fitting 5 folds for each of 160 candidates, totalling 800 fits\n",
      "[CV 3/5] END C=0.0001, class_weight=None, penalty=l1, solver=lbfgs;, score=nan total time=   0.0s\n",
      "[CV 4/5] END C=0.0001, class_weight=None, penalty=l2, solver=lbfgs;, score=0.714 total time=   0.0s\n",
      "[CV 2/5] END C=0.0001, class_weight=None, penalty=l2, solver=liblinear;, score=0.821 total time=   0.0s\n",
      "[CV 4/5] END C=0.0001, class_weight=None, penalty=l2, solver=liblinear;, score=0.817 total time=   0.0s\n",
      "[CV 1/5] END C=0.0001, class_weight=balanced, penalty=l2, solver=lbfgs;, score=0.832 total time=   0.0s\n",
      "[CV 2/5] END C=0.0001, class_weight=balanced, penalty=l2, solver=liblinear;, score=0.872 total time=   0.0s\n",
      "[CV 3/5] END C=0.0001, class_weight=balanced, penalty=l2, solver=liblinear;, score=0.857 total time=   0.0s\n",
      "[CV 2/5] END C=0.00026366508987303583, class_weight=None, penalty=l1, solver=liblinear;, score=0.000 total time=   0.0s\n",
      "[CV 3/5] END C=0.00026366508987303583, class_weight=None, penalty=l1, solver=liblinear;, score=0.000 total time=   0.0s\n",
      "[CV 1/5] END C=0.00026366508987303583, class_weight=balanced, penalty=l1, solver=lbfgs;, score=nan total time=   0.0s\n",
      "[CV 2/5] END C=0.00026366508987303583, class_weight=balanced, penalty=l1, solver=lbfgs;, score=nan total time=   0.0s\n",
      "[CV 3/5] END C=0.00026366508987303583, class_weight=balanced, penalty=l1, solver=lbfgs;, score=nan total time=   0.0s\n",
      "[CV 4/5] END C=0.00026366508987303583, class_weight=balanced, penalty=l1, solver=lbfgs;, score=nan total time=   0.0s\n",
      "[CV 5/5] END C=0.00026366508987303583, class_weight=balanced, penalty=l1, solver=lbfgs;, score=nan total time=   0.0s\n",
      "[CV 1/5] END C=0.00026366508987303583, class_weight=balanced, penalty=l1, solver=liblinear;, score=0.000 total time=   0.0s\n",
      "[CV 2/5] END C=0.00026366508987303583, class_weight=balanced, penalty=l1, solver=liblinear;, score=0.000 total time=   0.0s\n",
      "[CV 3/5] END C=0.00026366508987303583, class_weight=balanced, penalty=l1, solver=liblinear;, score=0.000 total time=   0.0s\n",
      "[CV 4/5] END C=0.00026366508987303583, class_weight=balanced, penalty=l1, solver=liblinear;, score=0.000 total time=   0.0s\n",
      "[CV 5/5] END C=0.00026366508987303583, class_weight=balanced, penalty=l1, solver=liblinear;, score=0.000 total time=   0.0s\n",
      "[CV 1/5] END C=0.00026366508987303583, class_weight=balanced, penalty=l2, solver=lbfgs;, score=0.832 total time=   0.0s\n",
      "[CV 2/5] END C=0.00026366508987303583, class_weight=balanced, penalty=l2, solver=lbfgs;, score=0.869 total time=   0.0s\n",
      "[CV 2/5] END C=0.0006951927961775605, class_weight=None, penalty=l2, solver=liblinear;, score=0.831 total time=   0.0s\n",
      "[CV 3/5] END C=0.0006951927961775605, class_weight=None, penalty=l2, solver=liblinear;, score=0.859 total time=   0.0s\n",
      "[CV 4/5] END C=0.0006951927961775605, class_weight=None, penalty=l2, solver=liblinear;, score=0.852 total time=   0.0s\n",
      "[CV 5/5] END C=0.0006951927961775605, class_weight=None, penalty=l2, solver=liblinear;, score=0.852 total time=   0.0s\n",
      "[CV 1/5] END C=0.0006951927961775605, class_weight=balanced, penalty=l1, solver=lbfgs;, score=nan total time=   0.0s\n",
      "[CV 2/5] END C=0.0006951927961775605, class_weight=balanced, penalty=l1, solver=lbfgs;, score=nan total time=   0.0s\n",
      "[CV 3/5] END C=0.0006951927961775605, class_weight=balanced, penalty=l1, solver=lbfgs;, score=nan total time=   0.0s\n",
      "[CV 4/5] END C=0.0006951927961775605, class_weight=balanced, penalty=l1, solver=lbfgs;, score=nan total time=   0.0s\n",
      "[CV 1/5] END C=0.0018329807108324356, class_weight=None, penalty=l1, solver=lbfgs;, score=nan total time=   0.0s\n",
      "[CV 2/5] END C=0.0018329807108324356, class_weight=None, penalty=l1, solver=lbfgs;, score=nan total time=   0.0s\n",
      "[CV 3/5] END C=0.0018329807108324356, class_weight=None, penalty=l1, solver=lbfgs;, score=nan total time=   0.0s\n",
      "[CV 4/5] END C=0.0018329807108324356, class_weight=None, penalty=l1, solver=lbfgs;, score=nan total time=   0.0s\n",
      "[CV 5/5] END C=0.0018329807108324356, class_weight=None, penalty=l1, solver=lbfgs;, score=nan total time=   0.0s\n",
      "[CV 1/5] END C=0.0018329807108324356, class_weight=None, penalty=l1, solver=liblinear;, score=0.000 total time=   0.0s\n",
      "[CV 2/5] END C=0.0018329807108324356, class_weight=None, penalty=l1, solver=liblinear;, score=0.000 total time=   0.0s\n",
      "[CV 3/5] END C=0.0018329807108324356, class_weight=None, penalty=l1, solver=liblinear;, score=0.000 total time=   0.0s\n",
      "[CV 4/5] END C=0.0018329807108324356, class_weight=None, penalty=l1, solver=liblinear;, score=0.000 total time=   0.0s\n",
      "[CV 5/5] END C=0.0018329807108324356, class_weight=None, penalty=l1, solver=liblinear;, score=0.000 total time=   0.0s\n",
      "[CV 1/5] END C=0.0018329807108324356, class_weight=None, penalty=l2, solver=lbfgs;, score=0.855 total time=   0.0s\n",
      "[CV 2/5] END C=0.0018329807108324356, class_weight=None, penalty=l2, solver=lbfgs;, score=0.821 total time=   0.0s\n",
      "[CV 3/5] END C=0.0018329807108324356, class_weight=None, penalty=l2, solver=lbfgs;, score=0.855 total time=   0.0s\n",
      "[CV 4/5] END C=0.0018329807108324356, class_weight=None, penalty=l2, solver=lbfgs;, score=0.826 total time=   0.0s\n",
      "[CV 5/5] END C=0.0018329807108324356, class_weight=None, penalty=l2, solver=lbfgs;, score=0.836 total time=   0.0s\n",
      "[CV 1/5] END C=0.0018329807108324356, class_weight=None, penalty=l2, solver=liblinear;, score=0.865 total time=   0.0s\n",
      "[CV 3/5] END C=0.004832930238571752, class_weight=balanced, penalty=l2, solver=lbfgs;, score=0.853 total time=   0.0s\n",
      "[CV 4/5] END C=0.004832930238571752, class_weight=balanced, penalty=l2, solver=lbfgs;, score=0.865 total time=   0.0s\n",
      "[CV 5/5] END C=0.004832930238571752, class_weight=balanced, penalty=l2, solver=lbfgs;, score=0.853 total time=   0.0s\n",
      "[CV 1/5] END C=0.004832930238571752, class_weight=balanced, penalty=l2, solver=liblinear;, score=0.849 total time=   0.0s\n",
      "[CV 2/5] END C=0.004832930238571752, class_weight=balanced, penalty=l2, solver=liblinear;, score=0.869 total time=   0.0s\n",
      "[CV 3/5] END C=0.004832930238571752, class_weight=balanced, penalty=l2, solver=liblinear;, score=0.853 total time=   0.0s\n",
      "[CV 4/5] END C=0.004832930238571752, class_weight=balanced, penalty=l2, solver=liblinear;, score=0.867 total time=   0.0s\n",
      "[CV 5/5] END C=0.004832930238571752, class_weight=balanced, penalty=l2, solver=liblinear;, score=0.877 total time=   0.0s\n",
      "[CV 1/5] END C=0.012742749857031334, class_weight=None, penalty=l1, solver=lbfgs;, score=nan total time=   0.0s\n",
      "[CV 2/5] END C=0.012742749857031334, class_weight=None, penalty=l1, solver=lbfgs;, score=nan total time=   0.0s\n",
      "[CV 3/5] END C=0.012742749857031334, class_weight=None, penalty=l1, solver=lbfgs;, score=nan total time=   0.0s\n",
      "[CV 4/5] END C=0.012742749857031334, class_weight=None, penalty=l1, solver=lbfgs;, score=nan total time=   0.0s\n",
      "[CV 5/5] END C=0.012742749857031334, class_weight=None, penalty=l1, solver=lbfgs;, score=nan total time=   0.0s\n",
      "[CV 1/5] END C=0.012742749857031334, class_weight=None, penalty=l1, solver=liblinear;, score=0.850 total time=   0.0s\n",
      "[CV 2/5] END C=0.012742749857031334, class_weight=None, penalty=l1, solver=liblinear;, score=0.809 total time=   0.0s\n",
      "[CV 3/5] END C=0.012742749857031334, class_weight=None, penalty=l1, solver=liblinear;, score=0.783 total time=   0.0s\n",
      "[CV 2/5] END C=0.03359818286283781, class_weight=None, penalty=l2, solver=liblinear;, score=0.871 total time=   0.0s\n",
      "[CV 3/5] END C=0.03359818286283781, class_weight=None, penalty=l2, solver=liblinear;, score=0.863 total time=   0.0s\n",
      "[CV 4/5] END C=0.03359818286283781, class_weight=None, penalty=l2, solver=liblinear;, score=0.877 total time=   0.0s\n",
      "[CV 5/5] END C=0.03359818286283781, class_weight=None, penalty=l2, solver=liblinear;, score=0.887 total time=   0.0s\n",
      "[CV 1/5] END C=0.03359818286283781, class_weight=balanced, penalty=l1, solver=lbfgs;, score=nan total time=   0.0s\n",
      "[CV 2/5] END C=0.03359818286283781, class_weight=balanced, penalty=l1, solver=lbfgs;, score=nan total time=   0.0s\n",
      "[CV 3/5] END C=0.03359818286283781, class_weight=balanced, penalty=l1, solver=lbfgs;, score=nan total time=   0.0s\n",
      "[CV 4/5] END C=0.03359818286283781, class_weight=balanced, penalty=l1, solver=lbfgs;, score=nan total time=   0.0s\n",
      "[CV 5/5] END C=0.03359818286283781, class_weight=balanced, penalty=l1, solver=lbfgs;, score=nan total time=   0.0s\n"
     ]
    },
    {
     "name": "stdout",
     "output_type": "stream",
     "text": [
      "[CV 1/5] END C=0.03359818286283781, class_weight=balanced, penalty=l1, solver=liblinear;, score=0.806 total time=   0.0s[CV 4/5] END C=0.0001, class_weight=None, penalty=l1, solver=lbfgs;, score=nan total time=   0.0s\n",
      "[CV 3/5] END C=0.0001, class_weight=balanced, penalty=l1, solver=liblinear;, score=0.000 total time=   0.0s\n",
      "[CV 2/5] END C=0.0001, class_weight=balanced, penalty=l2, solver=lbfgs;, score=0.869 total time=   0.0s\n",
      "[CV 4/5] END C=0.0001, class_weight=balanced, penalty=l2, solver=liblinear;, score=0.890 total time=   0.0s\n",
      "[CV 5/5] END C=0.0001, class_weight=balanced, penalty=l2, solver=liblinear;, score=0.887 total time=   0.0s\n",
      "[CV 4/5] END C=0.00026366508987303583, class_weight=None, penalty=l1, solver=liblinear;, score=0.000 total time=   0.0s\n",
      "[CV 5/5] END C=0.00026366508987303583, class_weight=None, penalty=l1, solver=liblinear;, score=0.000 total time=   0.0s\n",
      "[CV 1/5] END C=0.00026366508987303583, class_weight=None, penalty=l2, solver=lbfgs;, score=0.710 total time=   0.0s\n",
      "[CV 2/5] END C=0.00026366508987303583, class_weight=None, penalty=l2, solver=lbfgs;, score=0.707 total time=   0.0s\n",
      "[CV 2/5] END C=0.00026366508987303583, class_weight=balanced, penalty=l2, solver=liblinear;, score=0.878 total time=   0.0s\n",
      "[CV 3/5] END C=0.00026366508987303583, class_weight=balanced, penalty=l2, solver=liblinear;, score=0.857 total time=   0.0s\n",
      "[CV 4/5] END C=0.00026366508987303583, class_weight=balanced, penalty=l2, solver=liblinear;, score=0.883 total time=   0.0s\n",
      "[CV 5/5] END C=0.00026366508987303583, class_weight=balanced, penalty=l2, solver=liblinear;, score=0.880 total time=   0.0s\n",
      "[CV 4/5] END C=0.0006951927961775605, class_weight=None, penalty=l1, solver=liblinear;, score=0.000 total time=   0.0s\n",
      "[CV 5/5] END C=0.0006951927961775605, class_weight=None, penalty=l1, solver=liblinear;, score=0.000 total time=   0.0s\n",
      "[CV 1/5] END C=0.0006951927961775605, class_weight=None, penalty=l2, solver=lbfgs;, score=0.710 total time=   0.0s\n",
      "[CV 2/5] END C=0.0006951927961775605, class_weight=None, penalty=l2, solver=lbfgs;, score=0.707 total time=   0.0s\n",
      "[CV 3/5] END C=0.0006951927961775605, class_weight=None, penalty=l2, solver=lbfgs;, score=0.714 total time=   0.0s\n",
      "[CV 4/5] END C=0.0006951927961775605, class_weight=None, penalty=l2, solver=lbfgs;, score=0.714 total time=   0.0s\n",
      "[CV 5/5] END C=0.0006951927961775605, class_weight=None, penalty=l2, solver=lbfgs;, score=0.714 total time=   0.0s\n",
      "[CV 1/5] END C=0.0006951927961775605, class_weight=None, penalty=l2, solver=liblinear;, score=0.854 total time=   0.0s\n",
      "[CV 2/5] END C=0.0018329807108324356, class_weight=None, penalty=l2, solver=liblinear;, score=0.847 total time=   0.0s\n",
      "[CV 3/5] END C=0.0018329807108324356, class_weight=None, penalty=l2, solver=liblinear;, score=0.867 total time=   0.0s\n",
      "[CV 4/5] END C=0.0018329807108324356, class_weight=None, penalty=l2, solver=liblinear;, score=0.868 total time=   0.0s\n",
      "[CV 5/5] END C=0.0018329807108324356, class_weight=None, penalty=l2, solver=liblinear;, score=0.863 total time=   0.0s\n",
      "[CV 1/5] END C=0.0018329807108324356, class_weight=balanced, penalty=l1, solver=lbfgs;, score=nan total time=   0.0s\n",
      "[CV 2/5] END C=0.0018329807108324356, class_weight=balanced, penalty=l1, solver=lbfgs;, score=nan total time=   0.0s\n",
      "[CV 3/5] END C=0.0018329807108324356, class_weight=balanced, penalty=l1, solver=lbfgs;, score=nan total time=   0.0s\n",
      "[CV 4/5] END C=0.0018329807108324356, class_weight=balanced, penalty=l1, solver=lbfgs;, score=nan total time=   0.0s\n",
      "[CV 2/5] END C=0.004832930238571752, class_weight=None, penalty=l2, solver=liblinear;, score=0.857 total time=   0.0s\n",
      "[CV 3/5] END C=0.004832930238571752, class_weight=None, penalty=l2, solver=liblinear;, score=0.889 total time=   0.0s\n",
      "[CV 4/5] END C=0.004832930238571752, class_weight=None, penalty=l2, solver=liblinear;, score=0.887 total time=   0.0s\n",
      "[CV 5/5] END C=0.004832930238571752, class_weight=None, penalty=l2, solver=liblinear;, score=0.885 total time=   0.0s\n",
      "[CV 1/5] END C=0.004832930238571752, class_weight=balanced, penalty=l1, solver=lbfgs;, score=nan total time=   0.0s\n",
      "[CV 2/5] END C=0.004832930238571752, class_weight=balanced, penalty=l1, solver=lbfgs;, score=nan total time=   0.0s\n",
      "[CV 3/5] END C=0.004832930238571752, class_weight=balanced, penalty=l1, solver=lbfgs;, score=nan total time=   0.0s\n",
      "[CV 4/5] END C=0.004832930238571752, class_weight=balanced, penalty=l1, solver=lbfgs;, score=nan total time=   0.0s\n",
      "[CV 5/5] END C=0.004832930238571752, class_weight=balanced, penalty=l1, solver=lbfgs;, score=nan total time=   0.0s\n",
      "[CV 1/5] END C=0.004832930238571752, class_weight=balanced, penalty=l1, solver=liblinear;, score=0.000 total time=   0.0s\n",
      "[CV 2/5] END C=0.004832930238571752, class_weight=balanced, penalty=l1, solver=liblinear;, score=0.000 total time=   0.0s\n",
      "[CV 3/5] END C=0.004832930238571752, class_weight=balanced, penalty=l1, solver=liblinear;, score=0.000 total time=   0.0s\n",
      "[CV 4/5] END C=0.004832930238571752, class_weight=balanced, penalty=l1, solver=liblinear;, score=0.000 total time=   0.0s\n",
      "[CV 5/5] END C=0.004832930238571752, class_weight=balanced, penalty=l1, solver=liblinear;, score=0.000 total time=   0.0s\n",
      "[CV 1/5] END C=0.004832930238571752, class_weight=balanced, penalty=l2, solver=lbfgs;, score=0.832 total time=   0.0s\n",
      "[CV 2/5] END C=0.004832930238571752, class_weight=balanced, penalty=l2, solver=lbfgs;, score=0.869 total time=   0.0s\n",
      "[CV 4/5] END C=0.012742749857031334, class_weight=None, penalty=l1, solver=liblinear;, score=0.759 total time=   0.0s\n",
      "[CV 5/5] END C=0.012742749857031334, class_weight=None, penalty=l1, solver=liblinear;, score=0.794 total time=   0.0s\n",
      "[CV 1/5] END C=0.012742749857031334, class_weight=None, penalty=l2, solver=lbfgs;, score=0.844 total time=   0.0s\n",
      "[CV 2/5] END C=0.012742749857031334, class_weight=None, penalty=l2, solver=lbfgs;, score=0.872 total time=   0.0s\n",
      "[CV 3/5] END C=0.012742749857031334, class_weight=None, penalty=l2, solver=lbfgs;, score=0.879 total time=   0.0s\n",
      "[CV 4/5] END C=0.012742749857031334, class_weight=None, penalty=l2, solver=lbfgs;, score=0.884 total time=   0.0s\n",
      "[CV 5/5] END C=0.012742749857031334, class_weight=None, penalty=l2, solver=lbfgs;, score=0.889 total time=   0.0s\n",
      "[CV 1/5] END C=0.012742749857031334, class_weight=None, penalty=l2, solver=liblinear;, score=0.844 total time=   0.0s\n",
      "[CV 2/5] END C=0.012742749857031334, class_weight=None, penalty=l2, solver=liblinear;, score=0.872 total time=   0.0s\n",
      "[CV 3/5] END C=0.012742749857031334, class_weight=None, penalty=l2, solver=liblinear;, score=0.879 total time=   0.0s\n",
      "[CV 4/5] END C=0.012742749857031334, class_weight=None, penalty=l2, solver=liblinear;, score=0.884 total time=   0.0s\n",
      "[CV 5/5] END C=0.012742749857031334, class_weight=None, penalty=l2, solver=liblinear;, score=0.889 total time=   0.0s\n",
      "[CV 1/5] END C=0.012742749857031334, class_weight=balanced, penalty=l1, solver=lbfgs;, score=nan total time=   0.0s\n",
      "[CV 2/5] END C=0.012742749857031334, class_weight=balanced, penalty=l1, solver=lbfgs;, score=nan total time=   0.0s\n",
      "[CV 3/5] END C=0.012742749857031334, class_weight=balanced, penalty=l1, solver=lbfgs;, score=nan total time=   0.0s\n",
      "[CV 4/5] END C=0.012742749857031334, class_weight=balanced, penalty=l1, solver=lbfgs;, score=nan total time=   0.0s\n",
      "[CV 3/5] END C=0.03359818286283781, class_weight=balanced, penalty=l2, solver=lbfgs;, score=0.844 total time=   0.0s\n",
      "[CV 4/5] END C=0.03359818286283781, class_weight=balanced, penalty=l2, solver=lbfgs;, score=0.857 total time=   0.0s\n",
      "[CV 5/5] END C=0.03359818286283781, class_weight=balanced, penalty=l2, solver=lbfgs;, score=0.875 total time=   0.0s\n",
      "[CV 1/5] END C=0.03359818286283781, class_weight=balanced, penalty=l2, solver=liblinear;, score=0.843 total time=   0.0s\n",
      "[CV 2/5] END C=0.03359818286283781, class_weight=balanced, penalty=l2, solver=liblinear;, score=0.877 total time=   0.0s\n",
      "[CV 3/5] END C=0.03359818286283781, class_weight=balanced, penalty=l2, solver=liblinear;, score=0.853 total time=   0.0s\n",
      "[CV 4/5] END C=0.03359818286283781, class_weight=balanced, penalty=l2, solver=liblinear;, score=0.865 total time=   0.0s\n",
      "[CV 5/5] END C=0.03359818286283781, class_weight=balanced, penalty=l2, solver=liblinear;, score=0.884 total time=   0.0s\n"
     ]
    },
    {
     "name": "stdout",
     "output_type": "stream",
     "text": [
      "[CV 1/5] END C=0.08858667904100823, class_weight=None, penalty=l1, solver=lbfgs;, score=nan total time=   0.0s[CV 1/5] END C=0.0001, class_weight=None, penalty=l1, solver=lbfgs;, score=nan total time=   0.0s\n",
      "[CV 3/5] END C=0.0001, class_weight=None, penalty=l1, solver=liblinear;, score=0.000 total time=   0.0s\n",
      "[CV 4/5] END C=0.0001, class_weight=None, penalty=l1, solver=liblinear;, score=0.000 total time=   0.0s\n",
      "[CV 5/5] END C=0.0001, class_weight=None, penalty=l1, solver=liblinear;, score=0.000 total time=   0.0s\n",
      "[CV 2/5] END C=0.0001, class_weight=None, penalty=l2, solver=lbfgs;, score=0.707 total time=   0.0s\n",
      "[CV 3/5] END C=0.0001, class_weight=None, penalty=l2, solver=lbfgs;, score=0.714 total time=   0.0s\n",
      "[CV 1/5] END C=0.0001, class_weight=balanced, penalty=l1, solver=lbfgs;, score=nan total time=   0.0s\n",
      "[CV 2/5] END C=0.0001, class_weight=balanced, penalty=l1, solver=lbfgs;, score=nan total time=   0.0s\n",
      "[CV 3/5] END C=0.0001, class_weight=balanced, penalty=l1, solver=lbfgs;, score=nan total time=   0.0s\n",
      "[CV 4/5] END C=0.0001, class_weight=balanced, penalty=l1, solver=lbfgs;, score=nan total time=   0.0s\n",
      "[CV 5/5] END C=0.0001, class_weight=balanced, penalty=l1, solver=lbfgs;, score=nan total time=   0.0s\n",
      "[CV 1/5] END C=0.0001, class_weight=balanced, penalty=l1, solver=liblinear;, score=0.000 total time=   0.0s\n",
      "[CV 4/5] END C=0.0001, class_weight=balanced, penalty=l1, solver=liblinear;, score=0.000 total time=   0.0s\n",
      "[CV 5/5] END C=0.0001, class_weight=balanced, penalty=l2, solver=lbfgs;, score=0.845 total time=   0.0s\n",
      "[CV 1/5] END C=0.0001, class_weight=balanced, penalty=l2, solver=liblinear;, score=0.847 total time=   0.0s\n",
      "[CV 1/5] END C=0.00026366508987303583, class_weight=None, penalty=l1, solver=lbfgs;, score=nan total time=   0.0s\n",
      "[CV 2/5] END C=0.00026366508987303583, class_weight=None, penalty=l1, solver=lbfgs;, score=nan total time=   0.0s\n",
      "[CV 3/5] END C=0.00026366508987303583, class_weight=None, penalty=l1, solver=lbfgs;, score=nan total time=   0.0s\n",
      "[CV 4/5] END C=0.00026366508987303583, class_weight=None, penalty=l1, solver=lbfgs;, score=nan total time=   0.0s\n",
      "[CV 5/5] END C=0.00026366508987303583, class_weight=None, penalty=l1, solver=lbfgs;, score=nan total time=   0.0s\n",
      "[CV 1/5] END C=0.00026366508987303583, class_weight=None, penalty=l1, solver=liblinear;, score=0.000 total time=   0.0s\n",
      "[CV 3/5] END C=0.00026366508987303583, class_weight=None, penalty=l2, solver=lbfgs;, score=0.714 total time=   0.0s\n",
      "[CV 4/5] END C=0.00026366508987303583, class_weight=None, penalty=l2, solver=lbfgs;, score=0.714 total time=   0.0s\n",
      "[CV 5/5] END C=0.00026366508987303583, class_weight=None, penalty=l2, solver=lbfgs;, score=0.714 total time=   0.0s\n",
      "[CV 1/5] END C=0.00026366508987303583, class_weight=None, penalty=l2, solver=liblinear;, score=0.861 total time=   0.0s\n",
      "[CV 1/5] END C=0.0006951927961775605, class_weight=None, penalty=l1, solver=lbfgs;, score=nan total time=   0.0s\n",
      "[CV 2/5] END C=0.0006951927961775605, class_weight=None, penalty=l1, solver=lbfgs;, score=nan total time=   0.0s\n",
      "[CV 3/5] END C=0.0006951927961775605, class_weight=None, penalty=l1, solver=lbfgs;, score=nan total time=   0.0s\n",
      "[CV 4/5] END C=0.0006951927961775605, class_weight=None, penalty=l1, solver=lbfgs;, score=nan total time=   0.0s\n",
      "[CV 5/5] END C=0.0006951927961775605, class_weight=None, penalty=l1, solver=lbfgs;, score=nan total time=   0.0s\n",
      "[CV 1/5] END C=0.0006951927961775605, class_weight=None, penalty=l1, solver=liblinear;, score=0.000 total time=   0.0s\n",
      "[CV 2/5] END C=0.0006951927961775605, class_weight=None, penalty=l1, solver=liblinear;, score=0.000 total time=   0.0s\n",
      "[CV 3/5] END C=0.0006951927961775605, class_weight=None, penalty=l1, solver=liblinear;, score=0.000 total time=   0.0s\n",
      "[CV 3/5] END C=0.0006951927961775605, class_weight=balanced, penalty=l2, solver=lbfgs;, score=0.844 total time=   0.0s\n",
      "[CV 4/5] END C=0.0006951927961775605, class_weight=balanced, penalty=l2, solver=lbfgs;, score=0.865 total time=   0.0s\n",
      "[CV 5/5] END C=0.0006951927961775605, class_weight=balanced, penalty=l2, solver=lbfgs;, score=0.845 total time=   0.0s\n",
      "[CV 1/5] END C=0.0006951927961775605, class_weight=balanced, penalty=l2, solver=liblinear;, score=0.831 total time=   0.0s\n",
      "[CV 2/5] END C=0.0006951927961775605, class_weight=balanced, penalty=l2, solver=liblinear;, score=0.877 total time=   0.0s\n",
      "[CV 3/5] END C=0.0006951927961775605, class_weight=balanced, penalty=l2, solver=liblinear;, score=0.855 total time=   0.0s\n",
      "[CV 4/5] END C=0.0006951927961775605, class_weight=balanced, penalty=l2, solver=liblinear;, score=0.883 total time=   0.0s\n",
      "[CV 5/5] END C=0.0006951927961775605, class_weight=balanced, penalty=l2, solver=liblinear;, score=0.878 total time=   0.0s\n",
      "[CV 1/5] END C=0.004832930238571752, class_weight=None, penalty=l1, solver=lbfgs;, score=nan total time=   0.0s\n",
      "[CV 2/5] END C=0.004832930238571752, class_weight=None, penalty=l1, solver=lbfgs;, score=nan total time=   0.0s\n",
      "[CV 3/5] END C=0.004832930238571752, class_weight=None, penalty=l1, solver=lbfgs;, score=nan total time=   0.0s\n",
      "[CV 4/5] END C=0.004832930238571752, class_weight=None, penalty=l1, solver=lbfgs;, score=nan total time=   0.0s\n",
      "[CV 5/5] END C=0.004832930238571752, class_weight=None, penalty=l1, solver=lbfgs;, score=nan total time=   0.0s\n",
      "[CV 1/5] END C=0.004832930238571752, class_weight=None, penalty=l1, solver=liblinear;, score=0.000 total time=   0.0s\n",
      "[CV 2/5] END C=0.004832930238571752, class_weight=None, penalty=l1, solver=liblinear;, score=0.000 total time=   0.0s\n",
      "[CV 3/5] END C=0.004832930238571752, class_weight=None, penalty=l1, solver=liblinear;, score=0.000 total time=   0.0s\n",
      "[CV 4/5] END C=0.004832930238571752, class_weight=None, penalty=l1, solver=liblinear;, score=0.000 total time=   0.0s\n",
      "[CV 5/5] END C=0.004832930238571752, class_weight=None, penalty=l1, solver=liblinear;, score=0.000 total time=   0.0s\n",
      "[CV 1/5] END C=0.004832930238571752, class_weight=None, penalty=l2, solver=lbfgs;, score=0.853 total time=   0.0s\n",
      "[CV 2/5] END C=0.004832930238571752, class_weight=None, penalty=l2, solver=lbfgs;, score=0.846 total time=   0.0s\n",
      "[CV 3/5] END C=0.004832930238571752, class_weight=None, penalty=l2, solver=lbfgs;, score=0.889 total time=   0.0s\n",
      "[CV 4/5] END C=0.004832930238571752, class_weight=None, penalty=l2, solver=lbfgs;, score=0.887 total time=   0.0s\n",
      "[CV 5/5] END C=0.004832930238571752, class_weight=None, penalty=l2, solver=lbfgs;, score=0.885 total time=   0.0s\n",
      "[CV 1/5] END C=0.004832930238571752, class_weight=None, penalty=l2, solver=liblinear;, score=0.859 total time=   0.0s\n",
      "[CV 5/5] END C=0.012742749857031334, class_weight=balanced, penalty=l1, solver=lbfgs;, score=nan total time=   0.0s\n",
      "[CV 1/5] END C=0.012742749857031334, class_weight=balanced, penalty=l1, solver=liblinear;, score=0.000 total time=   0.0s\n",
      "[CV 2/5] END C=0.012742749857031334, class_weight=balanced, penalty=l1, solver=liblinear;, score=0.000 total time=   0.0s\n",
      "[CV 3/5] END C=0.012742749857031334, class_weight=balanced, penalty=l1, solver=liblinear;, score=0.000 total time=   0.0s\n",
      "[CV 4/5] END C=0.012742749857031334, class_weight=balanced, penalty=l1, solver=liblinear;, score=0.000 total time=   0.0s\n",
      "[CV 5/5] END C=0.012742749857031334, class_weight=balanced, penalty=l1, solver=liblinear;, score=0.000 total time=   0.0s\n",
      "[CV 1/5] END C=0.012742749857031334, class_weight=balanced, penalty=l2, solver=lbfgs;, score=0.841 total time=   0.0s\n",
      "[CV 2/5] END C=0.012742749857031334, class_weight=balanced, penalty=l2, solver=lbfgs;, score=0.869 total time=   0.0s\n",
      "[CV 3/5] END C=0.012742749857031334, class_weight=balanced, penalty=l2, solver=lbfgs;, score=0.853 total time=   0.0s\n",
      "[CV 4/5] END C=0.012742749857031334, class_weight=balanced, penalty=l2, solver=lbfgs;, score=0.873 total time=   0.0s\n",
      "[CV 5/5] END C=0.012742749857031334, class_weight=balanced, penalty=l2, solver=lbfgs;, score=0.861 total time=   0.0s\n",
      "[CV 1/5] END C=0.012742749857031334, class_weight=balanced, penalty=l2, solver=liblinear;, score=0.843 total time=   0.0s\n",
      "[CV 2/5] END C=0.012742749857031334, class_weight=balanced, penalty=l2, solver=liblinear;, score=0.877 total time=   0.0s\n",
      "[CV 3/5] END C=0.012742749857031334, class_weight=balanced, penalty=l2, solver=liblinear;, score=0.853 total time=   0.0s\n",
      "[CV 4/5] END C=0.012742749857031334, class_weight=balanced, penalty=l2, solver=liblinear;, score=0.873 total time=   0.0s[CV 2/5] END C=0.0001, class_weight=None, penalty=l1, solver=lbfgs;, score=nan total time=   0.0s\n",
      "[CV 5/5] END C=0.0001, class_weight=None, penalty=l1, solver=lbfgs;, score=nan total time=   0.0s\n",
      "[CV 1/5] END C=0.0001, class_weight=None, penalty=l1, solver=liblinear;, score=0.000 total time=   0.0s\n",
      "[CV 2/5] END C=0.0001, class_weight=None, penalty=l1, solver=liblinear;, score=0.000 total time=   0.0s\n",
      "[CV 1/5] END C=0.0001, class_weight=None, penalty=l2, solver=lbfgs;, score=0.710 total time=   0.0s\n",
      "[CV 5/5] END C=0.0001, class_weight=None, penalty=l2, solver=lbfgs;, score=0.714 total time=   0.0s\n",
      "[CV 1/5] END C=0.0001, class_weight=None, penalty=l2, solver=liblinear;, score=0.861 total time=   0.0s\n",
      "[CV 3/5] END C=0.0001, class_weight=None, penalty=l2, solver=liblinear;, score=0.850 total time=   0.0s\n",
      "[CV 5/5] END C=0.0001, class_weight=None, penalty=l2, solver=liblinear;, score=0.831 total time=   0.0s\n",
      "[CV 2/5] END C=0.0001, class_weight=balanced, penalty=l1, solver=liblinear;, score=0.000 total time=   0.0s\n",
      "[CV 5/5] END C=0.0001, class_weight=balanced, penalty=l1, solver=liblinear;, score=0.000 total time=   0.0s\n",
      "[CV 3/5] END C=0.0001, class_weight=balanced, penalty=l2, solver=lbfgs;, score=0.844 total time=   0.0s\n",
      "[CV 4/5] END C=0.0001, class_weight=balanced, penalty=l2, solver=lbfgs;, score=0.865 total time=   0.0s\n",
      "[CV 2/5] END C=0.00026366508987303583, class_weight=None, penalty=l2, solver=liblinear;, score=0.821 total time=   0.0s\n",
      "[CV 3/5] END C=0.00026366508987303583, class_weight=None, penalty=l2, solver=liblinear;, score=0.855 total time=   0.0s\n",
      "[CV 4/5] END C=0.00026366508987303583, class_weight=None, penalty=l2, solver=liblinear;, score=0.826 total time=   0.0s\n",
      "[CV 5/5] END C=0.00026366508987303583, class_weight=None, penalty=l2, solver=liblinear;, score=0.836 total time=   0.0s\n",
      "[CV 3/5] END C=0.00026366508987303583, class_weight=balanced, penalty=l2, solver=lbfgs;, score=0.844 total time=   0.0s\n",
      "[CV 4/5] END C=0.00026366508987303583, class_weight=balanced, penalty=l2, solver=lbfgs;, score=0.865 total time=   0.0s\n",
      "[CV 5/5] END C=0.00026366508987303583, class_weight=balanced, penalty=l2, solver=lbfgs;, score=0.845 total time=   0.0s\n",
      "[CV 1/5] END C=0.00026366508987303583, class_weight=balanced, penalty=l2, solver=liblinear;, score=0.847 total time=   0.0s\n",
      "[CV 5/5] END C=0.0006951927961775605, class_weight=balanced, penalty=l1, solver=lbfgs;, score=nan total time=   0.0s\n",
      "[CV 1/5] END C=0.0006951927961775605, class_weight=balanced, penalty=l1, solver=liblinear;, score=0.000 total time=   0.0s\n",
      "[CV 2/5] END C=0.0006951927961775605, class_weight=balanced, penalty=l1, solver=liblinear;, score=0.000 total time=   0.0s\n",
      "[CV 3/5] END C=0.0006951927961775605, class_weight=balanced, penalty=l1, solver=liblinear;, score=0.000 total time=   0.0s\n",
      "[CV 4/5] END C=0.0006951927961775605, class_weight=balanced, penalty=l1, solver=liblinear;, score=0.000 total time=   0.0s\n",
      "[CV 5/5] END C=0.0006951927961775605, class_weight=balanced, penalty=l1, solver=liblinear;, score=0.000 total time=   0.0s\n",
      "[CV 1/5] END C=0.0006951927961775605, class_weight=balanced, penalty=l2, solver=lbfgs;, score=0.832 total time=   0.0s\n",
      "[CV 2/5] END C=0.0006951927961775605, class_weight=balanced, penalty=l2, solver=lbfgs;, score=0.869 total time=   0.0s\n",
      "[CV 5/5] END C=0.0018329807108324356, class_weight=balanced, penalty=l1, solver=lbfgs;, score=nan total time=   0.0s\n",
      "[CV 1/5] END C=0.0018329807108324356, class_weight=balanced, penalty=l1, solver=liblinear;, score=0.000 total time=   0.0s\n",
      "[CV 2/5] END C=0.0018329807108324356, class_weight=balanced, penalty=l1, solver=liblinear;, score=0.000 total time=   0.0s\n",
      "[CV 3/5] END C=0.0018329807108324356, class_weight=balanced, penalty=l1, solver=liblinear;, score=0.000 total time=   0.0s\n",
      "[CV 4/5] END C=0.0018329807108324356, class_weight=balanced, penalty=l1, solver=liblinear;, score=0.000 total time=   0.0s\n",
      "[CV 5/5] END C=0.0018329807108324356, class_weight=balanced, penalty=l1, solver=liblinear;, score=0.000 total time=   0.0s\n",
      "[CV 1/5] END C=0.0018329807108324356, class_weight=balanced, penalty=l2, solver=lbfgs;, score=0.832 total time=   0.0s\n",
      "[CV 2/5] END C=0.0018329807108324356, class_weight=balanced, penalty=l2, solver=lbfgs;, score=0.869 total time=   0.0s\n",
      "[CV 3/5] END C=0.0018329807108324356, class_weight=balanced, penalty=l2, solver=lbfgs;, score=0.844 total time=   0.0s\n",
      "[CV 4/5] END C=0.0018329807108324356, class_weight=balanced, penalty=l2, solver=lbfgs;, score=0.865 total time=   0.0s\n",
      "[CV 5/5] END C=0.0018329807108324356, class_weight=balanced, penalty=l2, solver=lbfgs;, score=0.845 total time=   0.0s\n",
      "[CV 1/5] END C=0.0018329807108324356, class_weight=balanced, penalty=l2, solver=liblinear;, score=0.849 total time=   0.0s\n",
      "[CV 2/5] END C=0.0018329807108324356, class_weight=balanced, penalty=l2, solver=liblinear;, score=0.869 total time=   0.0s\n",
      "[CV 3/5] END C=0.0018329807108324356, class_weight=balanced, penalty=l2, solver=liblinear;, score=0.847 total time=   0.0s\n",
      "[CV 4/5] END C=0.0018329807108324356, class_weight=balanced, penalty=l2, solver=liblinear;, score=0.867 total time=   0.0s\n",
      "[CV 5/5] END C=0.0018329807108324356, class_weight=balanced, penalty=l2, solver=liblinear;, score=0.878 total time=   0.0s\n",
      "[CV 1/5] END C=0.03359818286283781, class_weight=None, penalty=l1, solver=lbfgs;, score=nan total time=   0.0s\n",
      "[CV 2/5] END C=0.03359818286283781, class_weight=None, penalty=l1, solver=lbfgs;, score=nan total time=   0.0s\n",
      "[CV 3/5] END C=0.03359818286283781, class_weight=None, penalty=l1, solver=lbfgs;, score=nan total time=   0.0s\n",
      "[CV 4/5] END C=0.03359818286283781, class_weight=None, penalty=l1, solver=lbfgs;, score=nan total time=   0.0s\n",
      "[CV 5/5] END C=0.03359818286283781, class_weight=None, penalty=l1, solver=lbfgs;, score=nan total time=   0.0s\n",
      "[CV 1/5] END C=0.03359818286283781, class_weight=None, penalty=l1, solver=liblinear;, score=0.841 total time=   0.0s\n",
      "[CV 2/5] END C=0.03359818286283781, class_weight=None, penalty=l1, solver=liblinear;, score=0.855 total time=   0.0s\n",
      "[CV 3/5] END C=0.03359818286283781, class_weight=None, penalty=l1, solver=liblinear;, score=0.830 total time=   0.0s\n",
      "[CV 4/5] END C=0.03359818286283781, class_weight=None, penalty=l1, solver=liblinear;, score=0.861 total time=   0.0s\n",
      "[CV 5/5] END C=0.03359818286283781, class_weight=None, penalty=l1, solver=liblinear;, score=0.861 total time=   0.0s\n",
      "[CV 1/5] END C=0.03359818286283781, class_weight=None, penalty=l2, solver=lbfgs;, score=0.841 total time=   0.0s\n",
      "[CV 2/5] END C=0.03359818286283781, class_weight=None, penalty=l2, solver=lbfgs;, score=0.871 total time=   0.0s\n",
      "[CV 3/5] END C=0.03359818286283781, class_weight=None, penalty=l2, solver=lbfgs;, score=0.863 total time=   0.0s\n",
      "[CV 4/5] END C=0.03359818286283781, class_weight=None, penalty=l2, solver=lbfgs;, score=0.875 total time=   0.0s\n",
      "[CV 5/5] END C=0.03359818286283781, class_weight=None, penalty=l2, solver=lbfgs;, score=0.887 total time=   0.0s\n",
      "[CV 1/5] END C=0.03359818286283781, class_weight=None, penalty=l2, solver=liblinear;, score=0.849 total time=   0.0s\n",
      "[CV 4/5] END C=0.08858667904100823, class_weight=None, penalty=l1, solver=liblinear;, score=0.841 total time=   0.0s\n",
      "[CV 5/5] END C=0.08858667904100823, class_weight=None, penalty=l1, solver=liblinear;, score=0.884 total time=   0.0s\n",
      "[CV 1/5] END C=0.08858667904100823, class_weight=None, penalty=l2, solver=lbfgs;, score=0.857 total time=   0.0s\n",
      "[CV 2/5] END C=0.08858667904100823, class_weight=None, penalty=l2, solver=lbfgs;, score=0.865 total time=   0.0s\n",
      "[CV 3/5] END C=0.08858667904100823, class_weight=None, penalty=l2, solver=lbfgs;, score=0.855 total time=   0.0s\n",
      "[CV 4/5] END C=0.08858667904100823, class_weight=None, penalty=l2, solver=lbfgs;, score=0.867 total time=   0.0s\n",
      "[CV 5/5] END C=0.08858667904100823, class_weight=None, penalty=l2, solver=lbfgs;, score=0.880 total time=   0.0s\n",
      "[CV 1/5] END C=0.08858667904100823, class_weight=None, penalty=l2, solver=liblinear;, score=0.857 total time=   0.0s\n",
      "[CV 2/5] END C=0.08858667904100823, class_weight=None, penalty=l2, solver=liblinear;, score=0.865 total time=   0.0s\n",
      "[CV 3/5] END C=0.08858667904100823, class_weight=None, penalty=l2, solver=liblinear;, score=0.855 total time=   0.0s\n"
     ]
    },
    {
     "name": "stdout",
     "output_type": "stream",
     "text": [
      "[CV 4/5] END C=0.08858667904100823, class_weight=None, penalty=l2, solver=liblinear;, score=0.859 total time=   0.0sCPU times: user 1.21 s, sys: 112 ms, total: 1.32 s\n",
      "Wall time: 8.53 s\n"
     ]
    },
    {
     "data": {
      "text/plain": [
       "Pipeline(steps=[('preprocessing',\n",
       "                 Pipeline(steps=[('preprocessor',\n",
       "                                  ColumnTransformer(transformers=[('num',\n",
       "                                                                   Pipeline(steps=[('minmax',\n",
       "                                                                                    MinMaxScaler())]),\n",
       "                                                                   ['Age',\n",
       "                                                                    'RestingBP',\n",
       "                                                                    'Cholesterol',\n",
       "                                                                    'FastingBS',\n",
       "                                                                    'MaxHR',\n",
       "                                                                    'Oldpeak']),\n",
       "                                                                  ('cat',\n",
       "                                                                   Pipeline(steps=[('ohe',\n",
       "                                                                                    OneHotEncoder(handle_unknown='ignore'))]),\n",
       "                                                                   ['Sex',\n",
       "                                                                    'ChestPainType',\n",
       "                                                                    'RestingECG',\n",
       "                                                                    'ExerciseAngina',\n",
       "                                                                    'ST_Slope'])...\n",
       "       4.83293024e-03, 1.27427499e-02, 3.35981829e-02, 8.85866790e-02,\n",
       "       2.33572147e-01, 6.15848211e-01, 1.62377674e+00, 4.28133240e+00,\n",
       "       1.12883789e+01, 2.97635144e+01, 7.84759970e+01, 2.06913808e+02,\n",
       "       5.45559478e+02, 1.43844989e+03, 3.79269019e+03, 1.00000000e+04]),\n",
       "                                          'class_weight': [None, 'balanced'],\n",
       "                                          'penalty': ['l1', 'l2'],\n",
       "                                          'solver': ['lbfgs', 'liblinear']},\n",
       "                              scoring='f1', verbose=3))])"
      ]
     },
     "execution_count": 11,
     "metadata": {},
     "output_type": "execute_result"
    }
   ],
   "source": [
    "%%time\n",
    "cv = StratifiedKFold(n_splits=5, random_state=0, shuffle=True)\n",
    "\n",
    "frozen_params = {\n",
    "    'random_state': 0\n",
    "}\n",
    "parameters = {\n",
    "    'C': np.logspace(-4, 4, 20), \n",
    "    'class_weight': [None, 'balanced'], \n",
    "    'penalty': ['l1', 'l2'],\n",
    "    'solver': ['lbfgs', 'liblinear'],\n",
    "}\n",
    "\n",
    "clf = GridSearchCV(LogisticRegression(**frozen_params), parameters, n_jobs=-1, verbose=3, scoring='f1' ,cv=cv)\n",
    "\n",
    "classifier = Pipeline([\n",
    "    ('preprocessing', prep_cat),\n",
    "    ('classifier', clf),\n",
    "])\n",
    "classifier.fit(train, train_target.values.ravel())"
   ]
  },
  {
   "cell_type": "markdown",
   "metadata": {
    "id": "hmUqMZGBaLv-"
   },
   "source": [
    "**2.3 Итоговая модель**"
   ]
  },
  {
   "cell_type": "markdown",
   "metadata": {
    "id": "Mps6NViKaSbC"
   },
   "source": [
    "Обучим модель с лучшими параметрами на тренировочной выборке и посмотрим итоговое качество на тестовой выборке."
   ]
  },
  {
   "cell_type": "code",
   "execution_count": 12,
   "metadata": {
    "colab": {
     "base_uri": "https://localhost:8080/"
    },
    "id": "JYlWSBjIaUYN",
    "outputId": "e66bb4cd-3e23-4cba-e7c2-d6231baf38e7"
   },
   "outputs": [
    {
     "name": "stdout",
     "output_type": "stream",
     "text": [
      "0.875424950374948\n",
      "{'C': 0.004832930238571752, 'class_weight': None, 'penalty': 'l2', 'solver': 'liblinear'}\n"
     ]
    }
   ],
   "source": [
    "print(clf.best_score_)\n",
    "print(clf.best_params_)"
   ]
  },
  {
   "cell_type": "code",
   "execution_count": 13,
   "metadata": {
    "colab": {
     "base_uri": "https://localhost:8080/"
    },
    "id": "j64F5tLNacyW",
    "outputId": "5851d27e-4fc9-43d5-cbb2-8ddae53ca45a"
   },
   "outputs": [
    {
     "data": {
      "text/plain": [
       "Pipeline(steps=[('preprocessing',\n",
       "                 Pipeline(steps=[('preprocessor',\n",
       "                                  ColumnTransformer(transformers=[('num',\n",
       "                                                                   Pipeline(steps=[('minmax',\n",
       "                                                                                    MinMaxScaler())]),\n",
       "                                                                   ['Age',\n",
       "                                                                    'RestingBP',\n",
       "                                                                    'Cholesterol',\n",
       "                                                                    'FastingBS',\n",
       "                                                                    'MaxHR',\n",
       "                                                                    'Oldpeak']),\n",
       "                                                                  ('cat',\n",
       "                                                                   Pipeline(steps=[('ohe',\n",
       "                                                                                    OneHotEncoder(handle_unknown='ignore'))]),\n",
       "                                                                   ['Sex',\n",
       "                                                                    'ChestPainType',\n",
       "                                                                    'RestingECG',\n",
       "                                                                    'ExerciseAngina',\n",
       "                                                                    'ST_Slope'])]))])),\n",
       "                ('classifier',\n",
       "                 LogisticRegression(C=0.004832930238571752, random_state=0,\n",
       "                                    solver='liblinear'))])"
      ]
     },
     "execution_count": 13,
     "metadata": {},
     "output_type": "execute_result"
    }
   ],
   "source": [
    "classifier = Pipeline([\n",
    "    ('preprocessing', prep_cat),\n",
    "    ('classifier', LogisticRegression(**clf.best_params_, random_state = 0)),\n",
    "])\n",
    "classifier.fit(train, train_target)"
   ]
  },
  {
   "cell_type": "code",
   "execution_count": 14,
   "metadata": {
    "id": "rzRri2FtanIN"
   },
   "outputs": [],
   "source": [
    "train_pred_proba = classifier.predict_proba(train)\n",
    "train_pred = classifier.predict(train)\n",
    "test_pred_proba = classifier.predict_proba(test)\n",
    "test_pred = classifier.predict(test)"
   ]
  },
  {
   "cell_type": "code",
   "execution_count": 15,
   "metadata": {
    "colab": {
     "base_uri": "https://localhost:8080/"
    },
    "id": "QC4zw7NAazzj",
    "outputId": "68bea245-94ac-4fc3-a26e-c48056d0fbd4"
   },
   "outputs": [
    {
     "name": "stdout",
     "output_type": "stream",
     "text": [
      "TRAIN\n",
      "\n",
      "              precision    recall  f1-score   support\n",
      "\n",
      "           0       0.90      0.77      0.83       287\n",
      "           1       0.84      0.93      0.88       354\n",
      "\n",
      "    accuracy                           0.86       641\n",
      "   macro avg       0.87      0.85      0.86       641\n",
      "weighted avg       0.86      0.86      0.86       641\n",
      "\n",
      "TEST\n",
      "\n",
      "              precision    recall  f1-score   support\n",
      "\n",
      "           0       0.85      0.86      0.85       123\n",
      "           1       0.89      0.88      0.88       153\n",
      "\n",
      "    accuracy                           0.87       276\n",
      "   macro avg       0.87      0.87      0.87       276\n",
      "weighted avg       0.87      0.87      0.87       276\n",
      "\n"
     ]
    }
   ],
   "source": [
    "get_classification_report(train_target['HeartDisease'], train_pred, test_target['HeartDisease'], test_pred)"
   ]
  },
  {
   "cell_type": "code",
   "execution_count": 16,
   "metadata": {
    "colab": {
     "base_uri": "https://localhost:8080/",
     "height": 296
    },
    "id": "utnABx-Qa_nN",
    "outputId": "d22e94c5-3119-4ecb-e8b3-56688626a7da"
   },
   "outputs": [
    {
     "data": {
      "text/plain": [
       "<sklearn.metrics._plot.confusion_matrix.ConfusionMatrixDisplay at 0x7fe654902ed0>"
      ]
     },
     "execution_count": 16,
     "metadata": {},
     "output_type": "execute_result"
    },
    {
     "data": {
      "image/png": "[encoded data removed]",
      "text/plain": [
       "<Figure size 432x288 with 2 Axes>"
      ]
     },
     "metadata": {
      "needs_background": "light"
     },
     "output_type": "display_data"
    }
   ],
   "source": [
    "plot_confusion_matrix(classifier, test, test_target['HeartDisease'], cmap=plt.cm.Blues)\n"
   ]
  },
  {
   "cell_type": "markdown",
   "metadata": {
    "id": "Cvextu9dxXRf"
   },
   "source": [
    "# **Шаг 3: Сохранение обученной модели**"
   ]
  },
  {
   "cell_type": "code",
   "execution_count": 17,
   "metadata": {
    "id": "7ltR0QnibUNG"
   },
   "outputs": [
    {
     "name": "stdout",
     "output_type": "stream",
     "text": [
      "\n",
      "[CV 2/5] END C=0.03359818286283781, class_weight=balanced, penalty=l1, solver=liblinear;, score=0.836 total time=   0.0s\n",
      "[CV 3/5] END C=0.03359818286283781, class_weight=balanced, penalty=l1, solver=liblinear;, score=0.781 total time=   0.0s\n",
      "[CV 4/5] END C=0.03359818286283781, class_weight=balanced, penalty=l1, solver=liblinear;, score=0.788 total time=   0.0s\n",
      "[CV 5/5] END C=0.03359818286283781, class_weight=balanced, penalty=l1, solver=liblinear;, score=0.861 total time=   0.0s\n",
      "[CV 1/5] END C=0.03359818286283781, class_weight=balanced, penalty=l2, solver=lbfgs;, score=0.835 total time=   0.0s\n",
      "[CV 2/5] END C=0.03359818286283781, class_weight=balanced, penalty=l2, solver=lbfgs;, score=0.877 total time=   0.0s\n",
      "[CV 1/5] END C=0.23357214690901212, class_weight=None, penalty=l1, solver=lbfgs;, score=nan total time=   0.0s\n",
      "[CV 2/5] END C=0.23357214690901212, class_weight=None, penalty=l1, solver=lbfgs;, score=nan total time=   0.0s\n",
      "[CV 3/5] END C=0.23357214690901212, class_weight=None, penalty=l1, solver=lbfgs;, score=nan total time=   0.0s\n",
      "[CV 4/5] END C=0.23357214690901212, class_weight=None, penalty=l1, solver=lbfgs;, score=nan total time=   0.0s\n",
      "[CV 5/5] END C=0.23357214690901212, class_weight=None, penalty=l1, solver=lbfgs;, score=nan total time=   0.0s\n",
      "[CV 1/5] END C=0.23357214690901212, class_weight=None, penalty=l1, solver=liblinear;, score=0.851 total time=   0.0s\n",
      "[CV 2/5] END C=0.23357214690901212, class_weight=None, penalty=l1, solver=liblinear;, score=0.859 total time=   0.0s\n",
      "[CV 3/5] END C=0.23357214690901212, class_weight=None, penalty=l1, solver=liblinear;, score=0.863 total time=   0.0s\n",
      "[CV 4/5] END C=0.23357214690901212, class_weight=None, penalty=l1, solver=liblinear;, score=0.865 total time=   0.0s\n",
      "[CV 5/5] END C=0.23357214690901212, class_weight=None, penalty=l1, solver=liblinear;, score=0.878 total time=   0.0s\n",
      "[CV 1/5] END C=0.23357214690901212, class_weight=None, penalty=l2, solver=lbfgs;, score=0.857 total time=   0.0s\n",
      "[CV 2/5] END C=0.23357214690901212, class_weight=None, penalty=l2, solver=lbfgs;, score=0.871 total time=   0.0s\n",
      "[CV 3/5] END C=0.23357214690901212, class_weight=None, penalty=l2, solver=lbfgs;, score=0.855 total time=   0.0s\n",
      "[CV 4/5] END C=0.23357214690901212, class_weight=None, penalty=l2, solver=lbfgs;, score=0.875 total time=   0.0s\n",
      "[CV 5/5] END C=0.23357214690901212, class_weight=None, penalty=l2, solver=lbfgs;, score=0.872 total time=   0.0s\n",
      "[CV 1/5] END C=0.23357214690901212, class_weight=None, penalty=l2, solver=liblinear;, score=0.857 total time=   0.0s\n",
      "[CV 4/5] END C=0.615848211066026, class_weight=None, penalty=l1, solver=liblinear;, score=0.859 total time=   0.0s\n",
      "[CV 5/5] END C=0.615848211066026, class_weight=None, penalty=l1, solver=liblinear;, score=0.857 total time=   0.0s\n",
      "[CV 1/5] END C=0.615848211066026, class_weight=None, penalty=l2, solver=lbfgs;, score=0.857 total time=   0.1s\n",
      "[CV 2/5] END C=0.615848211066026, class_weight=None, penalty=l2, solver=lbfgs;, score=0.871 total time=   0.0s\n",
      "[CV 3/5] END C=0.615848211066026, class_weight=None, penalty=l2, solver=lbfgs;, score=0.855 total time=   0.1s\n",
      "[CV 4/5] END C=0.615848211066026, class_weight=None, penalty=l2, solver=lbfgs;, score=0.867 total time=   0.0s\n",
      "[CV 5/5] END C=0.615848211066026, class_weight=None, penalty=l2, solver=lbfgs;, score=0.865 total time=   0.0s\n",
      "[CV 1/5] END C=0.615848211066026, class_weight=None, penalty=l2, solver=liblinear;, score=0.857 total time=   0.0s\n",
      "[CV 2/5] END C=0.615848211066026, class_weight=None, penalty=l2, solver=liblinear;, score=0.871 total time=   0.0s\n",
      "[CV 3/5] END C=0.615848211066026, class_weight=None, penalty=l2, solver=liblinear;, score=0.855 total time=   0.0s\n",
      "[CV 4/5] END C=0.615848211066026, class_weight=None, penalty=l2, solver=liblinear;, score=0.867 total time=   0.0s\n",
      "[CV 5/5] END C=0.615848211066026, class_weight=None, penalty=l2, solver=liblinear;, score=0.859 total time=   0.0s\n",
      "[CV 1/5] END C=0.615848211066026, class_weight=balanced, penalty=l1, solver=lbfgs;, score=nan total time=   0.0s\n",
      "[CV 2/5] END C=0.615848211066026, class_weight=balanced, penalty=l1, solver=lbfgs;, score=nan total time=   0.0s\n",
      "[CV 3/5] END C=0.615848211066026, class_weight=balanced, penalty=l1, solver=lbfgs;, score=nan total time=   0.0s\n",
      "[CV 4/5] END C=0.615848211066026, class_weight=balanced, penalty=l1, solver=lbfgs;, score=nan total time=   0.0s\n",
      "[CV 3/5] END C=1.623776739188721, class_weight=balanced, penalty=l2, solver=lbfgs;, score=0.861 total time=   0.1s\n",
      "[CV 4/5] END C=1.623776739188721, class_weight=balanced, penalty=l2, solver=lbfgs;, score=0.843 total time=   0.1s\n",
      "[CV 5/5] END C=1.623776739188721, class_weight=balanced, penalty=l2, solver=lbfgs;, score=0.849 total time=   0.1s\n",
      "[CV 1/5] END C=1.623776739188721, class_weight=balanced, penalty=l2, solver=liblinear;, score=0.845 total time=   0.0s\n",
      "[CV 2/5] END C=1.623776739188721, class_weight=balanced, penalty=l2, solver=liblinear;, score=0.869 total time=   0.0s\n",
      "[CV 3/5] END C=1.623776739188721, class_weight=balanced, penalty=l2, solver=liblinear;, score=0.861 total time=   0.0s\n",
      "[CV 4/5] END C=1.623776739188721, class_weight=balanced, penalty=l2, solver=liblinear;, score=0.843 total time=   0.0s\n",
      "[CV 5/5] END C=1.623776739188721, class_weight=balanced, penalty=l2, solver=liblinear;, score=0.849 total time=   0.0s\n",
      "[CV 1/5] END C=4.281332398719396, class_weight=None, penalty=l1, solver=lbfgs;, score=nan total time=   0.0s\n",
      "[CV 2/5] END C=4.281332398719396, class_weight=None, penalty=l1, solver=lbfgs;, score=nan total time=   0.0s\n",
      "[CV 3/5] END C=4.281332398719396, class_weight=None, penalty=l1, solver=lbfgs;, score=nan total time=   0.0s\n",
      "[CV 4/5] END C=4.281332398719396, class_weight=None, penalty=l1, solver=lbfgs;, score=nan total time=   0.0s\n",
      "[CV 5/5] END C=4.281332398719396, class_weight=None, penalty=l1, solver=lbfgs;, score=nan total time=   0.0s\n",
      "[CV 1/5] END C=4.281332398719396, class_weight=None, penalty=l1, solver=liblinear;, score=0.849 total time=   0.0s\n",
      "[CV 2/5] END C=4.281332398719396, class_weight=None, penalty=l1, solver=liblinear;, score=0.863 total time=   0.0s\n",
      "[CV 3/5] END C=4.281332398719396, class_weight=None, penalty=l1, solver=liblinear;, score=0.855 total time=   0.0s\n",
      "[CV 2/5] END C=11.288378916846883, class_weight=None, penalty=l2, solver=liblinear;, score=0.863 total time=   0.0s\n",
      "[CV 3/5] END C=11.288378916846883, class_weight=None, penalty=l2, solver=liblinear;, score=0.855 total time=   0.0s\n",
      "[CV 4/5] END C=11.288378916846883, class_weight=None, penalty=l2, solver=liblinear;, score=0.851 total time=   0.0s\n",
      "[CV 5/5] END C=11.288378916846883, class_weight=None, penalty=l2, solver=liblinear;, score=0.857 total time=   0.0s\n",
      "[CV 1/5] END C=11.288378916846883, class_weight=balanced, penalty=l1, solver=lbfgs;, score=nan total time=   0.0s\n",
      "[CV 2/5] END C=11.288378916846883, class_weight=balanced, penalty=l1, solver=lbfgs;, score=nan total time=   0.0s\n",
      "[CV 3/5] END C=11.288378916846883, class_weight=balanced, penalty=l1, solver=lbfgs;, score=nan total time=   0.0s\n",
      "[CV 4/5] END C=11.288378916846883, class_weight=balanced, penalty=l1, solver=lbfgs;, score=nan total time=   0.0s\n",
      "[CV 5/5] END C=11.288378916846883, class_weight=balanced, penalty=l1, solver=lbfgs;, score=nan total time=   0.0s\n",
      "[CV 1/5] END C=11.288378916846883, class_weight=balanced, penalty=l1, solver=liblinear;, score=0.845 total time=   0.0s\n",
      "[CV 2/5] END C=11.288378916846883, class_weight=balanced, penalty=l1, solver=liblinear;, score=0.875 total time=   0.1s\n",
      "[CV 3/5] END C=11.288378916846883, class_weight=balanced, penalty=l1, solver=liblinear;, score=0.861 total time=   0.0s\n",
      "[CV 4/5] END C=11.288378916846883, class_weight=balanced, penalty=l1, solver=liblinear;, score=0.835 total time=   0.0s\n",
      "[CV 5/5] END C=11.288378916846883, class_weight=balanced, penalty=l1, solver=liblinear;, score=0.849 total time=   0.0s\n",
      "[CV 1/5] END C=11.288378916846883, class_weight=balanced, penalty=l2, solver=lbfgs;, score=0.853 total time=   0.1s\n",
      "[CV 2/5] END C=11.288378916846883, class_weight=balanced, penalty=l2, solver=lbfgs;, score=0.875 total time=   0.1s\n",
      "[CV 1/5] END C=78.47599703514607, class_weight=None, penalty=l1, solver=lbfgs;, score=nan total time=   0.0s\n",
      "[CV 2/5] END C=78.47599703514607, class_weight=None, penalty=l1, solver=lbfgs;, score=nan total time=   0.0s\n",
      "[CV 3/5] END C=78.47599703514607, class_weight=None, penalty=l1, solver=lbfgs;, score=nan total time=   0.0s\n",
      "[CV 4/5] END C=78.47599703514607, class_weight=None, penalty=l1, solver=lbfgs;, score=nan total time=   0.0s\n",
      "[CV 5/5] END C=78.47599703514607, class_weight=None, penalty=l1, solver=lbfgs;, score=nan total time=   0.0s\n",
      "[CV 1/5] END C=78.47599703514607, class_weight=None, penalty=l1, solver=liblinear;, score=0.849 total time=   0.1s\n",
      "[CV 2/5] END C=78.47599703514607, class_weight=None, penalty=l1, solver=liblinear;, score=0.857 total time=   0.1s\n",
      "[CV 3/5] END C=78.47599703514607, class_weight=None, penalty=l1, solver=liblinear;, score=0.855 total time=   0.1s\n",
      "[CV 4/5] END C=78.47599703514607, class_weight=None, penalty=l1, solver=liblinear;, score=0.851 total time=   0.1s\n",
      "[CV 5/5] END C=78.47599703514607, class_weight=None, penalty=l1, solver=liblinear;, score=0.857 total time=   0.2s\n",
      "[CV 1/5] END C=78.47599703514607, class_weight=None, penalty=l2, solver=lbfgs;, score=0.849 total time=   0.1s\n",
      "[CV 2/5] END C=78.47599703514607, class_weight=None, penalty=l2, solver=lbfgs;, score=0.857 total time=   0.1s\n",
      "[CV 3/5] END C=78.47599703514607, class_weight=None, penalty=l2, solver=lbfgs;, score=0.855 total time=   0.1s\n",
      "[CV 4/5] END C=78.47599703514607, class_weight=None, penalty=l2, solver=lbfgs;, score=0.845 total time=   0.1s\n",
      "[CV 5/5] END C=78.47599703514607, class_weight=None, penalty=l2, solver=lbfgs;, score=0.857 total time=   0.2s\n",
      "[CV 1/5] END C=78.47599703514607, class_weight=None, penalty=l2, solver=liblinear;, score=0.849 total time=   0.0s\n",
      "[CV 5/5] END C=206.913808111479, class_weight=balanced, penalty=l1, solver=lbfgs;, score=nan total time=   0.0s\n",
      "[CV 1/5] END C=206.913808111479, class_weight=balanced, penalty=l1, solver=liblinear;, score=0.853 total time=   0.0s\n",
      "[CV 2/5] END C=206.913808111479, class_weight=balanced, penalty=l1, solver=liblinear;, score=0.875 total time=   0.0s\n",
      "[CV 3/5] END C=206.913808111479, class_weight=balanced, penalty=l1, solver=liblinear;, score=0.861 total time=   0.0s\n",
      "[CV 4/5] END C=206.913808111479, class_weight=balanced, penalty=l1, solver=liblinear;, score=0.835 total time=   0.1s\n",
      "[CV 5/5] END C=206.913808111479, class_weight=balanced, penalty=l1, solver=liblinear;, score=0.849 total time=   0.1s\n",
      "[CV 1/5] END C=206.913808111479, class_weight=balanced, penalty=l2, solver=lbfgs;, score=0.853 total time=   0.1s\n",
      "[CV 2/5] END C=206.913808111479, class_weight=balanced, penalty=l2, solver=lbfgs;, score=0.875 total time=   0.1s\n",
      "[CV 3/5] END C=206.913808111479, class_weight=balanced, penalty=l2, solver=lbfgs;, score=0.861 total time=   0.0s\n",
      "[CV 4/5] END C=206.913808111479, class_weight=balanced, penalty=l2, solver=lbfgs;, score=0.835 total time=   0.1s\n",
      "[CV 5/5] END C=206.913808111479, class_weight=balanced, penalty=l2, solver=lbfgs;, score=0.849 total time=   0.1s\n",
      "[CV 1/5] END C=206.913808111479, class_weight=balanced, penalty=l2, solver=liblinear;, score=0.853 total time=   0.0s\n",
      "[CV 2/5] END C=206.913808111479, class_weight=balanced, penalty=l2, solver=liblinear;, score=0.875 total time=   0.0s\n",
      "[CV 3/5] END C=206.913808111479, class_weight=balanced, penalty=l2, solver=liblinear;, score=0.861 total time=   0.0s\n",
      "[CV 4/5] END C=206.913808111479, class_weight=balanced, penalty=l2, solver=liblinear;, score=0.835 total time=   0.0s\n",
      "[CV 5/5] END C=206.913808111479, class_weight=balanced, penalty=l2, solver=liblinear;, score=0.849 total time=   0.0s\n",
      "[CV 1/5] END C=3792.690190732246, class_weight=None, penalty=l1, solver=lbfgs;, score=nan total time=   0.0s\n",
      "[CV 2/5] END C=3792.690190732246, class_weight=None, penalty=l1, solver=lbfgs;, score=nan total time=   0.0s\n",
      "[CV 3/5] END C=3792.690190732246, class_weight=None, penalty=l1, solver=lbfgs;, score=nan total time=   0.0s\n",
      "[CV 4/5] END C=3792.690190732246, class_weight=None, penalty=l1, solver=lbfgs;, score=nan total time=   0.0s\n",
      "[CV 5/5] END C=3792.690190732246, class_weight=None, penalty=l1, solver=lbfgs;, score=nan total time=   0.0s\n",
      "[CV 1/5] END C=3792.690190732246, class_weight=None, penalty=l1, solver=liblinear;, score=0.849 total time=   0.0s\n",
      "[CV 2/5] END C=3792.690190732246, class_weight=None, penalty=l1, solver=liblinear;, score=0.857 total time=   0.0s\n",
      "[CV 3/5] END C=3792.690190732246, class_weight=None, penalty=l1, solver=liblinear;, score=0.855 total time=   0.0s\n",
      "[CV 4/5] END C=3792.690190732246, class_weight=None, penalty=l1, solver=liblinear;, score=0.845 total time=   0.0s\n",
      "[CV 5/5] END C=3792.690190732246, class_weight=None, penalty=l1, solver=liblinear;, score=0.857 total time=   0.0s\n",
      "[CV 1/5] END C=3792.690190732246, class_weight=None, penalty=l2, solver=lbfgs;, score=0.849 total time=   0.0s\n",
      "[CV 2/5] END C=3792.690190732246, class_weight=None, penalty=l2, solver=lbfgs;, score=0.857 total time=   0.0s\n",
      "[CV 3/5] END C=3792.690190732246, class_weight=None, penalty=l2, solver=lbfgs;, score=0.855 total time=   0.1s\n",
      "[CV 4/5] END C=3792.690190732246, class_weight=None, penalty=l2, solver=lbfgs;, score=0.845 total time=   0.0s\n",
      "[CV 5/5] END C=3792.690190732246, class_weight=None, penalty=l2, solver=lbfgs;, score=0.857 total time=   0.0s\n",
      "[CV 1/5] END C=3792.690190732246, class_weight=None, penalty=l2, solver=liblinear;, score=0.849 total time=   0.0s\n",
      "[CV 2/5] END C=10000.0, class_weight=balanced, penalty=l1, solver=liblinear;, score=0.875 total time=   0.0s\n",
      "[CV 4/5] END C=10000.0, class_weight=balanced, penalty=l1, solver=liblinear;, score=0.835 total time=   0.0s\n",
      "[CV 1/5] END C=10000.0, class_weight=balanced, penalty=l2, solver=lbfgs;, score=0.853 total time=   0.1s\n",
      "[CV 4/5] END C=10000.0, class_weight=balanced, penalty=l2, solver=lbfgs;, score=0.835 total time=   0.0s\n",
      "[CV 1/5] END C=10000.0, class_weight=balanced, penalty=l2, solver=liblinear;, score=0.853 total time=   0.0s\n",
      "[CV 2/5] END C=10000.0, class_weight=balanced, penalty=l2, solver=liblinear;, score=0.875 total time=   0.0s\n",
      "[CV 4/5] END C=10000.0, class_weight=balanced, penalty=l2, solver=liblinear;, score=0.835 total time=   0.0s\n",
      "\n",
      "[CV 5/5] END C=0.012742749857031334, class_weight=balanced, penalty=l2, solver=liblinear;, score=0.877 total time=   0.0s\n",
      "[CV 5/5] END C=0.08858667904100823, class_weight=balanced, penalty=l1, solver=lbfgs;, score=nan total time=   0.0s\n",
      "[CV 1/5] END C=0.08858667904100823, class_weight=balanced, penalty=l1, solver=liblinear;, score=0.835 total time=   0.0s\n",
      "[CV 2/5] END C=0.08858667904100823, class_weight=balanced, penalty=l1, solver=liblinear;, score=0.871 total time=   0.0s\n",
      "[CV 3/5] END C=0.08858667904100823, class_weight=balanced, penalty=l1, solver=liblinear;, score=0.849 total time=   0.0s\n",
      "[CV 4/5] END C=0.08858667904100823, class_weight=balanced, penalty=l1, solver=liblinear;, score=0.841 total time=   0.0s\n",
      "[CV 5/5] END C=0.08858667904100823, class_weight=balanced, penalty=l1, solver=liblinear;, score=0.877 total time=   0.0s\n",
      "[CV 1/5] END C=0.08858667904100823, class_weight=balanced, penalty=l2, solver=lbfgs;, score=0.843 total time=   0.0s\n",
      "[CV 2/5] END C=0.08858667904100823, class_weight=balanced, penalty=l2, solver=lbfgs;, score=0.877 total time=   0.1s\n",
      "[CV 3/5] END C=0.08858667904100823, class_weight=balanced, penalty=l2, solver=lbfgs;, score=0.844 total time=   0.0s\n",
      "[CV 4/5] END C=0.08858667904100823, class_weight=balanced, penalty=l2, solver=lbfgs;, score=0.857 total time=   0.0s\n",
      "[CV 5/5] END C=0.08858667904100823, class_weight=balanced, penalty=l2, solver=lbfgs;, score=0.869 total time=   0.0s\n",
      "[CV 1/5] END C=0.08858667904100823, class_weight=balanced, penalty=l2, solver=liblinear;, score=0.843 total time=   0.0s\n",
      "[CV 2/5] END C=0.08858667904100823, class_weight=balanced, penalty=l2, solver=liblinear;, score=0.877 total time=   0.0s\n",
      "[CV 3/5] END C=0.08858667904100823, class_weight=balanced, penalty=l2, solver=liblinear;, score=0.844 total time=   0.0s\n",
      "[CV 4/5] END C=0.08858667904100823, class_weight=balanced, penalty=l2, solver=liblinear;, score=0.857 total time=   0.0s\n",
      "[CV 5/5] END C=0.08858667904100823, class_weight=balanced, penalty=l2, solver=liblinear;, score=0.871 total time=   0.0s\n",
      "[CV 5/5] END C=0.615848211066026, class_weight=balanced, penalty=l1, solver=lbfgs;, score=nan total time=   0.0s\n",
      "[CV 1/5] END C=0.615848211066026, class_weight=balanced, penalty=l1, solver=liblinear;, score=0.839 total time=   0.0s\n",
      "[CV 2/5] END C=0.615848211066026, class_weight=balanced, penalty=l1, solver=liblinear;, score=0.863 total time=   0.0s\n",
      "[CV 3/5] END C=0.615848211066026, class_weight=balanced, penalty=l1, solver=liblinear;, score=0.861 total time=   0.0s\n",
      "[CV 4/5] END C=0.615848211066026, class_weight=balanced, penalty=l1, solver=liblinear;, score=0.843 total time=   0.0s\n",
      "[CV 5/5] END C=0.615848211066026, class_weight=balanced, penalty=l1, solver=liblinear;, score=0.863 total time=   0.0s\n",
      "[CV 1/5] END C=0.615848211066026, class_weight=balanced, penalty=l2, solver=lbfgs;, score=0.843 total time=   0.1s\n",
      "[CV 2/5] END C=0.615848211066026, class_weight=balanced, penalty=l2, solver=lbfgs;, score=0.863 total time=   0.1s\n",
      "[CV 3/5] END C=0.615848211066026, class_weight=balanced, penalty=l2, solver=lbfgs;, score=0.861 total time=   0.0s\n",
      "[CV 4/5] END C=0.615848211066026, class_weight=balanced, penalty=l2, solver=lbfgs;, score=0.843 total time=   0.1s\n",
      "[CV 5/5] END C=0.615848211066026, class_weight=balanced, penalty=l2, solver=lbfgs;, score=0.863 total time=   0.0s\n",
      "[CV 1/5] END C=0.615848211066026, class_weight=balanced, penalty=l2, solver=liblinear;, score=0.837 total time=   0.0s\n",
      "[CV 2/5] END C=0.615848211066026, class_weight=balanced, penalty=l2, solver=liblinear;, score=0.863 total time=   0.0s\n",
      "[CV 3/5] END C=0.615848211066026, class_weight=balanced, penalty=l2, solver=liblinear;, score=0.861 total time=   0.0s\n",
      "[CV 4/5] END C=0.615848211066026, class_weight=balanced, penalty=l2, solver=liblinear;, score=0.851 total time=   0.0s\n",
      "[CV 5/5] END C=0.615848211066026, class_weight=balanced, penalty=l2, solver=liblinear;, score=0.863 total time=   0.0s\n",
      "[CV 5/5] END C=4.281332398719396, class_weight=balanced, penalty=l1, solver=lbfgs;, score=nan total time=   0.0s\n",
      "[CV 1/5] END C=4.281332398719396, class_weight=balanced, penalty=l1, solver=liblinear;, score=0.831 total time=   0.0s\n",
      "[CV 2/5] END C=4.281332398719396, class_weight=balanced, penalty=l1, solver=liblinear;, score=0.875 total time=   0.0s\n",
      "[CV 3/5] END C=4.281332398719396, class_weight=balanced, penalty=l1, solver=liblinear;, score=0.861 total time=   0.0s\n",
      "[CV 4/5] END C=4.281332398719396, class_weight=balanced, penalty=l1, solver=liblinear;, score=0.843 total time=   0.0s\n",
      "[CV 5/5] END C=4.281332398719396, class_weight=balanced, penalty=l1, solver=liblinear;, score=0.857 total time=   0.0s\n",
      "[CV 1/5] END C=4.281332398719396, class_weight=balanced, penalty=l2, solver=lbfgs;, score=0.853 total time=   0.1s\n",
      "[CV 2/5] END C=4.281332398719396, class_weight=balanced, penalty=l2, solver=lbfgs;, score=0.875 total time=   0.1s\n",
      "[CV 3/5] END C=4.281332398719396, class_weight=balanced, penalty=l2, solver=lbfgs;, score=0.861 total time=   0.1s\n",
      "[CV 4/5] END C=4.281332398719396, class_weight=balanced, penalty=l2, solver=lbfgs;, score=0.843 total time=   0.1s\n",
      "[CV 5/5] END C=4.281332398719396, class_weight=balanced, penalty=l2, solver=lbfgs;, score=0.857 total time=   0.1s\n",
      "[CV 1/5] END C=4.281332398719396, class_weight=balanced, penalty=l2, solver=liblinear;, score=0.847 total time=   0.0s\n",
      "[CV 2/5] END C=4.281332398719396, class_weight=balanced, penalty=l2, solver=liblinear;, score=0.875 total time=   0.0s\n",
      "[CV 3/5] END C=4.281332398719396, class_weight=balanced, penalty=l2, solver=liblinear;, score=0.861 total time=   0.0s\n",
      "[CV 4/5] END C=4.281332398719396, class_weight=balanced, penalty=l2, solver=liblinear;, score=0.843 total time=   0.0s\n",
      "[CV 5/5] END C=4.281332398719396, class_weight=balanced, penalty=l2, solver=liblinear;, score=0.857 total time=   0.0s\n",
      "[CV 4/5] END C=29.763514416313132, class_weight=None, penalty=l1, solver=liblinear;, score=0.851 total time=   0.1s\n",
      "[CV 5/5] END C=29.763514416313132, class_weight=None, penalty=l1, solver=liblinear;, score=0.857 total time=   0.1s\n",
      "[CV 1/5] END C=29.763514416313132, class_weight=None, penalty=l2, solver=lbfgs;, score=0.849 total time=   0.1s\n",
      "[CV 2/5] END C=29.763514416313132, class_weight=None, penalty=l2, solver=lbfgs;, score=0.863 total time=   0.1s\n",
      "[CV 3/5] END C=29.763514416313132, class_weight=None, penalty=l2, solver=lbfgs;, score=0.855 total time=   0.1s\n",
      "[CV 4/5] END C=29.763514416313132, class_weight=None, penalty=l2, solver=lbfgs;, score=0.851 total time=   0.1s\n",
      "[CV 5/5] END C=29.763514416313132, class_weight=None, penalty=l2, solver=lbfgs;, score=0.857 total time=   0.1s\n",
      "[CV 1/5] END C=29.763514416313132, class_weight=None, penalty=l2, solver=liblinear;, score=0.849 total time=   0.0s\n",
      "[CV 2/5] END C=29.763514416313132, class_weight=None, penalty=l2, solver=liblinear;, score=0.863 total time=   0.0s\n",
      "[CV 3/5] END C=29.763514416313132, class_weight=None, penalty=l2, solver=liblinear;, score=0.855 total time=   0.0s\n",
      "[CV 4/5] END C=29.763514416313132, class_weight=None, penalty=l2, solver=liblinear;, score=0.851 total time=   0.0s\n",
      "[CV 5/5] END C=29.763514416313132, class_weight=None, penalty=l2, solver=liblinear;, score=0.857 total time=   0.0s\n",
      "[CV 1/5] END C=29.763514416313132, class_weight=balanced, penalty=l1, solver=lbfgs;, score=nan total time=   0.0s\n",
      "[CV 2/5] END C=29.763514416313132, class_weight=balanced, penalty=l1, solver=lbfgs;, score=nan total time=   0.0s\n",
      "[CV 3/5] END C=29.763514416313132, class_weight=balanced, penalty=l1, solver=lbfgs;, score=nan total time=   0.0s\n",
      "[CV 4/5] END C=29.763514416313132, class_weight=balanced, penalty=l1, solver=lbfgs;, score=nan total time=   0.0s\n",
      "[CV 3/5] END C=78.47599703514607, class_weight=balanced, penalty=l2, solver=lbfgs;, score=0.861 total time=   0.1s\n",
      "[CV 4/5] END C=78.47599703514607, class_weight=balanced, penalty=l2, solver=lbfgs;, score=0.835 total time=   0.1s\n",
      "[CV 5/5] END C=78.47599703514607, class_weight=balanced, penalty=l2, solver=lbfgs;, score=0.849 total time=   0.2s\n",
      "[CV 1/5] END C=78.47599703514607, class_weight=balanced, penalty=l2, solver=liblinear;, score=0.853 total time=   0.0s\n",
      "[CV 2/5] END C=78.47599703514607, class_weight=balanced, penalty=l2, solver=liblinear;, score=0.875 total time=   0.1s\n",
      "[CV 3/5] END C=78.47599703514607, class_weight=balanced, penalty=l2, solver=liblinear;, score=0.861 total time=   0.0s\n",
      "[CV 4/5] END C=78.47599703514607, class_weight=balanced, penalty=l2, solver=liblinear;, score=0.835 total time=   0.0s\n",
      "[CV 5/5] END C=78.47599703514607, class_weight=balanced, penalty=l2, solver=liblinear;, score=0.849 total time=   0.0s\n",
      "[CV 1/5] END C=206.913808111479, class_weight=None, penalty=l1, solver=lbfgs;, score=nan total time=   0.0s\n",
      "[CV 2/5] END C=206.913808111479, class_weight=None, penalty=l1, solver=lbfgs;, score=nan total time=   0.0s\n",
      "[CV 3/5] END C=206.913808111479, class_weight=None, penalty=l1, solver=lbfgs;, score=nan total time=   0.0s\n",
      "[CV 4/5] END C=206.913808111479, class_weight=None, penalty=l1, solver=lbfgs;, score=nan total time=   0.0s\n",
      "[CV 5/5] END C=206.913808111479, class_weight=None, penalty=l1, solver=lbfgs;, score=nan total time=   0.0s\n",
      "[CV 1/5] END C=206.913808111479, class_weight=None, penalty=l1, solver=liblinear;, score=0.849 total time=   0.0s\n",
      "[CV 2/5] END C=206.913808111479, class_weight=None, penalty=l1, solver=liblinear;, score=0.857 total time=   0.0s\n",
      "[CV 3/5] END C=206.913808111479, class_weight=None, penalty=l1, solver=liblinear;, score=0.855 total time=   0.0s\n",
      "[CV 1/5] END C=545.5594781168514, class_weight=None, penalty=l1, solver=lbfgs;, score=nan total time=   0.0s\n",
      "[CV 2/5] END C=545.5594781168514, class_weight=None, penalty=l1, solver=lbfgs;, score=nan total time=   0.0s\n",
      "[CV 3/5] END C=545.5594781168514, class_weight=None, penalty=l1, solver=lbfgs;, score=nan total time=   0.0s\n",
      "[CV 4/5] END C=545.5594781168514, class_weight=None, penalty=l1, solver=lbfgs;, score=nan total time=   0.0s\n",
      "[CV 5/5] END C=545.5594781168514, class_weight=None, penalty=l1, solver=lbfgs;, score=nan total time=   0.0s\n",
      "[CV 1/5] END C=545.5594781168514, class_weight=None, penalty=l1, solver=liblinear;, score=0.849 total time=   0.0s\n",
      "[CV 2/5] END C=545.5594781168514, class_weight=None, penalty=l1, solver=liblinear;, score=0.857 total time=   0.0s\n",
      "[CV 3/5] END C=545.5594781168514, class_weight=None, penalty=l1, solver=liblinear;, score=0.855 total time=   0.1s\n",
      "[CV 4/5] END C=545.5594781168514, class_weight=None, penalty=l1, solver=liblinear;, score=0.845 total time=   0.0s\n",
      "[CV 5/5] END C=545.5594781168514, class_weight=None, penalty=l1, solver=liblinear;, score=0.857 total time=   0.0s\n",
      "[CV 1/5] END C=545.5594781168514, class_weight=None, penalty=l2, solver=lbfgs;, score=0.849 total time=   0.0s\n",
      "[CV 2/5] END C=545.5594781168514, class_weight=None, penalty=l2, solver=lbfgs;, score=0.857 total time=   0.0s\n",
      "[CV 3/5] END C=545.5594781168514, class_weight=None, penalty=l2, solver=lbfgs;, score=0.855 total time=   0.1s\n",
      "[CV 4/5] END C=545.5594781168514, class_weight=None, penalty=l2, solver=lbfgs;, score=0.845 total time=   0.0s\n",
      "[CV 5/5] END C=545.5594781168514, class_weight=None, penalty=l2, solver=lbfgs;, score=0.857 total time=   0.1s\n",
      "[CV 1/5] END C=545.5594781168514, class_weight=None, penalty=l2, solver=liblinear;, score=0.849 total time=   0.0s\n",
      "[CV 3/5] END C=545.5594781168514, class_weight=balanced, penalty=l2, solver=lbfgs;, score=0.861 total time=   0.0s\n",
      "[CV 4/5] END C=545.5594781168514, class_weight=balanced, penalty=l2, solver=lbfgs;, score=0.835 total time=   0.1s\n",
      "[CV 5/5] END C=545.5594781168514, class_weight=balanced, penalty=l2, solver=lbfgs;, score=0.849 total time=   0.1s\n",
      "[CV 1/5] END C=545.5594781168514, class_weight=balanced, penalty=l2, solver=liblinear;, score=0.853 total time=   0.0s\n",
      "[CV 2/5] END C=545.5594781168514, class_weight=balanced, penalty=l2, solver=liblinear;, score=0.875 total time=   0.0s\n",
      "[CV 3/5] END C=545.5594781168514, class_weight=balanced, penalty=l2, solver=liblinear;, score=0.861 total time=   0.0s\n",
      "[CV 4/5] END C=545.5594781168514, class_weight=balanced, penalty=l2, solver=liblinear;, score=0.835 total time=   0.0s\n",
      "[CV 5/5] END C=545.5594781168514, class_weight=balanced, penalty=l2, solver=liblinear;, score=0.849 total time=   0.0s\n",
      "[CV 1/5] END C=1438.44988828766, class_weight=None, penalty=l1, solver=lbfgs;, score=nan total time=   0.0s\n",
      "[CV 2/5] END C=1438.44988828766, class_weight=None, penalty=l1, solver=lbfgs;, score=nan total time=   0.0s\n",
      "[CV 3/5] END C=1438.44988828766, class_weight=None, penalty=l1, solver=lbfgs;, score=nan total time=   0.0s\n",
      "[CV 4/5] END C=1438.44988828766, class_weight=None, penalty=l1, solver=lbfgs;, score=nan total time=   0.0s\n",
      "[CV 5/5] END C=1438.44988828766, class_weight=None, penalty=l1, solver=lbfgs;, score=nan total time=   0.0s\n",
      "[CV 1/5] END C=1438.44988828766, class_weight=None, penalty=l1, solver=liblinear;, score=0.849 total time=   0.0s\n",
      "[CV 2/5] END C=1438.44988828766, class_weight=None, penalty=l1, solver=liblinear;, score=0.857 total time=   0.0s\n",
      "[CV 3/5] END C=1438.44988828766, class_weight=None, penalty=l1, solver=liblinear;, score=0.855 total time=   0.0s\n",
      "[CV 2/5] END C=3792.690190732246, class_weight=None, penalty=l2, solver=liblinear;, score=0.857 total time=   0.0s\n",
      "[CV 3/5] END C=3792.690190732246, class_weight=None, penalty=l2, solver=liblinear;, score=0.855 total time=   0.0s\n",
      "[CV 4/5] END C=3792.690190732246, class_weight=None, penalty=l2, solver=liblinear;, score=0.845 total time=   0.0s\n",
      "[CV 5/5] END C=3792.690190732246, class_weight=None, penalty=l2, solver=liblinear;, score=0.857 total time=   0.0s\n",
      "[CV 1/5] END C=3792.690190732246, class_weight=balanced, penalty=l1, solver=lbfgs;, score=nan total time=   0.0s\n",
      "[CV 2/5] END C=3792.690190732246, class_weight=balanced, penalty=l1, solver=lbfgs;, score=nan total time=   0.0s\n",
      "[CV 3/5] END C=3792.690190732246, class_weight=balanced, penalty=l1, solver=lbfgs;, score=nan total time=   0.0s\n",
      "[CV 4/5] END C=3792.690190732246, class_weight=balanced, penalty=l1, solver=lbfgs;, score=nan total time=   0.0s\n",
      "[CV 5/5] END C=3792.690190732246, class_weight=balanced, penalty=l1, solver=lbfgs;, score=nan total time=   0.0s\n",
      "[CV 1/5] END C=3792.690190732246, class_weight=balanced, penalty=l1, solver=liblinear;, score=0.853 total time=   0.0s\n",
      "[CV 2/5] END C=3792.690190732246, class_weight=balanced, penalty=l1, solver=liblinear;, score=0.875 total time=   0.0s\n",
      "[CV 3/5] END C=3792.690190732246, class_weight=balanced, penalty=l1, solver=liblinear;, score=0.861 total time=   0.0s\n",
      "[CV 4/5] END C=3792.690190732246, class_weight=balanced, penalty=l1, solver=liblinear;, score=0.835 total time=   0.0s\n",
      "[CV 5/5] END C=3792.690190732246, class_weight=balanced, penalty=l1, solver=liblinear;, score=0.849 total time=   0.0s\n",
      "[CV 1/5] END C=3792.690190732246, class_weight=balanced, penalty=l2, solver=lbfgs;, score=0.853 total time=   0.1s\n",
      "[CV 2/5] END C=3792.690190732246, class_weight=balanced, penalty=l2, solver=lbfgs;, score=0.875 total time=   0.0s\n",
      "[CV 5/5] END C=10000.0, class_weight=balanced, penalty=l1, solver=lbfgs;, score=nan total time=   0.0s\n",
      "[CV 1/5] END C=10000.0, class_weight=balanced, penalty=l1, solver=liblinear;, score=0.853 total time=   0.0s\n",
      "[CV 3/5] END C=10000.0, class_weight=balanced, penalty=l1, solver=liblinear;, score=0.861 total time=   0.0s\n",
      "[CV 5/5] END C=10000.0, class_weight=balanced, penalty=l1, solver=liblinear;, score=0.849 total time=   0.0s\n",
      "[CV 2/5] END C=10000.0, class_weight=balanced, penalty=l2, solver=lbfgs;, score=0.875 total time=   0.1s\n",
      "[CV 3/5] END C=10000.0, class_weight=balanced, penalty=l2, solver=lbfgs;, score=0.861 total time=   0.1s\n",
      "[CV 3/5] END C=10000.0, class_weight=balanced, penalty=l2, solver=liblinear;, score=0.861 total time=   0.0s\n",
      "[CV 5/5] END C=10000.0, class_weight=balanced, penalty=l2, solver=liblinear;, score=0.849 total time=   0.0s\n"
     ]
    },
    {
     "name": "stdout",
     "output_type": "stream",
     "text": [
      "\n",
      "[CV 2/5] END C=0.08858667904100823, class_weight=None, penalty=l1, solver=lbfgs;, score=nan total time=   0.0s\n",
      "[CV 3/5] END C=0.08858667904100823, class_weight=None, penalty=l1, solver=lbfgs;, score=nan total time=   0.0s\n",
      "[CV 4/5] END C=0.08858667904100823, class_weight=None, penalty=l1, solver=lbfgs;, score=nan total time=   0.0s\n",
      "[CV 5/5] END C=0.08858667904100823, class_weight=None, penalty=l1, solver=lbfgs;, score=nan total time=   0.0s\n",
      "[CV 1/5] END C=0.08858667904100823, class_weight=None, penalty=l1, solver=liblinear;, score=0.841 total time=   0.0s\n",
      "[CV 2/5] END C=0.08858667904100823, class_weight=None, penalty=l1, solver=liblinear;, score=0.859 total time=   0.0s\n",
      "[CV 3/5] END C=0.08858667904100823, class_weight=None, penalty=l1, solver=liblinear;, score=0.849 total time=   0.0s\n",
      "[CV 2/5] END C=0.23357214690901212, class_weight=None, penalty=l2, solver=liblinear;, score=0.871 total time=   0.0s\n",
      "[CV 3/5] END C=0.23357214690901212, class_weight=None, penalty=l2, solver=liblinear;, score=0.855 total time=   0.0s\n",
      "[CV 4/5] END C=0.23357214690901212, class_weight=None, penalty=l2, solver=liblinear;, score=0.875 total time=   0.0s\n",
      "[CV 5/5] END C=0.23357214690901212, class_weight=None, penalty=l2, solver=liblinear;, score=0.874 total time=   0.0s\n",
      "[CV 1/5] END C=0.23357214690901212, class_weight=balanced, penalty=l1, solver=lbfgs;, score=nan total time=   0.0s\n",
      "[CV 2/5] END C=0.23357214690901212, class_weight=balanced, penalty=l1, solver=lbfgs;, score=nan total time=   0.0s\n",
      "[CV 3/5] END C=0.23357214690901212, class_weight=balanced, penalty=l1, solver=lbfgs;, score=nan total time=   0.0s\n",
      "[CV 4/5] END C=0.23357214690901212, class_weight=balanced, penalty=l1, solver=lbfgs;, score=nan total time=   0.0s\n",
      "[CV 5/5] END C=0.23357214690901212, class_weight=balanced, penalty=l1, solver=lbfgs;, score=nan total time=   0.0s\n",
      "[CV 1/5] END C=0.23357214690901212, class_weight=balanced, penalty=l1, solver=liblinear;, score=0.845 total time=   0.0s\n",
      "[CV 2/5] END C=0.23357214690901212, class_weight=balanced, penalty=l1, solver=liblinear;, score=0.865 total time=   0.0s\n",
      "[CV 3/5] END C=0.23357214690901212, class_weight=balanced, penalty=l1, solver=liblinear;, score=0.855 total time=   0.0s\n",
      "[CV 4/5] END C=0.23357214690901212, class_weight=balanced, penalty=l1, solver=liblinear;, score=0.857 total time=   0.0s\n",
      "[CV 5/5] END C=0.23357214690901212, class_weight=balanced, penalty=l1, solver=liblinear;, score=0.861 total time=   0.0s\n",
      "[CV 1/5] END C=0.23357214690901212, class_weight=balanced, penalty=l2, solver=lbfgs;, score=0.851 total time=   0.0s\n",
      "[CV 2/5] END C=0.23357214690901212, class_weight=balanced, penalty=l2, solver=lbfgs;, score=0.871 total time=   0.0s\n",
      "[CV 1/5] END C=1.623776739188721, class_weight=None, penalty=l1, solver=lbfgs;, score=nan total time=   0.0s\n",
      "[CV 2/5] END C=1.623776739188721, class_weight=None, penalty=l1, solver=lbfgs;, score=nan total time=   0.0s\n",
      "[CV 3/5] END C=1.623776739188721, class_weight=None, penalty=l1, solver=lbfgs;, score=nan total time=   0.0s\n",
      "[CV 4/5] END C=1.623776739188721, class_weight=None, penalty=l1, solver=lbfgs;, score=nan total time=   0.0s\n",
      "[CV 5/5] END C=1.623776739188721, class_weight=None, penalty=l1, solver=lbfgs;, score=nan total time=   0.0s\n",
      "[CV 1/5] END C=1.623776739188721, class_weight=None, penalty=l1, solver=liblinear;, score=0.841 total time=   0.0s\n",
      "[CV 2/5] END C=1.623776739188721, class_weight=None, penalty=l1, solver=liblinear;, score=0.857 total time=   0.0s\n",
      "[CV 3/5] END C=1.623776739188721, class_weight=None, penalty=l1, solver=liblinear;, score=0.855 total time=   0.0s\n",
      "[CV 4/5] END C=1.623776739188721, class_weight=None, penalty=l1, solver=liblinear;, score=0.859 total time=   0.0s\n",
      "[CV 5/5] END C=1.623776739188721, class_weight=None, penalty=l1, solver=liblinear;, score=0.865 total time=   0.0s\n",
      "[CV 1/5] END C=1.623776739188721, class_weight=None, penalty=l2, solver=lbfgs;, score=0.849 total time=   0.1s\n",
      "[CV 2/5] END C=1.623776739188721, class_weight=None, penalty=l2, solver=lbfgs;, score=0.863 total time=   0.0s\n",
      "[CV 3/5] END C=1.623776739188721, class_weight=None, penalty=l2, solver=lbfgs;, score=0.855 total time=   0.1s\n",
      "[CV 4/5] END C=1.623776739188721, class_weight=None, penalty=l2, solver=lbfgs;, score=0.867 total time=   0.1s\n",
      "[CV 5/5] END C=1.623776739188721, class_weight=None, penalty=l2, solver=lbfgs;, score=0.857 total time=   0.0s\n",
      "[CV 1/5] END C=1.623776739188721, class_weight=None, penalty=l2, solver=liblinear;, score=0.849 total time=   0.0s\n",
      "[CV 4/5] END C=4.281332398719396, class_weight=None, penalty=l1, solver=liblinear;, score=0.851 total time=   0.1s\n",
      "[CV 5/5] END C=4.281332398719396, class_weight=None, penalty=l1, solver=liblinear;, score=0.857 total time=   0.0s\n",
      "[CV 1/5] END C=4.281332398719396, class_weight=None, penalty=l2, solver=lbfgs;, score=0.849 total time=   0.1s\n",
      "[CV 2/5] END C=4.281332398719396, class_weight=None, penalty=l2, solver=lbfgs;, score=0.857 total time=   0.1s\n",
      "[CV 3/5] END C=4.281332398719396, class_weight=None, penalty=l2, solver=lbfgs;, score=0.855 total time=   0.1s\n",
      "[CV 4/5] END C=4.281332398719396, class_weight=None, penalty=l2, solver=lbfgs;, score=0.851 total time=   0.1s\n",
      "[CV 5/5] END C=4.281332398719396, class_weight=None, penalty=l2, solver=lbfgs;, score=0.857 total time=   0.1s\n",
      "[CV 1/5] END C=4.281332398719396, class_weight=None, penalty=l2, solver=liblinear;, score=0.849 total time=   0.0s\n",
      "[CV 2/5] END C=4.281332398719396, class_weight=None, penalty=l2, solver=liblinear;, score=0.857 total time=   0.0s\n",
      "[CV 3/5] END C=4.281332398719396, class_weight=None, penalty=l2, solver=liblinear;, score=0.855 total time=   0.0s\n",
      "[CV 4/5] END C=4.281332398719396, class_weight=None, penalty=l2, solver=liblinear;, score=0.851 total time=   0.0s\n",
      "[CV 5/5] END C=4.281332398719396, class_weight=None, penalty=l2, solver=liblinear;, score=0.857 total time=   0.0s\n",
      "[CV 1/5] END C=4.281332398719396, class_weight=balanced, penalty=l1, solver=lbfgs;, score=nan total time=   0.0s\n",
      "[CV 2/5] END C=4.281332398719396, class_weight=balanced, penalty=l1, solver=lbfgs;, score=nan total time=   0.0s\n",
      "[CV 3/5] END C=4.281332398719396, class_weight=balanced, penalty=l1, solver=lbfgs;, score=nan total time=   0.0s\n",
      "[CV 4/5] END C=4.281332398719396, class_weight=balanced, penalty=l1, solver=lbfgs;, score=nan total time=   0.0s\n",
      "[CV 3/5] END C=11.288378916846883, class_weight=balanced, penalty=l2, solver=lbfgs;, score=0.861 total time=   0.1s\n",
      "[CV 4/5] END C=11.288378916846883, class_weight=balanced, penalty=l2, solver=lbfgs;, score=0.843 total time=   0.1s\n",
      "[CV 5/5] END C=11.288378916846883, class_weight=balanced, penalty=l2, solver=lbfgs;, score=0.849 total time=   0.1s\n",
      "[CV 1/5] END C=11.288378916846883, class_weight=balanced, penalty=l2, solver=liblinear;, score=0.853 total time=   0.0s\n",
      "[CV 2/5] END C=11.288378916846883, class_weight=balanced, penalty=l2, solver=liblinear;, score=0.875 total time=   0.0s\n",
      "[CV 3/5] END C=11.288378916846883, class_weight=balanced, penalty=l2, solver=liblinear;, score=0.861 total time=   0.0s\n",
      "[CV 4/5] END C=11.288378916846883, class_weight=balanced, penalty=l2, solver=liblinear;, score=0.843 total time=   0.0s\n",
      "[CV 5/5] END C=11.288378916846883, class_weight=balanced, penalty=l2, solver=liblinear;, score=0.849 total time=   0.0s\n",
      "[CV 1/5] END C=29.763514416313132, class_weight=None, penalty=l1, solver=lbfgs;, score=nan total time=   0.0s\n",
      "[CV 2/5] END C=29.763514416313132, class_weight=None, penalty=l1, solver=lbfgs;, score=nan total time=   0.0s\n",
      "[CV 3/5] END C=29.763514416313132, class_weight=None, penalty=l1, solver=lbfgs;, score=nan total time=   0.0s\n",
      "[CV 4/5] END C=29.763514416313132, class_weight=None, penalty=l1, solver=lbfgs;, score=nan total time=   0.0s\n",
      "[CV 5/5] END C=29.763514416313132, class_weight=None, penalty=l1, solver=lbfgs;, score=nan total time=   0.0s\n",
      "[CV 1/5] END C=29.763514416313132, class_weight=None, penalty=l1, solver=liblinear;, score=0.849 total time=   0.0s\n",
      "[CV 2/5] END C=29.763514416313132, class_weight=None, penalty=l1, solver=liblinear;, score=0.863 total time=   0.1s\n",
      "[CV 3/5] END C=29.763514416313132, class_weight=None, penalty=l1, solver=liblinear;, score=0.855 total time=   0.0s\n",
      "[CV 2/5] END C=78.47599703514607, class_weight=None, penalty=l2, solver=liblinear;, score=0.857 total time=   0.0s\n",
      "[CV 3/5] END C=78.47599703514607, class_weight=None, penalty=l2, solver=liblinear;, score=0.855 total time=   0.0s\n",
      "[CV 4/5] END C=78.47599703514607, class_weight=None, penalty=l2, solver=liblinear;, score=0.845 total time=   0.0s\n",
      "[CV 5/5] END C=78.47599703514607, class_weight=None, penalty=l2, solver=liblinear;, score=0.857 total time=   0.0s\n",
      "[CV 1/5] END C=78.47599703514607, class_weight=balanced, penalty=l1, solver=lbfgs;, score=nan total time=   0.0s\n",
      "[CV 2/5] END C=78.47599703514607, class_weight=balanced, penalty=l1, solver=lbfgs;, score=nan total time=   0.0s\n",
      "[CV 3/5] END C=78.47599703514607, class_weight=balanced, penalty=l1, solver=lbfgs;, score=nan total time=   0.0s\n",
      "[CV 4/5] END C=78.47599703514607, class_weight=balanced, penalty=l1, solver=lbfgs;, score=nan total time=   0.0s\n",
      "[CV 5/5] END C=78.47599703514607, class_weight=balanced, penalty=l1, solver=lbfgs;, score=nan total time=   0.0s\n",
      "[CV 1/5] END C=78.47599703514607, class_weight=balanced, penalty=l1, solver=liblinear;, score=0.853 total time=   0.1s\n",
      "[CV 2/5] END C=78.47599703514607, class_weight=balanced, penalty=l1, solver=liblinear;, score=0.875 total time=   0.2s\n",
      "[CV 3/5] END C=78.47599703514607, class_weight=balanced, penalty=l1, solver=liblinear;, score=0.861 total time=   0.1s\n",
      "[CV 4/5] END C=78.47599703514607, class_weight=balanced, penalty=l1, solver=liblinear;, score=0.835 total time=   0.1s\n",
      "[CV 5/5] END C=78.47599703514607, class_weight=balanced, penalty=l1, solver=liblinear;, score=0.849 total time=   0.2s\n",
      "[CV 1/5] END C=78.47599703514607, class_weight=balanced, penalty=l2, solver=lbfgs;, score=0.853 total time=   0.1s\n",
      "[CV 2/5] END C=78.47599703514607, class_weight=balanced, penalty=l2, solver=lbfgs;, score=0.875 total time=   0.1s\n",
      "[CV 2/5] END C=545.5594781168514, class_weight=None, penalty=l2, solver=liblinear;, score=0.857 total time=   0.0s\n",
      "[CV 3/5] END C=545.5594781168514, class_weight=None, penalty=l2, solver=liblinear;, score=0.855 total time=   0.0s\n",
      "[CV 4/5] END C=545.5594781168514, class_weight=None, penalty=l2, solver=liblinear;, score=0.845 total time=   0.0s\n",
      "[CV 5/5] END C=545.5594781168514, class_weight=None, penalty=l2, solver=liblinear;, score=0.857 total time=   0.0s\n",
      "[CV 1/5] END C=545.5594781168514, class_weight=balanced, penalty=l1, solver=lbfgs;, score=nan total time=   0.0s\n",
      "[CV 2/5] END C=545.5594781168514, class_weight=balanced, penalty=l1, solver=lbfgs;, score=nan total time=   0.0s\n",
      "[CV 3/5] END C=545.5594781168514, class_weight=balanced, penalty=l1, solver=lbfgs;, score=nan total time=   0.0s\n",
      "[CV 4/5] END C=545.5594781168514, class_weight=balanced, penalty=l1, solver=lbfgs;, score=nan total time=   0.0s\n",
      "[CV 5/5] END C=545.5594781168514, class_weight=balanced, penalty=l1, solver=lbfgs;, score=nan total time=   0.0s\n",
      "[CV 1/5] END C=545.5594781168514, class_weight=balanced, penalty=l1, solver=liblinear;, score=0.853 total time=   0.1s\n",
      "[CV 2/5] END C=545.5594781168514, class_weight=balanced, penalty=l1, solver=liblinear;, score=0.875 total time=   0.0s\n",
      "[CV 3/5] END C=545.5594781168514, class_weight=balanced, penalty=l1, solver=liblinear;, score=0.861 total time=   0.0s\n",
      "[CV 4/5] END C=545.5594781168514, class_weight=balanced, penalty=l1, solver=liblinear;, score=0.835 total time=   0.0s\n",
      "[CV 5/5] END C=545.5594781168514, class_weight=balanced, penalty=l1, solver=liblinear;, score=0.849 total time=   0.0s\n",
      "[CV 1/5] END C=545.5594781168514, class_weight=balanced, penalty=l2, solver=lbfgs;, score=0.853 total time=   0.1s\n",
      "[CV 2/5] END C=545.5594781168514, class_weight=balanced, penalty=l2, solver=lbfgs;, score=0.875 total time=   0.1s\n",
      "[CV 4/5] END C=1438.44988828766, class_weight=None, penalty=l1, solver=liblinear;, score=0.845 total time=   0.0s\n",
      "[CV 5/5] END C=1438.44988828766, class_weight=None, penalty=l1, solver=liblinear;, score=0.857 total time=   0.0s\n",
      "[CV 1/5] END C=1438.44988828766, class_weight=None, penalty=l2, solver=lbfgs;, score=0.849 total time=   0.0s\n",
      "[CV 2/5] END C=1438.44988828766, class_weight=None, penalty=l2, solver=lbfgs;, score=0.857 total time=   0.1s\n",
      "[CV 3/5] END C=1438.44988828766, class_weight=None, penalty=l2, solver=lbfgs;, score=0.855 total time=   0.0s\n",
      "[CV 4/5] END C=1438.44988828766, class_weight=None, penalty=l2, solver=lbfgs;, score=0.845 total time=   0.0s\n",
      "[CV 5/5] END C=1438.44988828766, class_weight=None, penalty=l2, solver=lbfgs;, score=0.857 total time=   0.1s\n",
      "[CV 1/5] END C=1438.44988828766, class_weight=None, penalty=l2, solver=liblinear;, score=0.849 total time=   0.0s\n",
      "[CV 2/5] END C=1438.44988828766, class_weight=None, penalty=l2, solver=liblinear;, score=0.857 total time=   0.0s\n",
      "[CV 3/5] END C=1438.44988828766, class_weight=None, penalty=l2, solver=liblinear;, score=0.855 total time=   0.0s\n",
      "[CV 4/5] END C=1438.44988828766, class_weight=None, penalty=l2, solver=liblinear;, score=0.845 total time=   0.0s\n",
      "[CV 5/5] END C=1438.44988828766, class_weight=None, penalty=l2, solver=liblinear;, score=0.857 total time=   0.0s\n",
      "[CV 1/5] END C=1438.44988828766, class_weight=balanced, penalty=l1, solver=lbfgs;, score=nan total time=   0.0s\n",
      "[CV 2/5] END C=1438.44988828766, class_weight=balanced, penalty=l1, solver=lbfgs;, score=nan total time=   0.0s\n",
      "[CV 3/5] END C=1438.44988828766, class_weight=balanced, penalty=l1, solver=lbfgs;, score=nan total time=   0.0s\n",
      "[CV 4/5] END C=1438.44988828766, class_weight=balanced, penalty=l1, solver=lbfgs;, score=nan total time=   0.0s\n",
      "[CV 3/5] END C=3792.690190732246, class_weight=balanced, penalty=l2, solver=lbfgs;, score=0.861 total time=   0.1s\n",
      "[CV 4/5] END C=3792.690190732246, class_weight=balanced, penalty=l2, solver=lbfgs;, score=0.835 total time=   0.1s\n",
      "[CV 5/5] END C=3792.690190732246, class_weight=balanced, penalty=l2, solver=lbfgs;, score=0.849 total time=   0.1s\n",
      "[CV 1/5] END C=3792.690190732246, class_weight=balanced, penalty=l2, solver=liblinear;, score=0.853 total time=   0.0s\n",
      "[CV 2/5] END C=3792.690190732246, class_weight=balanced, penalty=l2, solver=liblinear;, score=0.875 total time=   0.0s\n",
      "[CV 3/5] END C=3792.690190732246, class_weight=balanced, penalty=l2, solver=liblinear;, score=0.861 total time=   0.0s\n",
      "[CV 4/5] END C=3792.690190732246, class_weight=balanced, penalty=l2, solver=liblinear;, score=0.835 total time=   0.0s\n",
      "[CV 5/5] END C=3792.690190732246, class_weight=balanced, penalty=l2, solver=liblinear;, score=0.849 total time=   0.0s\n",
      "[CV 1/5] END C=10000.0, class_weight=None, penalty=l1, solver=lbfgs;, score=nan total time=   0.0s\n",
      "[CV 2/5] END C=10000.0, class_weight=None, penalty=l1, solver=lbfgs;, score=nan total time=   0.0s\n",
      "[CV 3/5] END C=10000.0, class_weight=None, penalty=l1, solver=lbfgs;, score=nan total time=   0.0s\n",
      "[CV 4/5] END C=10000.0, class_weight=None, penalty=l1, solver=lbfgs;, score=nan total time=   0.0s\n",
      "[CV 5/5] END C=10000.0, class_weight=None, penalty=l1, solver=lbfgs;, score=nan total time=   0.0s\n",
      "[CV 1/5] END C=10000.0, class_weight=None, penalty=l1, solver=liblinear;, score=0.849 total time=   0.0s\n",
      "[CV 2/5] END C=10000.0, class_weight=None, penalty=l1, solver=liblinear;, score=0.857 total time=   0.0s\n",
      "[CV 3/5] END C=10000.0, class_weight=None, penalty=l1, solver=liblinear;, score=0.855 total time=   0.0s\n",
      "[CV 5/5] END C=10000.0, class_weight=balanced, penalty=l2, solver=lbfgs;, score=0.849 total time=   0.1s\n",
      "\n",
      "[CV 5/5] END C=0.08858667904100823, class_weight=None, penalty=l2, solver=liblinear;, score=0.880 total time=   0.0s\n",
      "[CV 1/5] END C=0.08858667904100823, class_weight=balanced, penalty=l1, solver=lbfgs;, score=nan total time=   0.0s\n",
      "[CV 2/5] END C=0.08858667904100823, class_weight=balanced, penalty=l1, solver=lbfgs;, score=nan total time=   0.0s\n",
      "[CV 3/5] END C=0.08858667904100823, class_weight=balanced, penalty=l1, solver=lbfgs;, score=nan total time=   0.0s\n",
      "[CV 4/5] END C=0.08858667904100823, class_weight=balanced, penalty=l1, solver=lbfgs;, score=nan total time=   0.0s\n",
      "[CV 3/5] END C=0.23357214690901212, class_weight=balanced, penalty=l2, solver=lbfgs;, score=0.861 total time=   0.1s\n",
      "[CV 4/5] END C=0.23357214690901212, class_weight=balanced, penalty=l2, solver=lbfgs;, score=0.857 total time=   0.1s\n",
      "[CV 5/5] END C=0.23357214690901212, class_weight=balanced, penalty=l2, solver=lbfgs;, score=0.869 total time=   0.1s\n",
      "[CV 1/5] END C=0.23357214690901212, class_weight=balanced, penalty=l2, solver=liblinear;, score=0.845 total time=   0.0s\n",
      "[CV 2/5] END C=0.23357214690901212, class_weight=balanced, penalty=l2, solver=liblinear;, score=0.871 total time=   0.0s\n",
      "[CV 3/5] END C=0.23357214690901212, class_weight=balanced, penalty=l2, solver=liblinear;, score=0.861 total time=   0.0s\n",
      "[CV 4/5] END C=0.23357214690901212, class_weight=balanced, penalty=l2, solver=liblinear;, score=0.851 total time=   0.0s\n",
      "[CV 5/5] END C=0.23357214690901212, class_weight=balanced, penalty=l2, solver=liblinear;, score=0.863 total time=   0.0s\n",
      "[CV 1/5] END C=0.615848211066026, class_weight=None, penalty=l1, solver=lbfgs;, score=nan total time=   0.0s\n",
      "[CV 2/5] END C=0.615848211066026, class_weight=None, penalty=l1, solver=lbfgs;, score=nan total time=   0.0s\n",
      "[CV 3/5] END C=0.615848211066026, class_weight=None, penalty=l1, solver=lbfgs;, score=nan total time=   0.0s\n",
      "[CV 4/5] END C=0.615848211066026, class_weight=None, penalty=l1, solver=lbfgs;, score=nan total time=   0.0s\n",
      "[CV 5/5] END C=0.615848211066026, class_weight=None, penalty=l1, solver=lbfgs;, score=nan total time=   0.0s\n",
      "[CV 1/5] END C=0.615848211066026, class_weight=None, penalty=l1, solver=liblinear;, score=0.865 total time=   0.0s\n",
      "[CV 2/5] END C=0.615848211066026, class_weight=None, penalty=l1, solver=liblinear;, score=0.863 total time=   0.0s\n",
      "[CV 3/5] END C=0.615848211066026, class_weight=None, penalty=l1, solver=liblinear;, score=0.855 total time=   0.0s\n",
      "[CV 2/5] END C=1.623776739188721, class_weight=None, penalty=l2, solver=liblinear;, score=0.863 total time=   0.0s\n",
      "[CV 3/5] END C=1.623776739188721, class_weight=None, penalty=l2, solver=liblinear;, score=0.855 total time=   0.0s\n",
      "[CV 4/5] END C=1.623776739188721, class_weight=None, penalty=l2, solver=liblinear;, score=0.851 total time=   0.0s\n",
      "[CV 5/5] END C=1.623776739188721, class_weight=None, penalty=l2, solver=liblinear;, score=0.865 total time=   0.0s\n",
      "[CV 1/5] END C=1.623776739188721, class_weight=balanced, penalty=l1, solver=lbfgs;, score=nan total time=   0.0s\n",
      "[CV 2/5] END C=1.623776739188721, class_weight=balanced, penalty=l1, solver=lbfgs;, score=nan total time=   0.0s\n",
      "[CV 3/5] END C=1.623776739188721, class_weight=balanced, penalty=l1, solver=lbfgs;, score=nan total time=   0.0s\n",
      "[CV 4/5] END C=1.623776739188721, class_weight=balanced, penalty=l1, solver=lbfgs;, score=nan total time=   0.0s\n",
      "[CV 5/5] END C=1.623776739188721, class_weight=balanced, penalty=l1, solver=lbfgs;, score=nan total time=   0.0s\n",
      "[CV 1/5] END C=1.623776739188721, class_weight=balanced, penalty=l1, solver=liblinear;, score=0.839 total time=   0.0s\n",
      "[CV 2/5] END C=1.623776739188721, class_weight=balanced, penalty=l1, solver=liblinear;, score=0.869 total time=   0.0s\n",
      "[CV 3/5] END C=1.623776739188721, class_weight=balanced, penalty=l1, solver=liblinear;, score=0.861 total time=   0.0s\n",
      "[CV 4/5] END C=1.623776739188721, class_weight=balanced, penalty=l1, solver=liblinear;, score=0.835 total time=   0.0s\n",
      "[CV 5/5] END C=1.623776739188721, class_weight=balanced, penalty=l1, solver=liblinear;, score=0.849 total time=   0.0s\n",
      "[CV 1/5] END C=1.623776739188721, class_weight=balanced, penalty=l2, solver=lbfgs;, score=0.845 total time=   0.1s\n",
      "[CV 2/5] END C=1.623776739188721, class_weight=balanced, penalty=l2, solver=lbfgs;, score=0.869 total time=   0.1s\n",
      "[CV 1/5] END C=11.288378916846883, class_weight=None, penalty=l1, solver=lbfgs;, score=nan total time=   0.0s\n",
      "[CV 2/5] END C=11.288378916846883, class_weight=None, penalty=l1, solver=lbfgs;, score=nan total time=   0.0s\n",
      "[CV 3/5] END C=11.288378916846883, class_weight=None, penalty=l1, solver=lbfgs;, score=nan total time=   0.0s\n",
      "[CV 4/5] END C=11.288378916846883, class_weight=None, penalty=l1, solver=lbfgs;, score=nan total time=   0.0s\n",
      "[CV 5/5] END C=11.288378916846883, class_weight=None, penalty=l1, solver=lbfgs;, score=nan total time=   0.0s\n",
      "[CV 1/5] END C=11.288378916846883, class_weight=None, penalty=l1, solver=liblinear;, score=0.849 total time=   0.0s\n",
      "[CV 2/5] END C=11.288378916846883, class_weight=None, penalty=l1, solver=liblinear;, score=0.863 total time=   0.0s\n",
      "[CV 3/5] END C=11.288378916846883, class_weight=None, penalty=l1, solver=liblinear;, score=0.855 total time=   0.0s\n",
      "[CV 4/5] END C=11.288378916846883, class_weight=None, penalty=l1, solver=liblinear;, score=0.851 total time=   0.1s\n",
      "[CV 5/5] END C=11.288378916846883, class_weight=None, penalty=l1, solver=liblinear;, score=0.857 total time=   0.0s\n",
      "[CV 1/5] END C=11.288378916846883, class_weight=None, penalty=l2, solver=lbfgs;, score=0.849 total time=   0.1s\n",
      "[CV 2/5] END C=11.288378916846883, class_weight=None, penalty=l2, solver=lbfgs;, score=0.863 total time=   0.1s\n",
      "[CV 3/5] END C=11.288378916846883, class_weight=None, penalty=l2, solver=lbfgs;, score=0.855 total time=   0.1s\n",
      "[CV 4/5] END C=11.288378916846883, class_weight=None, penalty=l2, solver=lbfgs;, score=0.851 total time=   0.1s\n",
      "[CV 5/5] END C=11.288378916846883, class_weight=None, penalty=l2, solver=lbfgs;, score=0.857 total time=   0.1s\n",
      "[CV 1/5] END C=11.288378916846883, class_weight=None, penalty=l2, solver=liblinear;, score=0.849 total time=   0.0s\n",
      "[CV 5/5] END C=29.763514416313132, class_weight=balanced, penalty=l1, solver=lbfgs;, score=nan total time=   0.0s\n",
      "[CV 1/5] END C=29.763514416313132, class_weight=balanced, penalty=l1, solver=liblinear;, score=0.853 total time=   0.0s\n",
      "[CV 2/5] END C=29.763514416313132, class_weight=balanced, penalty=l1, solver=liblinear;, score=0.875 total time=   0.1s\n",
      "[CV 3/5] END C=29.763514416313132, class_weight=balanced, penalty=l1, solver=liblinear;, score=0.861 total time=   0.0s\n",
      "[CV 4/5] END C=29.763514416313132, class_weight=balanced, penalty=l1, solver=liblinear;, score=0.835 total time=   0.1s\n",
      "[CV 5/5] END C=29.763514416313132, class_weight=balanced, penalty=l1, solver=liblinear;, score=0.849 total time=   0.1s\n",
      "[CV 1/5] END C=29.763514416313132, class_weight=balanced, penalty=l2, solver=lbfgs;, score=0.853 total time=   0.1s\n",
      "[CV 2/5] END C=29.763514416313132, class_weight=balanced, penalty=l2, solver=lbfgs;, score=0.875 total time=   0.1s\n",
      "[CV 3/5] END C=29.763514416313132, class_weight=balanced, penalty=l2, solver=lbfgs;, score=0.861 total time=   0.1s\n",
      "[CV 4/5] END C=29.763514416313132, class_weight=balanced, penalty=l2, solver=lbfgs;, score=0.835 total time=   0.1s\n",
      "[CV 5/5] END C=29.763514416313132, class_weight=balanced, penalty=l2, solver=lbfgs;, score=0.849 total time=   0.2s\n",
      "[CV 1/5] END C=29.763514416313132, class_weight=balanced, penalty=l2, solver=liblinear;, score=0.853 total time=   0.0s\n",
      "[CV 2/5] END C=29.763514416313132, class_weight=balanced, penalty=l2, solver=liblinear;, score=0.875 total time=   0.1s\n",
      "[CV 3/5] END C=29.763514416313132, class_weight=balanced, penalty=l2, solver=liblinear;, score=0.861 total time=   0.0s\n",
      "[CV 4/5] END C=29.763514416313132, class_weight=balanced, penalty=l2, solver=liblinear;, score=0.835 total time=   0.0s\n",
      "[CV 5/5] END C=29.763514416313132, class_weight=balanced, penalty=l2, solver=liblinear;, score=0.849 total time=   0.0s\n",
      "[CV 4/5] END C=206.913808111479, class_weight=None, penalty=l1, solver=liblinear;, score=0.845 total time=   0.1s\n",
      "[CV 5/5] END C=206.913808111479, class_weight=None, penalty=l1, solver=liblinear;, score=0.857 total time=   0.1s\n",
      "[CV 1/5] END C=206.913808111479, class_weight=None, penalty=l2, solver=lbfgs;, score=0.849 total time=   0.1s\n",
      "[CV 2/5] END C=206.913808111479, class_weight=None, penalty=l2, solver=lbfgs;, score=0.857 total time=   0.1s\n",
      "[CV 3/5] END C=206.913808111479, class_weight=None, penalty=l2, solver=lbfgs;, score=0.855 total time=   0.1s\n",
      "[CV 4/5] END C=206.913808111479, class_weight=None, penalty=l2, solver=lbfgs;, score=0.845 total time=   0.1s\n",
      "[CV 5/5] END C=206.913808111479, class_weight=None, penalty=l2, solver=lbfgs;, score=0.857 total time=   0.1s\n",
      "[CV 1/5] END C=206.913808111479, class_weight=None, penalty=l2, solver=liblinear;, score=0.849 total time=   0.0s\n",
      "[CV 2/5] END C=206.913808111479, class_weight=None, penalty=l2, solver=liblinear;, score=0.857 total time=   0.0s\n",
      "[CV 3/5] END C=206.913808111479, class_weight=None, penalty=l2, solver=liblinear;, score=0.855 total time=   0.0s\n",
      "[CV 4/5] END C=206.913808111479, class_weight=None, penalty=l2, solver=liblinear;, score=0.845 total time=   0.0s\n",
      "[CV 5/5] END C=206.913808111479, class_weight=None, penalty=l2, solver=liblinear;, score=0.857 total time=   0.0s\n",
      "[CV 1/5] END C=206.913808111479, class_weight=balanced, penalty=l1, solver=lbfgs;, score=nan total time=   0.0s\n",
      "[CV 2/5] END C=206.913808111479, class_weight=balanced, penalty=l1, solver=lbfgs;, score=nan total time=   0.0s\n",
      "[CV 3/5] END C=206.913808111479, class_weight=balanced, penalty=l1, solver=lbfgs;, score=nan total time=   0.0s\n",
      "[CV 4/5] END C=206.913808111479, class_weight=balanced, penalty=l1, solver=lbfgs;, score=nan total time=   0.0s\n",
      "[CV 5/5] END C=1438.44988828766, class_weight=balanced, penalty=l1, solver=lbfgs;, score=nan total time=   0.0s\n",
      "[CV 1/5] END C=1438.44988828766, class_weight=balanced, penalty=l1, solver=liblinear;, score=0.853 total time=   0.0s\n",
      "[CV 2/5] END C=1438.44988828766, class_weight=balanced, penalty=l1, solver=liblinear;, score=0.875 total time=   0.0s\n",
      "[CV 3/5] END C=1438.44988828766, class_weight=balanced, penalty=l1, solver=liblinear;, score=0.861 total time=   0.0s\n",
      "[CV 4/5] END C=1438.44988828766, class_weight=balanced, penalty=l1, solver=liblinear;, score=0.835 total time=   0.0s\n",
      "[CV 5/5] END C=1438.44988828766, class_weight=balanced, penalty=l1, solver=liblinear;, score=0.849 total time=   0.0s\n",
      "[CV 1/5] END C=1438.44988828766, class_weight=balanced, penalty=l2, solver=lbfgs;, score=0.853 total time=   0.0s\n",
      "[CV 2/5] END C=1438.44988828766, class_weight=balanced, penalty=l2, solver=lbfgs;, score=0.875 total time=   0.1s\n",
      "[CV 3/5] END C=1438.44988828766, class_weight=balanced, penalty=l2, solver=lbfgs;, score=0.861 total time=   0.1s\n",
      "[CV 4/5] END C=1438.44988828766, class_weight=balanced, penalty=l2, solver=lbfgs;, score=0.835 total time=   0.1s\n",
      "[CV 5/5] END C=1438.44988828766, class_weight=balanced, penalty=l2, solver=lbfgs;, score=0.849 total time=   0.1s\n",
      "[CV 1/5] END C=1438.44988828766, class_weight=balanced, penalty=l2, solver=liblinear;, score=0.853 total time=   0.0s\n",
      "[CV 2/5] END C=1438.44988828766, class_weight=balanced, penalty=l2, solver=liblinear;, score=0.875 total time=   0.0s\n",
      "[CV 3/5] END C=1438.44988828766, class_weight=balanced, penalty=l2, solver=liblinear;, score=0.861 total time=   0.0s\n",
      "[CV 4/5] END C=1438.44988828766, class_weight=balanced, penalty=l2, solver=liblinear;, score=0.835 total time=   0.0s\n",
      "[CV 5/5] END C=1438.44988828766, class_weight=balanced, penalty=l2, solver=liblinear;, score=0.849 total time=   0.0s\n",
      "[CV 4/5] END C=10000.0, class_weight=None, penalty=l1, solver=liblinear;, score=0.845 total time=   0.0s\n",
      "[CV 5/5] END C=10000.0, class_weight=None, penalty=l1, solver=liblinear;, score=0.857 total time=   0.0s\n",
      "[CV 1/5] END C=10000.0, class_weight=None, penalty=l2, solver=lbfgs;, score=0.849 total time=   0.1s\n",
      "[CV 2/5] END C=10000.0, class_weight=None, penalty=l2, solver=lbfgs;, score=0.857 total time=   0.1s\n",
      "[CV 3/5] END C=10000.0, class_weight=None, penalty=l2, solver=lbfgs;, score=0.855 total time=   0.0s\n",
      "[CV 4/5] END C=10000.0, class_weight=None, penalty=l2, solver=lbfgs;, score=0.845 total time=   0.0s\n",
      "[CV 5/5] END C=10000.0, class_weight=None, penalty=l2, solver=lbfgs;, score=0.857 total time=   0.0s\n",
      "[CV 1/5] END C=10000.0, class_weight=None, penalty=l2, solver=liblinear;, score=0.849 total time=   0.0s\n",
      "[CV 2/5] END C=10000.0, class_weight=None, penalty=l2, solver=liblinear;, score=0.857 total time=   0.0s\n",
      "[CV 3/5] END C=10000.0, class_weight=None, penalty=l2, solver=liblinear;, score=0.855 total time=   0.0s\n",
      "[CV 4/5] END C=10000.0, class_weight=None, penalty=l2, solver=liblinear;, score=0.845 total time=   0.0s\n",
      "[CV 5/5] END C=10000.0, class_weight=None, penalty=l2, solver=liblinear;, score=0.857 total time=   0.0s\n",
      "[CV 1/5] END C=10000.0, class_weight=balanced, penalty=l1, solver=lbfgs;, score=nan total time=   0.0s\n",
      "[CV 2/5] END C=10000.0, class_weight=balanced, penalty=l1, solver=lbfgs;, score=nan total time=   0.0s\n",
      "[CV 3/5] END C=10000.0, class_weight=balanced, penalty=l1, solver=lbfgs;, score=nan total time=   0.0s\n",
      "[CV 4/5] END C=10000.0, class_weight=balanced, penalty=l1, solver=lbfgs;, score=nan total time=   0.0s\n"
     ]
    }
   ],
   "source": [
    "with open(\"model_LogisticRegressionClassifier.dill\", \"wb\") as f:\n",
    "    dill.dump(classifier, f)"
   ]
  }
 ],
 "metadata": {
  "colab": {
   "collapsed_sections": [],
   "name": "Copy of KDD_best.ipynb",
   "provenance": []
  },
  "kernelspec": {
   "display_name": "Python 3 (ipykernel)",
   "language": "python",
   "name": "python3"
  },
  "language_info": {
   "codemirror_mode": {
    "name": "ipython",
    "version": 3
   },
   "file_extension": ".py",
   "mimetype": "text/x-python",
   "name": "python",
   "nbconvert_exporter": "python",
   "pygments_lexer": "ipython3",
   "version": "3.7.8"
  }
 },
 "nbformat": 4,
 "nbformat_minor": 1
}
