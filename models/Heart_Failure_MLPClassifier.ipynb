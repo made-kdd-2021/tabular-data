{
 "cells": [
  {
   "cell_type": "markdown",
   "id": "played-leather",
   "metadata": {},
   "source": [
    "## Курсовой проект по курсу \"Интерпретируемый ИИ и майнинг данных\"\n",
    "### Часть 1: Работа с табличными данными\n",
    "### Этап 3.1: Построение моделей: Нейронная сеть MLPClassifier"
   ]
  },
  {
   "cell_type": "markdown",
   "id": "large-palace",
   "metadata": {},
   "source": [
    "**Материалы к проекту (файлы):**<br>\n",
    "* X_train.csv/y_train.csv - тренировочная выборка<br>\n",
    "* X_test.csv/y_test.csv - тестовая выборка<br>\n",
    "\n",
    "**Целевая переменная:**\n",
    "HeartDisease: output class [1: heart disease, 0: Normal]\n",
    "\n",
    "**Описание датасета:**\n",
    "Cardiovascular diseases (CVDs) are the number 1 cause of death globally, taking an estimated 17.9 million lives each year, which accounts for 31% of all deaths worldwide. Four out of 5CVD deaths are due to heart attacks and strokes, and one-third of these deaths occur prematurely in people under 70 years of age. Heart failure is a common event caused by CVDs and this dataset contains 11 features that can be used to predict a possible heart disease.\n",
    "\n",
    "People with cardiovascular disease or who are at high cardiovascular risk (due to the presence of one or more risk factors such as hypertension, diabetes, hyperlipidaemia or already established disease) need early detection and management wherein a machine learning model can be of great help.\n",
    "\n",
    "**Атрибуты:**\n",
    "1. Age: age of the patient [years] - **Возраст**\n",
    "2. Sex: sex of the patient [M: Male, F: Female] - **Пол**\n",
    "3. ChestPainType: chest pain type [TA: Typical Angina, ATA: Atypical Angina, NAP: Non-Anginal Pain, ASY: Asymptomatic] - **Тип боли в груди**\n",
    "4. RestingBP: resting blood pressure [mm Hg] - **Артериальное давление в покое**\n",
    "5. Cholesterol: serum cholesterol [mm/dl] - **Холестерин** \n",
    "6. FastingBS: fasting blood sugar [1: if FastingBS > 120 mg/dl, 0: otherwise] - **Уровень сахара в крови натощак**\n",
    "7. RestingECG: resting electrocardiogram results [Normal: Normal, ST: having ST-T wave abnormality (T wave inversions and/or ST elevation or depression of > 0.05 mV), LVH: showing probable or definite left ventricular hypertrophy by Estes' criteria] - **ЭКГ в покое**\n",
    "8. MaxHR: maximum heart rate achieved [Numeric value between 60 and 202] - **Максимальная частота сердечных сокращений**\n",
    "9. ExerciseAngina: exercise-induced angina [Y: Yes, N: No] - **Стенокардия, вызванная физической нагрузкой**\n",
    "10. Oldpeak: oldpeak = ST [Numeric value measured in depression] - **ST в покое**\n",
    "11. ST_Slope: the slope of the peak exercise ST segment [Up: upsloping, Flat: flat, Down: downsloping] - **ST при пиковой нагрузке**\n",
    "12. HeartDisease: output class [1: heart disease, 0: Normal] - **Сердечный приступ**"
   ]
  },
  {
   "cell_type": "markdown",
   "id": "associate-award",
   "metadata": {},
   "source": [
    "## Шаг 1: Подготовка инструментов"
   ]
  },
  {
   "cell_type": "markdown",
   "id": "divided-bradley",
   "metadata": {},
   "source": [
    "### 1.1 Необходимые модули и функции"
   ]
  },
  {
   "cell_type": "code",
   "execution_count": 1,
   "id": "interstate-cylinder",
   "metadata": {},
   "outputs": [],
   "source": [
    "import dill\n",
    "import numpy as np\n",
    "import pandas as pd\n",
    "from sklearn.pipeline import Pipeline\n",
    "from sklearn.metrics import roc_auc_score, f1_score\n",
    "from sklearn.metrics import classification_report, plot_confusion_matrix\n",
    "from sklearn.model_selection import cross_val_score, GridSearchCV, StratifiedKFold\n",
    "from sklearn.neural_network import MLPClassifier\n",
    "import matplotlib.pyplot as plt\n",
    "\n",
    "\n",
    "import warnings\n",
    "warnings.filterwarnings('ignore')\n",
    "\n",
    "%matplotlib inline"
   ]
  },
  {
   "cell_type": "code",
   "execution_count": 2,
   "id": "related-trading",
   "metadata": {},
   "outputs": [],
   "source": [
    "def get_classification_report(y_train_true, y_train_pred, y_test_true, y_test_pred):\n",
    "    print('TRAIN\\n\\n' + classification_report(y_train_true, y_train_pred))\n",
    "    print('TEST\\n\\n' + classification_report(y_test_true, y_test_pred))"
   ]
  },
  {
   "cell_type": "markdown",
   "id": "instant-lighting",
   "metadata": {},
   "source": [
    "### 1.2 Загрузка пайплайна препроцессинга"
   ]
  },
  {
   "cell_type": "code",
   "execution_count": 3,
   "id": "committed-diploma",
   "metadata": {},
   "outputs": [],
   "source": [
    "with open('prep_with_cat.dill', 'rb') as prep_cat_pipeline:\n",
    "    prep_cat = dill.load(prep_cat_pipeline)"
   ]
  },
  {
   "cell_type": "markdown",
   "id": "acquired-facility",
   "metadata": {},
   "source": [
    "### 1.3 Загрузка данных"
   ]
  },
  {
   "cell_type": "code",
   "execution_count": 4,
   "id": "legitimate-electricity",
   "metadata": {},
   "outputs": [],
   "source": [
    "TRAIN_DATA_PATH = 'data/X_train.csv'\n",
    "TRAIN_TARGET_PATH = 'data/y_train.csv'\n",
    "\n",
    "TEST_DATA_PATH = 'data/X_test.csv'\n",
    "TEST_TARGET_PATH = 'data/y_test.csv'"
   ]
  },
  {
   "cell_type": "code",
   "execution_count": 5,
   "id": "collective-israeli",
   "metadata": {},
   "outputs": [
    {
     "data": {
      "text/plain": [
       "(641, 11)"
      ]
     },
     "metadata": {},
     "output_type": "display_data"
    },
    {
     "data": {
      "text/plain": [
       "(641, 1)"
      ]
     },
     "metadata": {},
     "output_type": "display_data"
    }
   ],
   "source": [
    "train_base = pd.read_csv(TRAIN_DATA_PATH)\n",
    "train = train_base.copy()\n",
    "train_target_base = pd.read_csv(TRAIN_TARGET_PATH)\n",
    "train_target = train_target_base.copy()\n",
    "display(train.shape, train_target.shape)"
   ]
  },
  {
   "cell_type": "code",
   "execution_count": 6,
   "id": "referenced-money",
   "metadata": {},
   "outputs": [
    {
     "data": {
      "text/plain": [
       "(276, 11)"
      ]
     },
     "metadata": {},
     "output_type": "display_data"
    },
    {
     "data": {
      "text/plain": [
       "(276, 1)"
      ]
     },
     "metadata": {},
     "output_type": "display_data"
    }
   ],
   "source": [
    "test_base = pd.read_csv(TEST_DATA_PATH)\n",
    "test = test_base.copy()\n",
    "test_target_base = pd.read_csv(TEST_TARGET_PATH)\n",
    "test_target = test_target_base.copy()\n",
    "display(test.shape, test_target.shape)"
   ]
  },
  {
   "cell_type": "markdown",
   "id": "finite-mention",
   "metadata": {},
   "source": [
    "## Шаг 2: Построение модели"
   ]
  },
  {
   "cell_type": "markdown",
   "id": "touched-clark",
   "metadata": {},
   "source": [
    "### 2.1 Baseline"
   ]
  },
  {
   "cell_type": "markdown",
   "id": "durable-motel",
   "metadata": {},
   "source": [
    "Обучим модель с параметрами по умолчанию на тренировочной выборке."
   ]
  },
  {
   "cell_type": "code",
   "execution_count": 7,
   "id": "static-lunch",
   "metadata": {},
   "outputs": [
    {
     "data": {
      "text/plain": [
       "Pipeline(steps=[('preprocessing',\n",
       "                 Pipeline(steps=[('preprocessor',\n",
       "                                  ColumnTransformer(transformers=[('num',\n",
       "                                                                   Pipeline(steps=[('minmax',\n",
       "                                                                                    MinMaxScaler())]),\n",
       "                                                                   ['Age',\n",
       "                                                                    'RestingBP',\n",
       "                                                                    'Cholesterol',\n",
       "                                                                    'FastingBS',\n",
       "                                                                    'MaxHR',\n",
       "                                                                    'Oldpeak']),\n",
       "                                                                  ('cat',\n",
       "                                                                   Pipeline(steps=[('ohe',\n",
       "                                                                                    OneHotEncoder(handle_unknown='ignore'))]),\n",
       "                                                                   ['Sex',\n",
       "                                                                    'ChestPainType',\n",
       "                                                                    'RestingECG',\n",
       "                                                                    'ExerciseAngina',\n",
       "                                                                    'ST_Slope'])]))])),\n",
       "                ('classifier', MLPClassifier(random_state=0))])"
      ]
     },
     "execution_count": 7,
     "metadata": {},
     "output_type": "execute_result"
    }
   ],
   "source": [
    "classifier = Pipeline([\n",
    "    ('preprocessing', prep_cat),\n",
    "    ('classifier', MLPClassifier(random_state = 0)),\n",
    "])\n",
    "\n",
    "classifier.fit(train, train_target)"
   ]
  },
  {
   "cell_type": "markdown",
   "id": "blessed-florida",
   "metadata": {},
   "source": [
    "Проверим качество полученного бейзлайна."
   ]
  },
  {
   "cell_type": "code",
   "execution_count": 8,
   "id": "alleged-alert",
   "metadata": {},
   "outputs": [
    {
     "name": "stdout",
     "output_type": "stream",
     "text": [
      "Train ROC_AUC: 0.9458946042244926\n",
      "Train F1 SCORE: 0.8966480446927375\n",
      "Test ROC_AUC: 0.9454274934906212\n",
      "Test F1 SCORE: 0.8620689655172414\n"
     ]
    }
   ],
   "source": [
    "train_pred_proba = classifier.predict_proba(train)\n",
    "train_pred = classifier.predict(train)\n",
    "test_pred_proba = classifier.predict_proba(test)\n",
    "test_pred = classifier.predict(test)\n",
    "print(f'Train ROC_AUC: {roc_auc_score(train_target, train_pred_proba.T[1])}')\n",
    "print(f'Train F1 SCORE: {f1_score(train_target, train_pred)}')\n",
    "print(f'Test ROC_AUC: {roc_auc_score(test_target, test_pred_proba.T[1])}')\n",
    "print(f'Test F1 SCORE: {f1_score(test_target, test_pred)}')"
   ]
  },
  {
   "cell_type": "code",
   "execution_count": 9,
   "id": "continuing-malawi",
   "metadata": {},
   "outputs": [
    {
     "name": "stdout",
     "output_type": "stream",
     "text": [
      "TRAIN\n",
      "\n",
      "              precision    recall  f1-score   support\n",
      "\n",
      "           0       0.88      0.86      0.87       287\n",
      "           1       0.89      0.91      0.90       354\n",
      "\n",
      "    accuracy                           0.88       641\n",
      "   macro avg       0.88      0.88      0.88       641\n",
      "weighted avg       0.88      0.88      0.88       641\n",
      "\n",
      "TEST\n",
      "\n",
      "              precision    recall  f1-score   support\n",
      "\n",
      "           0       0.80      0.90      0.85       123\n",
      "           1       0.91      0.82      0.86       153\n",
      "\n",
      "    accuracy                           0.86       276\n",
      "   macro avg       0.86      0.86      0.85       276\n",
      "weighted avg       0.86      0.86      0.86       276\n",
      "\n"
     ]
    }
   ],
   "source": [
    "get_classification_report(train_target['HeartDisease'], train_pred, test_target['HeartDisease'], test_pred)"
   ]
  },
  {
   "cell_type": "code",
   "execution_count": 10,
   "id": "parliamentary-agent",
   "metadata": {},
   "outputs": [
    {
     "data": {
      "image/png": "[encoded data removed]",
      "text/plain": [
       "<Figure size 432x288 with 2 Axes>"
      ]
     },
     "metadata": {
      "needs_background": "light"
     },
     "output_type": "display_data"
    }
   ],
   "source": [
    "plot_confusion_matrix(classifier, test, test_target['HeartDisease'], cmap=plt.cm.Blues);"
   ]
  },
  {
   "cell_type": "markdown",
   "id": "particular-scoop",
   "metadata": {},
   "source": [
    "### 2.2 Подбор гиперпараметров"
   ]
  },
  {
   "cell_type": "markdown",
   "id": "composite-legislature",
   "metadata": {},
   "source": [
    "Гиперпараметры подбираем с помощью GridSearchCV с кроссвалидацией на 5 фолдов."
   ]
  },
  {
   "cell_type": "code",
   "execution_count": 11,
   "id": "needed-steel",
   "metadata": {},
   "outputs": [
    {
     "name": "stdout",
     "output_type": "stream",
     "text": [
      "Fitting 5 folds for each of 3240 candidates, totalling 16200 fits\n"
     ]
    },
    {
     "name": "stderr",
     "output_type": "stream",
     "text": [
      "[Parallel(n_jobs=-1)]: Using backend LokyBackend with 4 concurrent workers.\n",
      "[Parallel(n_jobs=-1)]: Done  24 tasks      | elapsed:    8.0s\n",
      "[Parallel(n_jobs=-1)]: Done 120 tasks      | elapsed:   32.4s\n",
      "[Parallel(n_jobs=-1)]: Done 280 tasks      | elapsed:  1.2min\n",
      "[Parallel(n_jobs=-1)]: Done 504 tasks      | elapsed:  2.1min\n",
      "[Parallel(n_jobs=-1)]: Done 792 tasks      | elapsed:  3.5min\n",
      "[Parallel(n_jobs=-1)]: Done 1144 tasks      | elapsed:  5.4min\n",
      "[Parallel(n_jobs=-1)]: Done 1560 tasks      | elapsed:  7.9min\n",
      "[Parallel(n_jobs=-1)]: Done 2040 tasks      | elapsed: 10.2min\n",
      "[Parallel(n_jobs=-1)]: Done 2584 tasks      | elapsed: 12.6min\n",
      "[Parallel(n_jobs=-1)]: Done 3192 tasks      | elapsed: 16.0min\n",
      "[Parallel(n_jobs=-1)]: Done 3864 tasks      | elapsed: 20.0min\n",
      "[Parallel(n_jobs=-1)]: Done 4600 tasks      | elapsed: 23.4min\n",
      "[Parallel(n_jobs=-1)]: Done 5400 tasks      | elapsed: 28.4min\n",
      "[Parallel(n_jobs=-1)]: Done 6264 tasks      | elapsed: 32.1min\n",
      "[Parallel(n_jobs=-1)]: Done 7192 tasks      | elapsed: 37.7min\n",
      "[Parallel(n_jobs=-1)]: Done 8184 tasks      | elapsed: 42.1min\n",
      "[Parallel(n_jobs=-1)]: Done 9240 tasks      | elapsed: 48.2min\n",
      "[Parallel(n_jobs=-1)]: Done 10360 tasks      | elapsed: 53.9min\n",
      "[Parallel(n_jobs=-1)]: Done 11544 tasks      | elapsed: 59.6min\n",
      "[Parallel(n_jobs=-1)]: Done 12792 tasks      | elapsed: 67.0min\n",
      "[Parallel(n_jobs=-1)]: Done 14104 tasks      | elapsed: 74.9min\n",
      "[Parallel(n_jobs=-1)]: Done 15480 tasks      | elapsed: 83.0min\n",
      "[Parallel(n_jobs=-1)]: Done 16200 out of 16200 | elapsed: 88.4min finished\n"
     ]
    },
    {
     "name": "stdout",
     "output_type": "stream",
     "text": [
      "CPU times: user 1min 35s, sys: 4.52 s, total: 1min 39s\n",
      "Wall time: 1h 28min 25s\n"
     ]
    },
    {
     "data": {
      "text/plain": [
       "Pipeline(steps=[('preprocessing',\n",
       "                 Pipeline(steps=[('preprocessor',\n",
       "                                  ColumnTransformer(transformers=[('num',\n",
       "                                                                   Pipeline(steps=[('minmax',\n",
       "                                                                                    MinMaxScaler())]),\n",
       "                                                                   ['Age',\n",
       "                                                                    'RestingBP',\n",
       "                                                                    'Cholesterol',\n",
       "                                                                    'FastingBS',\n",
       "                                                                    'MaxHR',\n",
       "                                                                    'Oldpeak']),\n",
       "                                                                  ('cat',\n",
       "                                                                   Pipeline(steps=[('ohe',\n",
       "                                                                                    OneHotEncoder(handle_unknown='ignore'))]),\n",
       "                                                                   ['Sex',\n",
       "                                                                    'ChestPainType',\n",
       "                                                                    'RestingECG',\n",
       "                                                                    'ExerciseAngina',\n",
       "                                                                    'ST_Slope'])...\n",
       "                 GridSearchCV(cv=StratifiedKFold(n_splits=5, random_state=0, shuffle=True),\n",
       "                              estimator=MLPClassifier(random_state=0),\n",
       "                              n_jobs=-1,\n",
       "                              param_grid={'alpha': array([1.e-01, 1.e-02, 1.e-03, 1.e-04, 1.e-05, 1.e-06, 1.e-07, 1.e-08,\n",
       "       1.e-09]),\n",
       "                                          'hidden_layer_sizes': array([ 5,  6,  7,  8,  9, 10, 11, 12, 13, 14]),\n",
       "                                          'learning_rate': ['adaptive',\n",
       "                                                            'constant',\n",
       "                                                            'invscaling'],\n",
       "                                          'max_iter': [500, 1000, 1500, 2000],\n",
       "                                          'solver': ['lbfgs', 'sgd', 'adam']},\n",
       "                              scoring='f1', verbose=3))])"
      ]
     },
     "execution_count": 11,
     "metadata": {},
     "output_type": "execute_result"
    }
   ],
   "source": [
    "%%time\n",
    "cv = StratifiedKFold(n_splits=5, random_state=0, shuffle=True)\n",
    "\n",
    "frozen_params = {\n",
    "    'random_state': 0\n",
    "}\n",
    "parameters = {\n",
    "    'solver': ['lbfgs', 'sgd', 'adam'], \n",
    "    'max_iter': [500, 1000, 1500, 2000], \n",
    "    'alpha': 10.0 ** -np.arange(1, 10), \n",
    "    'hidden_layer_sizes':np.arange(5, 15),\n",
    "    'learning_rate': ['adaptive', 'constant', 'invscaling']\n",
    "}\n",
    "\n",
    "clf = GridSearchCV(MLPClassifier(**frozen_params), parameters, n_jobs=-1, verbose=3, scoring='f1' ,cv=cv)\n",
    "\n",
    "classifier = Pipeline([\n",
    "    ('preprocessing', prep_cat),\n",
    "    ('classifier', clf),\n",
    "])\n",
    "classifier.fit(train, train_target)"
   ]
  },
  {
   "cell_type": "markdown",
   "id": "proprietary-institution",
   "metadata": {},
   "source": [
    "### 2.3 Итоговая модель"
   ]
  },
  {
   "cell_type": "markdown",
   "id": "special-separation",
   "metadata": {},
   "source": [
    "Обучим модель с лучшими параметрами на тренировочной выборке и посмотрим итоговое качество на тестовой выборке."
   ]
  },
  {
   "cell_type": "code",
   "execution_count": 12,
   "id": "industrial-picking",
   "metadata": {},
   "outputs": [
    {
     "name": "stdout",
     "output_type": "stream",
     "text": [
      "0.8740204027346126\n",
      "{'alpha': 0.1, 'hidden_layer_sizes': 9, 'learning_rate': 'adaptive', 'max_iter': 500, 'solver': 'sgd'}\n"
     ]
    }
   ],
   "source": [
    "print(clf.best_score_)\n",
    "print(clf.best_params_)"
   ]
  },
  {
   "cell_type": "code",
   "execution_count": 13,
   "id": "bigger-cannon",
   "metadata": {},
   "outputs": [
    {
     "data": {
      "text/plain": [
       "Pipeline(steps=[('preprocessing',\n",
       "                 Pipeline(steps=[('preprocessor',\n",
       "                                  ColumnTransformer(transformers=[('num',\n",
       "                                                                   Pipeline(steps=[('minmax',\n",
       "                                                                                    MinMaxScaler())]),\n",
       "                                                                   ['Age',\n",
       "                                                                    'RestingBP',\n",
       "                                                                    'Cholesterol',\n",
       "                                                                    'FastingBS',\n",
       "                                                                    'MaxHR',\n",
       "                                                                    'Oldpeak']),\n",
       "                                                                  ('cat',\n",
       "                                                                   Pipeline(steps=[('ohe',\n",
       "                                                                                    OneHotEncoder(handle_unknown='ignore'))]),\n",
       "                                                                   ['Sex',\n",
       "                                                                    'ChestPainType',\n",
       "                                                                    'RestingECG',\n",
       "                                                                    'ExerciseAngina',\n",
       "                                                                    'ST_Slope'])]))])),\n",
       "                ('classifier',\n",
       "                 MLPClassifier(alpha=0.1, hidden_layer_sizes=9,\n",
       "                               learning_rate='adaptive', max_iter=500,\n",
       "                               random_state=0, solver='sgd'))])"
      ]
     },
     "execution_count": 13,
     "metadata": {},
     "output_type": "execute_result"
    }
   ],
   "source": [
    "classifier = Pipeline([\n",
    "    ('preprocessing', prep_cat),\n",
    "    ('classifier', MLPClassifier(**clf.best_params_, random_state = 0)),\n",
    "])\n",
    "classifier.fit(train, train_target)"
   ]
  },
  {
   "cell_type": "code",
   "execution_count": 14,
   "id": "super-amateur",
   "metadata": {},
   "outputs": [],
   "source": [
    "train_pred_proba = classifier.predict_proba(train)\n",
    "train_pred = classifier.predict(train)\n",
    "test_pred_proba = classifier.predict_proba(test)\n",
    "test_pred = classifier.predict(test)"
   ]
  },
  {
   "cell_type": "code",
   "execution_count": 15,
   "id": "sporting-limitation",
   "metadata": {},
   "outputs": [
    {
     "name": "stdout",
     "output_type": "stream",
     "text": [
      "TRAIN\n",
      "\n",
      "              precision    recall  f1-score   support\n",
      "\n",
      "           0       0.86      0.82      0.84       287\n",
      "           1       0.86      0.89      0.87       354\n",
      "\n",
      "    accuracy                           0.86       641\n",
      "   macro avg       0.86      0.85      0.85       641\n",
      "weighted avg       0.86      0.86      0.86       641\n",
      "\n",
      "TEST\n",
      "\n",
      "              precision    recall  f1-score   support\n",
      "\n",
      "           0       0.83      0.90      0.86       123\n",
      "           1       0.92      0.85      0.88       153\n",
      "\n",
      "    accuracy                           0.87       276\n",
      "   macro avg       0.87      0.88      0.87       276\n",
      "weighted avg       0.88      0.87      0.87       276\n",
      "\n"
     ]
    }
   ],
   "source": [
    "get_classification_report(train_target['HeartDisease'], train_pred, test_target['HeartDisease'], test_pred)"
   ]
  },
  {
   "cell_type": "code",
   "execution_count": 16,
   "id": "developmental-framework",
   "metadata": {},
   "outputs": [
    {
     "data": {
      "image/png": "[encoded data removed]",
      "text/plain": [
       "<Figure size 432x288 with 2 Axes>"
      ]
     },
     "metadata": {
      "needs_background": "light"
     },
     "output_type": "display_data"
    }
   ],
   "source": [
    "plot_confusion_matrix(classifier, test, test_target['HeartDisease'], cmap=plt.cm.Blues);"
   ]
  },
  {
   "cell_type": "markdown",
   "id": "general-syracuse",
   "metadata": {},
   "source": [
    "По сравнению с бейзлайном, качество на тестовой выборке увеличилось. Сохраним полученную модель."
   ]
  },
  {
   "cell_type": "markdown",
   "id": "unknown-organization",
   "metadata": {},
   "source": [
    "## Шаг 3: Сохранение обученной модели"
   ]
  },
  {
   "cell_type": "code",
   "execution_count": 17,
   "id": "multiple-finger",
   "metadata": {},
   "outputs": [],
   "source": [
    "with open(\"model_MLPClassifier.dill\", \"wb\") as f:\n",
    "    dill.dump(classifier, f)"
   ]
  }
 ],
 "metadata": {
  "kernelspec": {
   "display_name": "Python 3",
   "language": "python",
   "name": "python3"
  },
  "language_info": {
   "codemirror_mode": {
    "name": "ipython",
    "version": 3
   },
   "file_extension": ".py",
   "mimetype": "text/x-python",
   "name": "python",
   "nbconvert_exporter": "python",
   "pygments_lexer": "ipython3",
   "version": "3.7.8"
  }
 },
 "nbformat": 4,
 "nbformat_minor": 5
}
